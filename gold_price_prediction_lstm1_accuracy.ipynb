{
  "cells": [
    {
      "cell_type": "markdown",
      "id": "d3a2c22d",
      "metadata": {
        "papermill": {
          "duration": 0.018827,
          "end_time": "2023-01-13T21:38:46.537110",
          "exception": false,
          "start_time": "2023-01-13T21:38:46.518283",
          "status": "completed"
        },
        "tags": [],
        "id": "d3a2c22d"
      },
      "source": [
        "# Step 1: Importing Libraries"
      ]
    },
    {
      "cell_type": "code",
      "execution_count": 5,
      "id": "5fc2d8b9",
      "metadata": {
        "execution": {
          "iopub.execute_input": "2023-01-13T21:38:46.577807Z",
          "iopub.status.busy": "2023-01-13T21:38:46.577204Z",
          "iopub.status.idle": "2023-01-13T21:38:54.000496Z",
          "shell.execute_reply": "2023-01-13T21:38:53.999421Z"
        },
        "papermill": {
          "duration": 7.44769,
          "end_time": "2023-01-13T21:38:54.003817",
          "exception": false,
          "start_time": "2023-01-13T21:38:46.556127",
          "status": "completed"
        },
        "tags": [],
        "id": "5fc2d8b9"
      },
      "outputs": [],
      "source": [
        "import numpy as np\n",
        "import pandas as pd\n",
        "import matplotlib.pyplot as plt\n",
        "import plotly.express as px\n",
        "from sklearn.preprocessing import MinMaxScaler\n",
        "from sklearn.model_selection import train_test_split\n",
        "from sklearn.metrics import mean_absolute_percentage_error\n",
        "import tensorflow as tf\n",
        "from keras import Model\n",
        "from keras.layers import Input, Dense, Dropout\n",
        "from keras.layers import LSTM"
      ]
    },
    {
      "cell_type": "markdown",
      "id": "5b875a98",
      "metadata": {
        "papermill": {
          "duration": 0.018727,
          "end_time": "2023-01-13T21:38:54.042369",
          "exception": false,
          "start_time": "2023-01-13T21:38:54.023642",
          "status": "completed"
        },
        "tags": [],
        "id": "5b875a98"
      },
      "source": [
        "# Step 2: Reading Dataset"
      ]
    },
    {
      "cell_type": "code",
      "execution_count": 7,
      "id": "a4b66d72",
      "metadata": {
        "execution": {
          "iopub.execute_input": "2023-01-13T21:38:54.084200Z",
          "iopub.status.busy": "2023-01-13T21:38:54.082725Z",
          "iopub.status.idle": "2023-01-13T21:38:54.111867Z",
          "shell.execute_reply": "2023-01-13T21:38:54.110928Z"
        },
        "papermill": {
          "duration": 0.052309,
          "end_time": "2023-01-13T21:38:54.114358",
          "exception": false,
          "start_time": "2023-01-13T21:38:54.062049",
          "status": "completed"
        },
        "tags": [],
        "id": "a4b66d72"
      },
      "outputs": [],
      "source": [
        "df = pd.read_csv('/content/drive/MyDrive/project/gld_price_data.csv')"
      ]
    },
    {
      "cell_type": "code",
      "source": [
        "from google.colab import drive\n",
        "drive.mount('/content/drive')"
      ],
      "metadata": {
        "colab": {
          "base_uri": "https://localhost:8080/"
        },
        "id": "sqsMFsoTWg7y",
        "outputId": "279e016c-4288-4a15-b2b7-0108449c08b0"
      },
      "id": "sqsMFsoTWg7y",
      "execution_count": 8,
      "outputs": [
        {
          "output_type": "stream",
          "name": "stdout",
          "text": [
            "Drive already mounted at /content/drive; to attempt to forcibly remount, call drive.mount(\"/content/drive\", force_remount=True).\n"
          ]
        }
      ]
    },
    {
      "cell_type": "markdown",
      "id": "c3e14b4d",
      "metadata": {
        "papermill": {
          "duration": 0.018645,
          "end_time": "2023-01-13T21:38:54.152384",
          "exception": false,
          "start_time": "2023-01-13T21:38:54.133739",
          "status": "completed"
        },
        "tags": [],
        "id": "c3e14b4d"
      },
      "source": [
        "# Step 3: Dataset Overview"
      ]
    },
    {
      "cell_type": "code",
      "execution_count": 9,
      "id": "5f758f97",
      "metadata": {
        "execution": {
          "iopub.execute_input": "2023-01-13T21:38:54.192666Z",
          "iopub.status.busy": "2023-01-13T21:38:54.192011Z",
          "iopub.status.idle": "2023-01-13T21:38:54.217121Z",
          "shell.execute_reply": "2023-01-13T21:38:54.216004Z"
        },
        "papermill": {
          "duration": 0.048071,
          "end_time": "2023-01-13T21:38:54.219630",
          "exception": false,
          "start_time": "2023-01-13T21:38:54.171559",
          "status": "completed"
        },
        "tags": [],
        "id": "5f758f97",
        "outputId": "bb5910cf-3ea0-4a88-d5cc-abe9b421c3a2",
        "colab": {
          "base_uri": "https://localhost:8080/",
          "height": 424
        }
      },
      "outputs": [
        {
          "output_type": "execute_result",
          "data": {
            "text/plain": [
              "           Date          SPX         GLD        USO      SLV   EUR/USD\n",
              "0      1/2/2008  1447.160034   84.860001  78.470001  15.1800  1.471692\n",
              "1      1/3/2008  1447.160034   85.570000  78.370003  15.2850  1.474491\n",
              "2      1/4/2008  1411.630005   85.129997  77.309998  15.1670  1.475492\n",
              "3      1/7/2008  1416.180054   84.769997  75.500000  15.0530  1.468299\n",
              "4      1/8/2008  1390.189941   86.779999  76.059998  15.5900  1.557099\n",
              "...         ...          ...         ...        ...      ...       ...\n",
              "2285   5/8/2018  2671.919922  124.589996  14.060000  15.5100  1.186789\n",
              "2286   5/9/2018  2697.790039  124.330002  14.370000  15.5300  1.184722\n",
              "2287  5/10/2018  2723.070068  125.180000  14.410000  15.7400  1.191753\n",
              "2288  5/14/2018  2730.129883  124.489998  14.380000  15.5600  1.193118\n",
              "2289  5/16/2018  2725.780029  122.543800  14.405800  15.4542  1.182033\n",
              "\n",
              "[2290 rows x 6 columns]"
            ],
            "text/html": [
              "\n",
              "  <div id=\"df-0453b904-35ed-46ab-a270-24d7f0bf01a4\" class=\"colab-df-container\">\n",
              "    <div>\n",
              "<style scoped>\n",
              "    .dataframe tbody tr th:only-of-type {\n",
              "        vertical-align: middle;\n",
              "    }\n",
              "\n",
              "    .dataframe tbody tr th {\n",
              "        vertical-align: top;\n",
              "    }\n",
              "\n",
              "    .dataframe thead th {\n",
              "        text-align: right;\n",
              "    }\n",
              "</style>\n",
              "<table border=\"1\" class=\"dataframe\">\n",
              "  <thead>\n",
              "    <tr style=\"text-align: right;\">\n",
              "      <th></th>\n",
              "      <th>Date</th>\n",
              "      <th>SPX</th>\n",
              "      <th>GLD</th>\n",
              "      <th>USO</th>\n",
              "      <th>SLV</th>\n",
              "      <th>EUR/USD</th>\n",
              "    </tr>\n",
              "  </thead>\n",
              "  <tbody>\n",
              "    <tr>\n",
              "      <th>0</th>\n",
              "      <td>1/2/2008</td>\n",
              "      <td>1447.160034</td>\n",
              "      <td>84.860001</td>\n",
              "      <td>78.470001</td>\n",
              "      <td>15.1800</td>\n",
              "      <td>1.471692</td>\n",
              "    </tr>\n",
              "    <tr>\n",
              "      <th>1</th>\n",
              "      <td>1/3/2008</td>\n",
              "      <td>1447.160034</td>\n",
              "      <td>85.570000</td>\n",
              "      <td>78.370003</td>\n",
              "      <td>15.2850</td>\n",
              "      <td>1.474491</td>\n",
              "    </tr>\n",
              "    <tr>\n",
              "      <th>2</th>\n",
              "      <td>1/4/2008</td>\n",
              "      <td>1411.630005</td>\n",
              "      <td>85.129997</td>\n",
              "      <td>77.309998</td>\n",
              "      <td>15.1670</td>\n",
              "      <td>1.475492</td>\n",
              "    </tr>\n",
              "    <tr>\n",
              "      <th>3</th>\n",
              "      <td>1/7/2008</td>\n",
              "      <td>1416.180054</td>\n",
              "      <td>84.769997</td>\n",
              "      <td>75.500000</td>\n",
              "      <td>15.0530</td>\n",
              "      <td>1.468299</td>\n",
              "    </tr>\n",
              "    <tr>\n",
              "      <th>4</th>\n",
              "      <td>1/8/2008</td>\n",
              "      <td>1390.189941</td>\n",
              "      <td>86.779999</td>\n",
              "      <td>76.059998</td>\n",
              "      <td>15.5900</td>\n",
              "      <td>1.557099</td>\n",
              "    </tr>\n",
              "    <tr>\n",
              "      <th>...</th>\n",
              "      <td>...</td>\n",
              "      <td>...</td>\n",
              "      <td>...</td>\n",
              "      <td>...</td>\n",
              "      <td>...</td>\n",
              "      <td>...</td>\n",
              "    </tr>\n",
              "    <tr>\n",
              "      <th>2285</th>\n",
              "      <td>5/8/2018</td>\n",
              "      <td>2671.919922</td>\n",
              "      <td>124.589996</td>\n",
              "      <td>14.060000</td>\n",
              "      <td>15.5100</td>\n",
              "      <td>1.186789</td>\n",
              "    </tr>\n",
              "    <tr>\n",
              "      <th>2286</th>\n",
              "      <td>5/9/2018</td>\n",
              "      <td>2697.790039</td>\n",
              "      <td>124.330002</td>\n",
              "      <td>14.370000</td>\n",
              "      <td>15.5300</td>\n",
              "      <td>1.184722</td>\n",
              "    </tr>\n",
              "    <tr>\n",
              "      <th>2287</th>\n",
              "      <td>5/10/2018</td>\n",
              "      <td>2723.070068</td>\n",
              "      <td>125.180000</td>\n",
              "      <td>14.410000</td>\n",
              "      <td>15.7400</td>\n",
              "      <td>1.191753</td>\n",
              "    </tr>\n",
              "    <tr>\n",
              "      <th>2288</th>\n",
              "      <td>5/14/2018</td>\n",
              "      <td>2730.129883</td>\n",
              "      <td>124.489998</td>\n",
              "      <td>14.380000</td>\n",
              "      <td>15.5600</td>\n",
              "      <td>1.193118</td>\n",
              "    </tr>\n",
              "    <tr>\n",
              "      <th>2289</th>\n",
              "      <td>5/16/2018</td>\n",
              "      <td>2725.780029</td>\n",
              "      <td>122.543800</td>\n",
              "      <td>14.405800</td>\n",
              "      <td>15.4542</td>\n",
              "      <td>1.182033</td>\n",
              "    </tr>\n",
              "  </tbody>\n",
              "</table>\n",
              "<p>2290 rows × 6 columns</p>\n",
              "</div>\n",
              "    <div class=\"colab-df-buttons\">\n",
              "\n",
              "  <div class=\"colab-df-container\">\n",
              "    <button class=\"colab-df-convert\" onclick=\"convertToInteractive('df-0453b904-35ed-46ab-a270-24d7f0bf01a4')\"\n",
              "            title=\"Convert this dataframe to an interactive table.\"\n",
              "            style=\"display:none;\">\n",
              "\n",
              "  <svg xmlns=\"http://www.w3.org/2000/svg\" height=\"24px\" viewBox=\"0 -960 960 960\">\n",
              "    <path d=\"M120-120v-720h720v720H120Zm60-500h600v-160H180v160Zm220 220h160v-160H400v160Zm0 220h160v-160H400v160ZM180-400h160v-160H180v160Zm440 0h160v-160H620v160ZM180-180h160v-160H180v160Zm440 0h160v-160H620v160Z\"/>\n",
              "  </svg>\n",
              "    </button>\n",
              "\n",
              "  <style>\n",
              "    .colab-df-container {\n",
              "      display:flex;\n",
              "      gap: 12px;\n",
              "    }\n",
              "\n",
              "    .colab-df-convert {\n",
              "      background-color: #E8F0FE;\n",
              "      border: none;\n",
              "      border-radius: 50%;\n",
              "      cursor: pointer;\n",
              "      display: none;\n",
              "      fill: #1967D2;\n",
              "      height: 32px;\n",
              "      padding: 0 0 0 0;\n",
              "      width: 32px;\n",
              "    }\n",
              "\n",
              "    .colab-df-convert:hover {\n",
              "      background-color: #E2EBFA;\n",
              "      box-shadow: 0px 1px 2px rgba(60, 64, 67, 0.3), 0px 1px 3px 1px rgba(60, 64, 67, 0.15);\n",
              "      fill: #174EA6;\n",
              "    }\n",
              "\n",
              "    .colab-df-buttons div {\n",
              "      margin-bottom: 4px;\n",
              "    }\n",
              "\n",
              "    [theme=dark] .colab-df-convert {\n",
              "      background-color: #3B4455;\n",
              "      fill: #D2E3FC;\n",
              "    }\n",
              "\n",
              "    [theme=dark] .colab-df-convert:hover {\n",
              "      background-color: #434B5C;\n",
              "      box-shadow: 0px 1px 3px 1px rgba(0, 0, 0, 0.15);\n",
              "      filter: drop-shadow(0px 1px 2px rgba(0, 0, 0, 0.3));\n",
              "      fill: #FFFFFF;\n",
              "    }\n",
              "  </style>\n",
              "\n",
              "    <script>\n",
              "      const buttonEl =\n",
              "        document.querySelector('#df-0453b904-35ed-46ab-a270-24d7f0bf01a4 button.colab-df-convert');\n",
              "      buttonEl.style.display =\n",
              "        google.colab.kernel.accessAllowed ? 'block' : 'none';\n",
              "\n",
              "      async function convertToInteractive(key) {\n",
              "        const element = document.querySelector('#df-0453b904-35ed-46ab-a270-24d7f0bf01a4');\n",
              "        const dataTable =\n",
              "          await google.colab.kernel.invokeFunction('convertToInteractive',\n",
              "                                                    [key], {});\n",
              "        if (!dataTable) return;\n",
              "\n",
              "        const docLinkHtml = 'Like what you see? Visit the ' +\n",
              "          '<a target=\"_blank\" href=https://colab.research.google.com/notebooks/data_table.ipynb>data table notebook</a>'\n",
              "          + ' to learn more about interactive tables.';\n",
              "        element.innerHTML = '';\n",
              "        dataTable['output_type'] = 'display_data';\n",
              "        await google.colab.output.renderOutput(dataTable, element);\n",
              "        const docLink = document.createElement('div');\n",
              "        docLink.innerHTML = docLinkHtml;\n",
              "        element.appendChild(docLink);\n",
              "      }\n",
              "    </script>\n",
              "  </div>\n",
              "\n",
              "\n",
              "<div id=\"df-78a19207-0166-4b96-8b59-10911852300c\">\n",
              "  <button class=\"colab-df-quickchart\" onclick=\"quickchart('df-78a19207-0166-4b96-8b59-10911852300c')\"\n",
              "            title=\"Suggest charts\"\n",
              "            style=\"display:none;\">\n",
              "\n",
              "<svg xmlns=\"http://www.w3.org/2000/svg\" height=\"24px\"viewBox=\"0 0 24 24\"\n",
              "     width=\"24px\">\n",
              "    <g>\n",
              "        <path d=\"M19 3H5c-1.1 0-2 .9-2 2v14c0 1.1.9 2 2 2h14c1.1 0 2-.9 2-2V5c0-1.1-.9-2-2-2zM9 17H7v-7h2v7zm4 0h-2V7h2v10zm4 0h-2v-4h2v4z\"/>\n",
              "    </g>\n",
              "</svg>\n",
              "  </button>\n",
              "\n",
              "<style>\n",
              "  .colab-df-quickchart {\n",
              "      --bg-color: #E8F0FE;\n",
              "      --fill-color: #1967D2;\n",
              "      --hover-bg-color: #E2EBFA;\n",
              "      --hover-fill-color: #174EA6;\n",
              "      --disabled-fill-color: #AAA;\n",
              "      --disabled-bg-color: #DDD;\n",
              "  }\n",
              "\n",
              "  [theme=dark] .colab-df-quickchart {\n",
              "      --bg-color: #3B4455;\n",
              "      --fill-color: #D2E3FC;\n",
              "      --hover-bg-color: #434B5C;\n",
              "      --hover-fill-color: #FFFFFF;\n",
              "      --disabled-bg-color: #3B4455;\n",
              "      --disabled-fill-color: #666;\n",
              "  }\n",
              "\n",
              "  .colab-df-quickchart {\n",
              "    background-color: var(--bg-color);\n",
              "    border: none;\n",
              "    border-radius: 50%;\n",
              "    cursor: pointer;\n",
              "    display: none;\n",
              "    fill: var(--fill-color);\n",
              "    height: 32px;\n",
              "    padding: 0;\n",
              "    width: 32px;\n",
              "  }\n",
              "\n",
              "  .colab-df-quickchart:hover {\n",
              "    background-color: var(--hover-bg-color);\n",
              "    box-shadow: 0 1px 2px rgba(60, 64, 67, 0.3), 0 1px 3px 1px rgba(60, 64, 67, 0.15);\n",
              "    fill: var(--button-hover-fill-color);\n",
              "  }\n",
              "\n",
              "  .colab-df-quickchart-complete:disabled,\n",
              "  .colab-df-quickchart-complete:disabled:hover {\n",
              "    background-color: var(--disabled-bg-color);\n",
              "    fill: var(--disabled-fill-color);\n",
              "    box-shadow: none;\n",
              "  }\n",
              "\n",
              "  .colab-df-spinner {\n",
              "    border: 2px solid var(--fill-color);\n",
              "    border-color: transparent;\n",
              "    border-bottom-color: var(--fill-color);\n",
              "    animation:\n",
              "      spin 1s steps(1) infinite;\n",
              "  }\n",
              "\n",
              "  @keyframes spin {\n",
              "    0% {\n",
              "      border-color: transparent;\n",
              "      border-bottom-color: var(--fill-color);\n",
              "      border-left-color: var(--fill-color);\n",
              "    }\n",
              "    20% {\n",
              "      border-color: transparent;\n",
              "      border-left-color: var(--fill-color);\n",
              "      border-top-color: var(--fill-color);\n",
              "    }\n",
              "    30% {\n",
              "      border-color: transparent;\n",
              "      border-left-color: var(--fill-color);\n",
              "      border-top-color: var(--fill-color);\n",
              "      border-right-color: var(--fill-color);\n",
              "    }\n",
              "    40% {\n",
              "      border-color: transparent;\n",
              "      border-right-color: var(--fill-color);\n",
              "      border-top-color: var(--fill-color);\n",
              "    }\n",
              "    60% {\n",
              "      border-color: transparent;\n",
              "      border-right-color: var(--fill-color);\n",
              "    }\n",
              "    80% {\n",
              "      border-color: transparent;\n",
              "      border-right-color: var(--fill-color);\n",
              "      border-bottom-color: var(--fill-color);\n",
              "    }\n",
              "    90% {\n",
              "      border-color: transparent;\n",
              "      border-bottom-color: var(--fill-color);\n",
              "    }\n",
              "  }\n",
              "</style>\n",
              "\n",
              "  <script>\n",
              "    async function quickchart(key) {\n",
              "      const quickchartButtonEl =\n",
              "        document.querySelector('#' + key + ' button');\n",
              "      quickchartButtonEl.disabled = true;  // To prevent multiple clicks.\n",
              "      quickchartButtonEl.classList.add('colab-df-spinner');\n",
              "      try {\n",
              "        const charts = await google.colab.kernel.invokeFunction(\n",
              "            'suggestCharts', [key], {});\n",
              "      } catch (error) {\n",
              "        console.error('Error during call to suggestCharts:', error);\n",
              "      }\n",
              "      quickchartButtonEl.classList.remove('colab-df-spinner');\n",
              "      quickchartButtonEl.classList.add('colab-df-quickchart-complete');\n",
              "    }\n",
              "    (() => {\n",
              "      let quickchartButtonEl =\n",
              "        document.querySelector('#df-78a19207-0166-4b96-8b59-10911852300c button');\n",
              "      quickchartButtonEl.style.display =\n",
              "        google.colab.kernel.accessAllowed ? 'block' : 'none';\n",
              "    })();\n",
              "  </script>\n",
              "</div>\n",
              "\n",
              "  <div id=\"id_5aade793-6a5a-4584-a1f4-7a10916046bd\">\n",
              "    <style>\n",
              "      .colab-df-generate {\n",
              "        background-color: #E8F0FE;\n",
              "        border: none;\n",
              "        border-radius: 50%;\n",
              "        cursor: pointer;\n",
              "        display: none;\n",
              "        fill: #1967D2;\n",
              "        height: 32px;\n",
              "        padding: 0 0 0 0;\n",
              "        width: 32px;\n",
              "      }\n",
              "\n",
              "      .colab-df-generate:hover {\n",
              "        background-color: #E2EBFA;\n",
              "        box-shadow: 0px 1px 2px rgba(60, 64, 67, 0.3), 0px 1px 3px 1px rgba(60, 64, 67, 0.15);\n",
              "        fill: #174EA6;\n",
              "      }\n",
              "\n",
              "      [theme=dark] .colab-df-generate {\n",
              "        background-color: #3B4455;\n",
              "        fill: #D2E3FC;\n",
              "      }\n",
              "\n",
              "      [theme=dark] .colab-df-generate:hover {\n",
              "        background-color: #434B5C;\n",
              "        box-shadow: 0px 1px 3px 1px rgba(0, 0, 0, 0.15);\n",
              "        filter: drop-shadow(0px 1px 2px rgba(0, 0, 0, 0.3));\n",
              "        fill: #FFFFFF;\n",
              "      }\n",
              "    </style>\n",
              "    <button class=\"colab-df-generate\" onclick=\"generateWithVariable('df')\"\n",
              "            title=\"Generate code using this dataframe.\"\n",
              "            style=\"display:none;\">\n",
              "\n",
              "  <svg xmlns=\"http://www.w3.org/2000/svg\" height=\"24px\"viewBox=\"0 0 24 24\"\n",
              "       width=\"24px\">\n",
              "    <path d=\"M7,19H8.4L18.45,9,17,7.55,7,17.6ZM5,21V16.75L18.45,3.32a2,2,0,0,1,2.83,0l1.4,1.43a1.91,1.91,0,0,1,.58,1.4,1.91,1.91,0,0,1-.58,1.4L9.25,21ZM18.45,9,17,7.55Zm-12,3A5.31,5.31,0,0,0,4.9,8.1,5.31,5.31,0,0,0,1,6.5,5.31,5.31,0,0,0,4.9,4.9,5.31,5.31,0,0,0,6.5,1,5.31,5.31,0,0,0,8.1,4.9,5.31,5.31,0,0,0,12,6.5,5.46,5.46,0,0,0,6.5,12Z\"/>\n",
              "  </svg>\n",
              "    </button>\n",
              "    <script>\n",
              "      (() => {\n",
              "      const buttonEl =\n",
              "        document.querySelector('#id_5aade793-6a5a-4584-a1f4-7a10916046bd button.colab-df-generate');\n",
              "      buttonEl.style.display =\n",
              "        google.colab.kernel.accessAllowed ? 'block' : 'none';\n",
              "\n",
              "      buttonEl.onclick = () => {\n",
              "        google.colab.notebook.generateWithVariable('df');\n",
              "      }\n",
              "      })();\n",
              "    </script>\n",
              "  </div>\n",
              "\n",
              "    </div>\n",
              "  </div>\n"
            ],
            "application/vnd.google.colaboratory.intrinsic+json": {
              "type": "dataframe",
              "variable_name": "df",
              "summary": "{\n  \"name\": \"df\",\n  \"rows\": 2290,\n  \"fields\": [\n    {\n      \"column\": \"Date\",\n      \"properties\": {\n        \"dtype\": \"object\",\n        \"num_unique_values\": 2290,\n        \"samples\": [\n          \"11/24/2017\",\n          \"10/24/2013\",\n          \"10/21/2013\"\n        ],\n        \"semantic_type\": \"\",\n        \"description\": \"\"\n      }\n    },\n    {\n      \"column\": \"SPX\",\n      \"properties\": {\n        \"dtype\": \"number\",\n        \"std\": 519.1115402032957,\n        \"min\": 676.530029,\n        \"max\": 2872.870117,\n        \"num_unique_values\": 2277,\n        \"samples\": [\n          1339.219971,\n          1137.140015,\n          1325.76001\n        ],\n        \"semantic_type\": \"\",\n        \"description\": \"\"\n      }\n    },\n    {\n      \"column\": \"GLD\",\n      \"properties\": {\n        \"dtype\": \"number\",\n        \"std\": 23.283345747117536,\n        \"min\": 70.0,\n        \"max\": 184.589996,\n        \"num_unique_values\": 1930,\n        \"samples\": [\n          118.279999,\n          120.099998,\n          120.32\n        ],\n        \"semantic_type\": \"\",\n        \"description\": \"\"\n      }\n    },\n    {\n      \"column\": \"USO\",\n      \"properties\": {\n        \"dtype\": \"number\",\n        \"std\": 19.523517029775025,\n        \"min\": 7.96,\n        \"max\": 117.480003,\n        \"num_unique_values\": 1514,\n        \"samples\": [\n          82.290001,\n          53.84,\n          13.22\n        ],\n        \"semantic_type\": \"\",\n        \"description\": \"\"\n      }\n    },\n    {\n      \"column\": \"SLV\",\n      \"properties\": {\n        \"dtype\": \"number\",\n        \"std\": 7.092566374075397,\n        \"min\": 8.85,\n        \"max\": 47.259998,\n        \"num_unique_values\": 1331,\n        \"samples\": [\n          22.889999,\n          14.92,\n          13.37\n        ],\n        \"semantic_type\": \"\",\n        \"description\": \"\"\n      }\n    },\n    {\n      \"column\": \"EUR/USD\",\n      \"properties\": {\n        \"dtype\": \"number\",\n        \"std\": 0.13154721612113993,\n        \"min\": 1.039047,\n        \"max\": 1.598798,\n        \"num_unique_values\": 2066,\n        \"samples\": [\n          1.094355,\n          1.185986,\n          1.248003\n        ],\n        \"semantic_type\": \"\",\n        \"description\": \"\"\n      }\n    }\n  ]\n}"
            }
          },
          "metadata": {},
          "execution_count": 9
        }
      ],
      "source": [
        "df"
      ]
    },
    {
      "cell_type": "markdown",
      "id": "3af32c81",
      "metadata": {
        "papermill": {
          "duration": 0.019238,
          "end_time": "2023-01-13T21:38:54.297256",
          "exception": false,
          "start_time": "2023-01-13T21:38:54.278018",
          "status": "completed"
        },
        "tags": [],
        "id": "3af32c81"
      },
      "source": [
        "__Dataset Basic Information:__"
      ]
    },
    {
      "cell_type": "code",
      "execution_count": 10,
      "id": "0efa0935",
      "metadata": {
        "execution": {
          "iopub.execute_input": "2023-01-13T21:38:54.338811Z",
          "iopub.status.busy": "2023-01-13T21:38:54.338377Z",
          "iopub.status.idle": "2023-01-13T21:38:54.365422Z",
          "shell.execute_reply": "2023-01-13T21:38:54.363487Z"
        },
        "papermill": {
          "duration": 0.050709,
          "end_time": "2023-01-13T21:38:54.368054",
          "exception": false,
          "start_time": "2023-01-13T21:38:54.317345",
          "status": "completed"
        },
        "scrolled": true,
        "tags": [],
        "id": "0efa0935",
        "outputId": "7a35cc2c-697a-49ef-f49d-f4810cbed933",
        "colab": {
          "base_uri": "https://localhost:8080/"
        }
      },
      "outputs": [
        {
          "output_type": "stream",
          "name": "stdout",
          "text": [
            "<class 'pandas.core.frame.DataFrame'>\n",
            "RangeIndex: 2290 entries, 0 to 2289\n",
            "Data columns (total 6 columns):\n",
            " #   Column   Non-Null Count  Dtype  \n",
            "---  ------   --------------  -----  \n",
            " 0   Date     2290 non-null   object \n",
            " 1   SPX      2290 non-null   float64\n",
            " 2   GLD      2290 non-null   float64\n",
            " 3   USO      2290 non-null   float64\n",
            " 4   SLV      2290 non-null   float64\n",
            " 5   EUR/USD  2290 non-null   float64\n",
            "dtypes: float64(5), object(1)\n",
            "memory usage: 107.5+ KB\n"
          ]
        }
      ],
      "source": [
        "df.info()"
      ]
    },
    {
      "cell_type": "markdown",
      "id": "3d795275",
      "metadata": {
        "papermill": {
          "duration": 0.019268,
          "end_time": "2023-01-13T21:38:54.407136",
          "exception": false,
          "start_time": "2023-01-13T21:38:54.387868",
          "status": "completed"
        },
        "tags": [],
        "id": "3d795275"
      },
      "source": [
        "__All variables are stored as object and float.__"
      ]
    },
    {
      "cell_type": "markdown",
      "id": "1c278d5e",
      "metadata": {
        "papermill": {
          "duration": 0.019574,
          "end_time": "2023-01-13T21:38:54.446655",
          "exception": false,
          "start_time": "2023-01-13T21:38:54.427081",
          "status": "completed"
        },
        "tags": [],
        "id": "1c278d5e"
      },
      "source": [
        "# Step 4: Data Preparation"
      ]
    },
    {
      "cell_type": "markdown",
      "id": "512fc807",
      "metadata": {
        "papermill": {
          "duration": 0.01952,
          "end_time": "2023-01-13T21:38:54.576587",
          "exception": false,
          "start_time": "2023-01-13T21:38:54.557067",
          "status": "completed"
        },
        "tags": [],
        "id": "512fc807"
      },
      "source": [
        "## Step 4.2: Transforming Data"
      ]
    },
    {
      "cell_type": "markdown",
      "id": "bab0143a",
      "metadata": {
        "papermill": {
          "duration": 0.019645,
          "end_time": "2023-01-13T21:38:54.615954",
          "exception": false,
          "start_time": "2023-01-13T21:38:54.596309",
          "status": "completed"
        },
        "tags": [],
        "id": "bab0143a"
      },
      "source": [
        "__Date feature is stored as object in the data frame. To increase the speed of calculations, we convert it's data type to datetime and then sort this feature in ascending order:__"
      ]
    },
    {
      "cell_type": "code",
      "execution_count": 12,
      "id": "ded06bb4",
      "metadata": {
        "execution": {
          "iopub.execute_input": "2023-01-13T21:38:54.657662Z",
          "iopub.status.busy": "2023-01-13T21:38:54.656847Z",
          "iopub.status.idle": "2023-01-13T21:38:54.669344Z",
          "shell.execute_reply": "2023-01-13T21:38:54.668143Z"
        },
        "papermill": {
          "duration": 0.036376,
          "end_time": "2023-01-13T21:38:54.672051",
          "exception": false,
          "start_time": "2023-01-13T21:38:54.635675",
          "status": "completed"
        },
        "tags": [],
        "id": "ded06bb4"
      },
      "outputs": [],
      "source": [
        "df['Date'] = pd.to_datetime(df['Date'])\n",
        "df.sort_values(by='Date', ascending=True, inplace=True)\n",
        "df.reset_index(drop=True, inplace=True)"
      ]
    },
    {
      "cell_type": "markdown",
      "id": "c2060013",
      "metadata": {
        "papermill": {
          "duration": 0.019516,
          "end_time": "2023-01-13T21:38:54.712047",
          "exception": false,
          "start_time": "2023-01-13T21:38:54.692531",
          "status": "completed"
        },
        "tags": [],
        "id": "c2060013"
      },
      "source": [
        "__The \" , \" sign is redundant in the dataset. First, we remove it from the entire dataset and then change the data type of the numerical variables to float:__"
      ]
    },
    {
      "cell_type": "code",
      "execution_count": 13,
      "id": "b084ae06",
      "metadata": {
        "execution": {
          "iopub.execute_input": "2023-01-13T21:38:54.753607Z",
          "iopub.status.busy": "2023-01-13T21:38:54.753200Z",
          "iopub.status.idle": "2023-01-13T21:38:54.800061Z",
          "shell.execute_reply": "2023-01-13T21:38:54.799139Z"
        },
        "papermill": {
          "duration": 0.070751,
          "end_time": "2023-01-13T21:38:54.802722",
          "exception": false,
          "start_time": "2023-01-13T21:38:54.731971",
          "status": "completed"
        },
        "tags": [],
        "id": "b084ae06"
      },
      "outputs": [],
      "source": [
        "NumCols = df.columns.drop(['Date'])\n",
        "df[NumCols] = df[NumCols].replace({',': ''}, regex=True)\n",
        "df[NumCols] = df[NumCols].astype('float64')"
      ]
    },
    {
      "cell_type": "markdown",
      "id": "8637ed65",
      "metadata": {
        "papermill": {
          "duration": 0.019009,
          "end_time": "2023-01-13T21:38:54.841569",
          "exception": false,
          "start_time": "2023-01-13T21:38:54.822560",
          "status": "completed"
        },
        "tags": [],
        "id": "8637ed65"
      },
      "source": [
        "__Result:__"
      ]
    },
    {
      "cell_type": "code",
      "execution_count": 14,
      "id": "a95251ba",
      "metadata": {
        "execution": {
          "iopub.execute_input": "2023-01-13T21:38:54.882540Z",
          "iopub.status.busy": "2023-01-13T21:38:54.882161Z",
          "iopub.status.idle": "2023-01-13T21:38:54.896165Z",
          "shell.execute_reply": "2023-01-13T21:38:54.895048Z"
        },
        "papermill": {
          "duration": 0.037343,
          "end_time": "2023-01-13T21:38:54.898515",
          "exception": false,
          "start_time": "2023-01-13T21:38:54.861172",
          "status": "completed"
        },
        "tags": [],
        "id": "a95251ba",
        "outputId": "21cf4789-dfec-4682-86fa-c960a82367c5",
        "colab": {
          "base_uri": "https://localhost:8080/",
          "height": 206
        }
      },
      "outputs": [
        {
          "output_type": "execute_result",
          "data": {
            "text/plain": [
              "        Date          SPX        GLD        USO     SLV   EUR/USD\n",
              "0 2008-01-02  1447.160034  84.860001  78.470001  15.180  1.471692\n",
              "1 2008-01-03  1447.160034  85.570000  78.370003  15.285  1.474491\n",
              "2 2008-01-04  1411.630005  85.129997  77.309998  15.167  1.475492\n",
              "3 2008-01-07  1416.180054  84.769997  75.500000  15.053  1.468299\n",
              "4 2008-01-08  1390.189941  86.779999  76.059998  15.590  1.557099"
            ],
            "text/html": [
              "\n",
              "  <div id=\"df-9654ef36-b58d-423e-bf99-41e336519475\" class=\"colab-df-container\">\n",
              "    <div>\n",
              "<style scoped>\n",
              "    .dataframe tbody tr th:only-of-type {\n",
              "        vertical-align: middle;\n",
              "    }\n",
              "\n",
              "    .dataframe tbody tr th {\n",
              "        vertical-align: top;\n",
              "    }\n",
              "\n",
              "    .dataframe thead th {\n",
              "        text-align: right;\n",
              "    }\n",
              "</style>\n",
              "<table border=\"1\" class=\"dataframe\">\n",
              "  <thead>\n",
              "    <tr style=\"text-align: right;\">\n",
              "      <th></th>\n",
              "      <th>Date</th>\n",
              "      <th>SPX</th>\n",
              "      <th>GLD</th>\n",
              "      <th>USO</th>\n",
              "      <th>SLV</th>\n",
              "      <th>EUR/USD</th>\n",
              "    </tr>\n",
              "  </thead>\n",
              "  <tbody>\n",
              "    <tr>\n",
              "      <th>0</th>\n",
              "      <td>2008-01-02</td>\n",
              "      <td>1447.160034</td>\n",
              "      <td>84.860001</td>\n",
              "      <td>78.470001</td>\n",
              "      <td>15.180</td>\n",
              "      <td>1.471692</td>\n",
              "    </tr>\n",
              "    <tr>\n",
              "      <th>1</th>\n",
              "      <td>2008-01-03</td>\n",
              "      <td>1447.160034</td>\n",
              "      <td>85.570000</td>\n",
              "      <td>78.370003</td>\n",
              "      <td>15.285</td>\n",
              "      <td>1.474491</td>\n",
              "    </tr>\n",
              "    <tr>\n",
              "      <th>2</th>\n",
              "      <td>2008-01-04</td>\n",
              "      <td>1411.630005</td>\n",
              "      <td>85.129997</td>\n",
              "      <td>77.309998</td>\n",
              "      <td>15.167</td>\n",
              "      <td>1.475492</td>\n",
              "    </tr>\n",
              "    <tr>\n",
              "      <th>3</th>\n",
              "      <td>2008-01-07</td>\n",
              "      <td>1416.180054</td>\n",
              "      <td>84.769997</td>\n",
              "      <td>75.500000</td>\n",
              "      <td>15.053</td>\n",
              "      <td>1.468299</td>\n",
              "    </tr>\n",
              "    <tr>\n",
              "      <th>4</th>\n",
              "      <td>2008-01-08</td>\n",
              "      <td>1390.189941</td>\n",
              "      <td>86.779999</td>\n",
              "      <td>76.059998</td>\n",
              "      <td>15.590</td>\n",
              "      <td>1.557099</td>\n",
              "    </tr>\n",
              "  </tbody>\n",
              "</table>\n",
              "</div>\n",
              "    <div class=\"colab-df-buttons\">\n",
              "\n",
              "  <div class=\"colab-df-container\">\n",
              "    <button class=\"colab-df-convert\" onclick=\"convertToInteractive('df-9654ef36-b58d-423e-bf99-41e336519475')\"\n",
              "            title=\"Convert this dataframe to an interactive table.\"\n",
              "            style=\"display:none;\">\n",
              "\n",
              "  <svg xmlns=\"http://www.w3.org/2000/svg\" height=\"24px\" viewBox=\"0 -960 960 960\">\n",
              "    <path d=\"M120-120v-720h720v720H120Zm60-500h600v-160H180v160Zm220 220h160v-160H400v160Zm0 220h160v-160H400v160ZM180-400h160v-160H180v160Zm440 0h160v-160H620v160ZM180-180h160v-160H180v160Zm440 0h160v-160H620v160Z\"/>\n",
              "  </svg>\n",
              "    </button>\n",
              "\n",
              "  <style>\n",
              "    .colab-df-container {\n",
              "      display:flex;\n",
              "      gap: 12px;\n",
              "    }\n",
              "\n",
              "    .colab-df-convert {\n",
              "      background-color: #E8F0FE;\n",
              "      border: none;\n",
              "      border-radius: 50%;\n",
              "      cursor: pointer;\n",
              "      display: none;\n",
              "      fill: #1967D2;\n",
              "      height: 32px;\n",
              "      padding: 0 0 0 0;\n",
              "      width: 32px;\n",
              "    }\n",
              "\n",
              "    .colab-df-convert:hover {\n",
              "      background-color: #E2EBFA;\n",
              "      box-shadow: 0px 1px 2px rgba(60, 64, 67, 0.3), 0px 1px 3px 1px rgba(60, 64, 67, 0.15);\n",
              "      fill: #174EA6;\n",
              "    }\n",
              "\n",
              "    .colab-df-buttons div {\n",
              "      margin-bottom: 4px;\n",
              "    }\n",
              "\n",
              "    [theme=dark] .colab-df-convert {\n",
              "      background-color: #3B4455;\n",
              "      fill: #D2E3FC;\n",
              "    }\n",
              "\n",
              "    [theme=dark] .colab-df-convert:hover {\n",
              "      background-color: #434B5C;\n",
              "      box-shadow: 0px 1px 3px 1px rgba(0, 0, 0, 0.15);\n",
              "      filter: drop-shadow(0px 1px 2px rgba(0, 0, 0, 0.3));\n",
              "      fill: #FFFFFF;\n",
              "    }\n",
              "  </style>\n",
              "\n",
              "    <script>\n",
              "      const buttonEl =\n",
              "        document.querySelector('#df-9654ef36-b58d-423e-bf99-41e336519475 button.colab-df-convert');\n",
              "      buttonEl.style.display =\n",
              "        google.colab.kernel.accessAllowed ? 'block' : 'none';\n",
              "\n",
              "      async function convertToInteractive(key) {\n",
              "        const element = document.querySelector('#df-9654ef36-b58d-423e-bf99-41e336519475');\n",
              "        const dataTable =\n",
              "          await google.colab.kernel.invokeFunction('convertToInteractive',\n",
              "                                                    [key], {});\n",
              "        if (!dataTable) return;\n",
              "\n",
              "        const docLinkHtml = 'Like what you see? Visit the ' +\n",
              "          '<a target=\"_blank\" href=https://colab.research.google.com/notebooks/data_table.ipynb>data table notebook</a>'\n",
              "          + ' to learn more about interactive tables.';\n",
              "        element.innerHTML = '';\n",
              "        dataTable['output_type'] = 'display_data';\n",
              "        await google.colab.output.renderOutput(dataTable, element);\n",
              "        const docLink = document.createElement('div');\n",
              "        docLink.innerHTML = docLinkHtml;\n",
              "        element.appendChild(docLink);\n",
              "      }\n",
              "    </script>\n",
              "  </div>\n",
              "\n",
              "\n",
              "<div id=\"df-f3bea1cc-3d70-437a-9470-1ba9e350906f\">\n",
              "  <button class=\"colab-df-quickchart\" onclick=\"quickchart('df-f3bea1cc-3d70-437a-9470-1ba9e350906f')\"\n",
              "            title=\"Suggest charts\"\n",
              "            style=\"display:none;\">\n",
              "\n",
              "<svg xmlns=\"http://www.w3.org/2000/svg\" height=\"24px\"viewBox=\"0 0 24 24\"\n",
              "     width=\"24px\">\n",
              "    <g>\n",
              "        <path d=\"M19 3H5c-1.1 0-2 .9-2 2v14c0 1.1.9 2 2 2h14c1.1 0 2-.9 2-2V5c0-1.1-.9-2-2-2zM9 17H7v-7h2v7zm4 0h-2V7h2v10zm4 0h-2v-4h2v4z\"/>\n",
              "    </g>\n",
              "</svg>\n",
              "  </button>\n",
              "\n",
              "<style>\n",
              "  .colab-df-quickchart {\n",
              "      --bg-color: #E8F0FE;\n",
              "      --fill-color: #1967D2;\n",
              "      --hover-bg-color: #E2EBFA;\n",
              "      --hover-fill-color: #174EA6;\n",
              "      --disabled-fill-color: #AAA;\n",
              "      --disabled-bg-color: #DDD;\n",
              "  }\n",
              "\n",
              "  [theme=dark] .colab-df-quickchart {\n",
              "      --bg-color: #3B4455;\n",
              "      --fill-color: #D2E3FC;\n",
              "      --hover-bg-color: #434B5C;\n",
              "      --hover-fill-color: #FFFFFF;\n",
              "      --disabled-bg-color: #3B4455;\n",
              "      --disabled-fill-color: #666;\n",
              "  }\n",
              "\n",
              "  .colab-df-quickchart {\n",
              "    background-color: var(--bg-color);\n",
              "    border: none;\n",
              "    border-radius: 50%;\n",
              "    cursor: pointer;\n",
              "    display: none;\n",
              "    fill: var(--fill-color);\n",
              "    height: 32px;\n",
              "    padding: 0;\n",
              "    width: 32px;\n",
              "  }\n",
              "\n",
              "  .colab-df-quickchart:hover {\n",
              "    background-color: var(--hover-bg-color);\n",
              "    box-shadow: 0 1px 2px rgba(60, 64, 67, 0.3), 0 1px 3px 1px rgba(60, 64, 67, 0.15);\n",
              "    fill: var(--button-hover-fill-color);\n",
              "  }\n",
              "\n",
              "  .colab-df-quickchart-complete:disabled,\n",
              "  .colab-df-quickchart-complete:disabled:hover {\n",
              "    background-color: var(--disabled-bg-color);\n",
              "    fill: var(--disabled-fill-color);\n",
              "    box-shadow: none;\n",
              "  }\n",
              "\n",
              "  .colab-df-spinner {\n",
              "    border: 2px solid var(--fill-color);\n",
              "    border-color: transparent;\n",
              "    border-bottom-color: var(--fill-color);\n",
              "    animation:\n",
              "      spin 1s steps(1) infinite;\n",
              "  }\n",
              "\n",
              "  @keyframes spin {\n",
              "    0% {\n",
              "      border-color: transparent;\n",
              "      border-bottom-color: var(--fill-color);\n",
              "      border-left-color: var(--fill-color);\n",
              "    }\n",
              "    20% {\n",
              "      border-color: transparent;\n",
              "      border-left-color: var(--fill-color);\n",
              "      border-top-color: var(--fill-color);\n",
              "    }\n",
              "    30% {\n",
              "      border-color: transparent;\n",
              "      border-left-color: var(--fill-color);\n",
              "      border-top-color: var(--fill-color);\n",
              "      border-right-color: var(--fill-color);\n",
              "    }\n",
              "    40% {\n",
              "      border-color: transparent;\n",
              "      border-right-color: var(--fill-color);\n",
              "      border-top-color: var(--fill-color);\n",
              "    }\n",
              "    60% {\n",
              "      border-color: transparent;\n",
              "      border-right-color: var(--fill-color);\n",
              "    }\n",
              "    80% {\n",
              "      border-color: transparent;\n",
              "      border-right-color: var(--fill-color);\n",
              "      border-bottom-color: var(--fill-color);\n",
              "    }\n",
              "    90% {\n",
              "      border-color: transparent;\n",
              "      border-bottom-color: var(--fill-color);\n",
              "    }\n",
              "  }\n",
              "</style>\n",
              "\n",
              "  <script>\n",
              "    async function quickchart(key) {\n",
              "      const quickchartButtonEl =\n",
              "        document.querySelector('#' + key + ' button');\n",
              "      quickchartButtonEl.disabled = true;  // To prevent multiple clicks.\n",
              "      quickchartButtonEl.classList.add('colab-df-spinner');\n",
              "      try {\n",
              "        const charts = await google.colab.kernel.invokeFunction(\n",
              "            'suggestCharts', [key], {});\n",
              "      } catch (error) {\n",
              "        console.error('Error during call to suggestCharts:', error);\n",
              "      }\n",
              "      quickchartButtonEl.classList.remove('colab-df-spinner');\n",
              "      quickchartButtonEl.classList.add('colab-df-quickchart-complete');\n",
              "    }\n",
              "    (() => {\n",
              "      let quickchartButtonEl =\n",
              "        document.querySelector('#df-f3bea1cc-3d70-437a-9470-1ba9e350906f button');\n",
              "      quickchartButtonEl.style.display =\n",
              "        google.colab.kernel.accessAllowed ? 'block' : 'none';\n",
              "    })();\n",
              "  </script>\n",
              "</div>\n",
              "\n",
              "    </div>\n",
              "  </div>\n"
            ],
            "application/vnd.google.colaboratory.intrinsic+json": {
              "type": "dataframe",
              "variable_name": "df",
              "summary": "{\n  \"name\": \"df\",\n  \"rows\": 2290,\n  \"fields\": [\n    {\n      \"column\": \"Date\",\n      \"properties\": {\n        \"dtype\": \"date\",\n        \"min\": \"2008-01-02 00:00:00\",\n        \"max\": \"2018-05-16 00:00:00\",\n        \"num_unique_values\": 2290,\n        \"samples\": [\n          \"2017-11-24 00:00:00\",\n          \"2013-10-24 00:00:00\",\n          \"2013-10-21 00:00:00\"\n        ],\n        \"semantic_type\": \"\",\n        \"description\": \"\"\n      }\n    },\n    {\n      \"column\": \"SPX\",\n      \"properties\": {\n        \"dtype\": \"number\",\n        \"std\": 519.1115402032957,\n        \"min\": 676.530029,\n        \"max\": 2872.870117,\n        \"num_unique_values\": 2277,\n        \"samples\": [\n          1339.219971,\n          1137.140015,\n          1325.76001\n        ],\n        \"semantic_type\": \"\",\n        \"description\": \"\"\n      }\n    },\n    {\n      \"column\": \"GLD\",\n      \"properties\": {\n        \"dtype\": \"number\",\n        \"std\": 23.283345747117536,\n        \"min\": 70.0,\n        \"max\": 184.589996,\n        \"num_unique_values\": 1930,\n        \"samples\": [\n          118.279999,\n          120.099998,\n          120.32\n        ],\n        \"semantic_type\": \"\",\n        \"description\": \"\"\n      }\n    },\n    {\n      \"column\": \"USO\",\n      \"properties\": {\n        \"dtype\": \"number\",\n        \"std\": 19.523517029775025,\n        \"min\": 7.96,\n        \"max\": 117.480003,\n        \"num_unique_values\": 1514,\n        \"samples\": [\n          82.290001,\n          53.84,\n          13.22\n        ],\n        \"semantic_type\": \"\",\n        \"description\": \"\"\n      }\n    },\n    {\n      \"column\": \"SLV\",\n      \"properties\": {\n        \"dtype\": \"number\",\n        \"std\": 7.092566374075397,\n        \"min\": 8.85,\n        \"max\": 47.259998,\n        \"num_unique_values\": 1331,\n        \"samples\": [\n          22.889999,\n          14.92,\n          13.37\n        ],\n        \"semantic_type\": \"\",\n        \"description\": \"\"\n      }\n    },\n    {\n      \"column\": \"EUR/USD\",\n      \"properties\": {\n        \"dtype\": \"number\",\n        \"std\": 0.13154721612113993,\n        \"min\": 1.039047,\n        \"max\": 1.598798,\n        \"num_unique_values\": 2066,\n        \"samples\": [\n          1.094355,\n          1.185986,\n          1.248003\n        ],\n        \"semantic_type\": \"\",\n        \"description\": \"\"\n      }\n    }\n  ]\n}"
            }
          },
          "metadata": {},
          "execution_count": 14
        }
      ],
      "source": [
        "df.head()"
      ]
    },
    {
      "cell_type": "markdown",
      "id": "237f2a51",
      "metadata": {
        "papermill": {
          "duration": 0.018956,
          "end_time": "2023-01-13T21:38:54.937080",
          "exception": false,
          "start_time": "2023-01-13T21:38:54.918124",
          "status": "completed"
        },
        "tags": [],
        "id": "237f2a51"
      },
      "source": [
        "## Step 4.3: Checking Duplicates\n",
        "__There are no duplicate samples in Date feature:__"
      ]
    },
    {
      "cell_type": "code",
      "execution_count": 15,
      "id": "d3acda06",
      "metadata": {
        "execution": {
          "iopub.execute_input": "2023-01-13T21:38:54.978163Z",
          "iopub.status.busy": "2023-01-13T21:38:54.977755Z",
          "iopub.status.idle": "2023-01-13T21:38:54.987780Z",
          "shell.execute_reply": "2023-01-13T21:38:54.986778Z"
        },
        "papermill": {
          "duration": 0.033511,
          "end_time": "2023-01-13T21:38:54.990106",
          "exception": false,
          "start_time": "2023-01-13T21:38:54.956595",
          "status": "completed"
        },
        "tags": [],
        "id": "d3acda06",
        "outputId": "1dbaeea7-43a1-4d19-99ab-a5d4f47943c8",
        "colab": {
          "base_uri": "https://localhost:8080/"
        }
      },
      "outputs": [
        {
          "output_type": "execute_result",
          "data": {
            "text/plain": [
              "0"
            ]
          },
          "metadata": {},
          "execution_count": 15
        }
      ],
      "source": [
        "df.duplicated().sum()"
      ]
    },
    {
      "cell_type": "markdown",
      "id": "0d71e381",
      "metadata": {
        "papermill": {
          "duration": 0.019381,
          "end_time": "2023-01-13T21:38:55.029363",
          "exception": false,
          "start_time": "2023-01-13T21:38:55.009982",
          "status": "completed"
        },
        "tags": [],
        "id": "0d71e381"
      },
      "source": [
        "## Step 4.4: Checking Missing Values\n",
        "__There are no missing values in the dataset:__"
      ]
    },
    {
      "cell_type": "code",
      "execution_count": 16,
      "id": "d5b15ecc",
      "metadata": {
        "execution": {
          "iopub.execute_input": "2023-01-13T21:38:55.070657Z",
          "iopub.status.busy": "2023-01-13T21:38:55.070279Z",
          "iopub.status.idle": "2023-01-13T21:38:55.079153Z",
          "shell.execute_reply": "2023-01-13T21:38:55.078173Z"
        },
        "papermill": {
          "duration": 0.032356,
          "end_time": "2023-01-13T21:38:55.081356",
          "exception": false,
          "start_time": "2023-01-13T21:38:55.049000",
          "status": "completed"
        },
        "tags": [],
        "id": "d5b15ecc",
        "outputId": "0c383f15-4459-4d61-ef6c-0e7e2f580b15",
        "colab": {
          "base_uri": "https://localhost:8080/"
        }
      },
      "outputs": [
        {
          "output_type": "execute_result",
          "data": {
            "text/plain": [
              "0"
            ]
          },
          "metadata": {},
          "execution_count": 16
        }
      ],
      "source": [
        "df.isnull().sum().sum()"
      ]
    },
    {
      "cell_type": "markdown",
      "id": "13e7e035",
      "metadata": {
        "papermill": {
          "duration": 0.019621,
          "end_time": "2023-01-13T21:38:55.121038",
          "exception": false,
          "start_time": "2023-01-13T21:38:55.101417",
          "status": "completed"
        },
        "tags": [],
        "id": "13e7e035"
      },
      "source": [
        "# Step 5: Visualizing Gold Price History Data\n",
        "\n",
        "__Interactive Gold Price Chart:__"
      ]
    },
    {
      "cell_type": "code",
      "execution_count": 18,
      "id": "cca9f0f5",
      "metadata": {
        "execution": {
          "iopub.execute_input": "2023-01-13T21:38:55.162578Z",
          "iopub.status.busy": "2023-01-13T21:38:55.162196Z",
          "iopub.status.idle": "2023-01-13T21:38:56.234045Z",
          "shell.execute_reply": "2023-01-13T21:38:56.233168Z"
        },
        "papermill": {
          "duration": 1.095617,
          "end_time": "2023-01-13T21:38:56.236445",
          "exception": false,
          "start_time": "2023-01-13T21:38:55.140828",
          "status": "completed"
        },
        "tags": [],
        "id": "cca9f0f5",
        "outputId": "9d75e2d2-e048-428a-edc6-d4e2cc41fce7",
        "colab": {
          "base_uri": "https://localhost:8080/",
          "height": 542
        }
      },
      "outputs": [
        {
          "output_type": "display_data",
          "data": {
            "text/html": [
              "<html>\n",
              "<head><meta charset=\"utf-8\" /></head>\n",
              "<body>\n",
              "    <div>            <script src=\"https://cdnjs.cloudflare.com/ajax/libs/mathjax/2.7.5/MathJax.js?config=TeX-AMS-MML_SVG\"></script><script type=\"text/javascript\">if (window.MathJax && window.MathJax.Hub && window.MathJax.Hub.Config) {window.MathJax.Hub.Config({SVG: {font: \"STIX-Web\"}});}</script>                <script type=\"text/javascript\">window.PlotlyConfig = {MathJaxConfig: 'local'};</script>\n",
              "        <script charset=\"utf-8\" src=\"https://cdn.plot.ly/plotly-2.35.2.min.js\"></script>                <div id=\"5f0192ff-f252-4f34-ac54-e8265125ad82\" class=\"plotly-graph-div\" style=\"height:525px; width:100%;\"></div>            <script type=\"text/javascript\">                                    window.PLOTLYENV=window.PLOTLYENV || {};                                    if (document.getElementById(\"5f0192ff-f252-4f34-ac54-e8265125ad82\")) {                    Plotly.newPlot(                        \"5f0192ff-f252-4f34-ac54-e8265125ad82\",                        [{\"hovertemplate\":\"x=%{x}\\u003cbr\\u003ey=%{y}\\u003cextra\\u003e\\u003c\\u002fextra\\u003e\",\"legendgroup\":\"\",\"line\":{\"color\":\"black\",\"dash\":\"solid\"},\"marker\":{\"symbol\":\"circle\"},\"mode\":\"lines\",\"name\":\"\",\"showlegend\":false,\"x\":[\"2008-01-02T00:00:00\",\"2008-01-03T00:00:00\",\"2008-01-04T00:00:00\",\"2008-01-07T00:00:00\",\"2008-01-08T00:00:00\",\"2008-01-09T00:00:00\",\"2008-01-10T00:00:00\",\"2008-01-11T00:00:00\",\"2008-01-14T00:00:00\",\"2008-01-15T00:00:00\",\"2008-01-16T00:00:00\",\"2008-01-17T00:00:00\",\"2008-01-18T00:00:00\",\"2008-01-22T00:00:00\",\"2008-01-23T00:00:00\",\"2008-01-24T00:00:00\",\"2008-01-25T00:00:00\",\"2008-01-28T00:00:00\",\"2008-01-29T00:00:00\",\"2008-01-30T00:00:00\",\"2008-01-31T00:00:00\",\"2008-02-01T00:00:00\",\"2008-02-04T00:00:00\",\"2008-02-05T00:00:00\",\"2008-02-06T00:00:00\",\"2008-02-07T00:00:00\",\"2008-02-08T00:00:00\",\"2008-02-11T00:00:00\",\"2008-02-12T00:00:00\",\"2008-02-13T00:00:00\",\"2008-02-14T00:00:00\",\"2008-02-15T00:00:00\",\"2008-02-19T00:00:00\",\"2008-02-20T00:00:00\",\"2008-02-21T00:00:00\",\"2008-02-22T00:00:00\",\"2008-02-25T00:00:00\",\"2008-02-26T00:00:00\",\"2008-02-27T00:00:00\",\"2008-02-28T00:00:00\",\"2008-02-29T00:00:00\",\"2008-03-03T00:00:00\",\"2008-03-04T00:00:00\",\"2008-03-05T00:00:00\",\"2008-03-06T00:00:00\",\"2008-03-07T00:00:00\",\"2008-03-10T00:00:00\",\"2008-03-11T00:00:00\",\"2008-03-12T00:00:00\",\"2008-03-13T00:00:00\",\"2008-03-14T00:00:00\",\"2008-03-17T00:00:00\",\"2008-03-18T00:00:00\",\"2008-03-19T00:00:00\",\"2008-03-20T00:00:00\",\"2008-03-24T00:00:00\",\"2008-03-25T00:00:00\",\"2008-03-26T00:00:00\",\"2008-03-27T00:00:00\",\"2008-03-28T00:00:00\",\"2008-04-01T00:00:00\",\"2008-04-02T00:00:00\",\"2008-04-03T00:00:00\",\"2008-04-07T00:00:00\",\"2008-04-08T00:00:00\",\"2008-04-09T00:00:00\",\"2008-04-10T00:00:00\",\"2008-04-14T00:00:00\",\"2008-04-15T00:00:00\",\"2008-04-16T00:00:00\",\"2008-04-17T00:00:00\",\"2008-04-21T00:00:00\",\"2008-04-22T00:00:00\",\"2008-04-23T00:00:00\",\"2008-04-24T00:00:00\",\"2008-04-28T00:00:00\",\"2008-04-29T00:00:00\",\"2008-05-01T00:00:00\",\"2008-05-05T00:00:00\",\"2008-05-06T00:00:00\",\"2008-05-07T00:00:00\",\"2008-05-08T00:00:00\",\"2008-05-12T00:00:00\",\"2008-05-13T00:00:00\",\"2008-05-14T00:00:00\",\"2008-05-15T00:00:00\",\"2008-05-19T00:00:00\",\"2008-05-20T00:00:00\",\"2008-05-21T00:00:00\",\"2008-05-22T00:00:00\",\"2008-05-27T00:00:00\",\"2008-05-28T00:00:00\",\"2008-05-29T00:00:00\",\"2008-06-02T00:00:00\",\"2008-06-03T00:00:00\",\"2008-06-04T00:00:00\",\"2008-06-05T00:00:00\",\"2008-06-09T00:00:00\",\"2008-06-10T00:00:00\",\"2008-06-11T00:00:00\",\"2008-06-12T00:00:00\",\"2008-06-16T00:00:00\",\"2008-06-17T00:00:00\",\"2008-06-18T00:00:00\",\"2008-06-19T00:00:00\",\"2008-06-23T00:00:00\",\"2008-06-24T00:00:00\",\"2008-06-25T00:00:00\",\"2008-06-26T00:00:00\",\"2008-07-01T00:00:00\",\"2008-07-02T00:00:00\",\"2008-07-03T00:00:00\",\"2008-07-07T00:00:00\",\"2008-07-08T00:00:00\",\"2008-07-09T00:00:00\",\"2008-07-10T00:00:00\",\"2008-07-14T00:00:00\",\"2008-07-15T00:00:00\",\"2008-07-16T00:00:00\",\"2008-07-17T00:00:00\",\"2008-07-21T00:00:00\",\"2008-07-22T00:00:00\",\"2008-07-23T00:00:00\",\"2008-07-24T00:00:00\",\"2008-07-28T00:00:00\",\"2008-07-29T00:00:00\",\"2008-07-30T00:00:00\",\"2008-08-07T00:00:00\",\"2008-08-25T00:00:00\",\"2008-08-26T00:00:00\",\"2008-08-27T00:00:00\",\"2008-08-28T00:00:00\",\"2008-09-02T00:00:00\",\"2008-09-03T00:00:00\",\"2008-09-04T00:00:00\",\"2008-09-08T00:00:00\",\"2008-09-09T00:00:00\",\"2008-09-10T00:00:00\",\"2008-09-11T00:00:00\",\"2008-09-15T00:00:00\",\"2008-09-16T00:00:00\",\"2008-09-17T00:00:00\",\"2008-09-18T00:00:00\",\"2008-09-22T00:00:00\",\"2008-09-23T00:00:00\",\"2008-09-24T00:00:00\",\"2008-09-25T00:00:00\",\"2008-09-29T00:00:00\",\"2008-09-30T00:00:00\",\"2008-10-01T00:00:00\",\"2008-10-02T00:00:00\",\"2008-10-06T00:00:00\",\"2008-10-07T00:00:00\",\"2008-10-08T00:00:00\",\"2008-10-09T00:00:00\",\"2008-10-13T00:00:00\",\"2008-10-14T00:00:00\",\"2008-10-15T00:00:00\",\"2008-10-16T00:00:00\",\"2008-10-20T00:00:00\",\"2008-10-21T00:00:00\",\"2008-10-22T00:00:00\",\"2008-10-23T00:00:00\",\"2008-10-27T00:00:00\",\"2008-10-28T00:00:00\",\"2008-10-29T00:00:00\",\"2008-10-30T00:00:00\",\"2008-10-31T00:00:00\",\"2008-11-03T00:00:00\",\"2008-11-04T00:00:00\",\"2008-11-05T00:00:00\",\"2008-11-06T00:00:00\",\"2008-11-07T00:00:00\",\"2008-11-10T00:00:00\",\"2008-11-11T00:00:00\",\"2008-11-12T00:00:00\",\"2008-11-13T00:00:00\",\"2008-11-14T00:00:00\",\"2008-11-17T00:00:00\",\"2008-11-18T00:00:00\",\"2008-11-19T00:00:00\",\"2008-11-20T00:00:00\",\"2008-11-21T00:00:00\",\"2008-11-24T00:00:00\",\"2008-11-25T00:00:00\",\"2008-11-26T00:00:00\",\"2008-11-28T00:00:00\",\"2008-12-01T00:00:00\",\"2008-12-02T00:00:00\",\"2008-12-03T00:00:00\",\"2008-12-04T00:00:00\",\"2008-12-05T00:00:00\",\"2008-12-08T00:00:00\",\"2008-12-09T00:00:00\",\"2008-12-10T00:00:00\",\"2008-12-11T00:00:00\",\"2008-12-12T00:00:00\",\"2008-12-15T00:00:00\",\"2008-12-16T00:00:00\",\"2008-12-17T00:00:00\",\"2008-12-18T00:00:00\",\"2008-12-19T00:00:00\",\"2008-12-22T00:00:00\",\"2008-12-23T00:00:00\",\"2008-12-24T00:00:00\",\"2008-12-26T00:00:00\",\"2008-12-29T00:00:00\",\"2008-12-30T00:00:00\",\"2008-12-31T00:00:00\",\"2009-01-02T00:00:00\",\"2009-01-05T00:00:00\",\"2009-01-06T00:00:00\",\"2009-01-07T00:00:00\",\"2009-01-08T00:00:00\",\"2009-01-09T00:00:00\",\"2009-01-12T00:00:00\",\"2009-01-13T00:00:00\",\"2009-01-14T00:00:00\",\"2009-01-15T00:00:00\",\"2009-01-16T00:00:00\",\"2009-01-20T00:00:00\",\"2009-01-21T00:00:00\",\"2009-01-22T00:00:00\",\"2009-01-23T00:00:00\",\"2009-01-26T00:00:00\",\"2009-01-27T00:00:00\",\"2009-01-28T00:00:00\",\"2009-01-29T00:00:00\",\"2009-01-30T00:00:00\",\"2009-02-02T00:00:00\",\"2009-02-03T00:00:00\",\"2009-02-04T00:00:00\",\"2009-02-05T00:00:00\",\"2009-02-06T00:00:00\",\"2009-02-09T00:00:00\",\"2009-02-10T00:00:00\",\"2009-02-11T00:00:00\",\"2009-02-12T00:00:00\",\"2009-02-13T00:00:00\",\"2009-02-17T00:00:00\",\"2009-02-18T00:00:00\",\"2009-02-19T00:00:00\",\"2009-02-20T00:00:00\",\"2009-02-23T00:00:00\",\"2009-02-24T00:00:00\",\"2009-02-25T00:00:00\",\"2009-02-26T00:00:00\",\"2009-02-27T00:00:00\",\"2009-03-02T00:00:00\",\"2009-03-03T00:00:00\",\"2009-03-04T00:00:00\",\"2009-03-05T00:00:00\",\"2009-03-06T00:00:00\",\"2009-03-09T00:00:00\",\"2009-03-10T00:00:00\",\"2009-03-11T00:00:00\",\"2009-03-12T00:00:00\",\"2009-03-13T00:00:00\",\"2009-03-16T00:00:00\",\"2009-03-17T00:00:00\",\"2009-03-18T00:00:00\",\"2009-03-19T00:00:00\",\"2009-03-20T00:00:00\",\"2009-03-23T00:00:00\",\"2009-03-24T00:00:00\",\"2009-03-25T00:00:00\",\"2009-03-26T00:00:00\",\"2009-03-27T00:00:00\",\"2009-03-30T00:00:00\",\"2009-03-31T00:00:00\",\"2009-04-01T00:00:00\",\"2009-04-02T00:00:00\",\"2009-04-06T00:00:00\",\"2009-04-07T00:00:00\",\"2009-04-08T00:00:00\",\"2009-04-09T00:00:00\",\"2009-04-13T00:00:00\",\"2009-04-14T00:00:00\",\"2009-04-15T00:00:00\",\"2009-04-16T00:00:00\",\"2009-04-20T00:00:00\",\"2009-04-21T00:00:00\",\"2009-04-22T00:00:00\",\"2009-04-23T00:00:00\",\"2009-04-27T00:00:00\",\"2009-04-28T00:00:00\",\"2009-04-29T00:00:00\",\"2009-04-30T00:00:00\",\"2009-05-04T00:00:00\",\"2009-05-05T00:00:00\",\"2009-05-06T00:00:00\",\"2009-05-07T00:00:00\",\"2009-05-11T00:00:00\",\"2009-05-12T00:00:00\",\"2009-05-13T00:00:00\",\"2009-05-14T00:00:00\",\"2009-05-18T00:00:00\",\"2009-05-19T00:00:00\",\"2009-05-20T00:00:00\",\"2009-05-21T00:00:00\",\"2009-05-26T00:00:00\",\"2009-05-27T00:00:00\",\"2009-05-28T00:00:00\",\"2009-06-01T00:00:00\",\"2009-06-02T00:00:00\",\"2009-06-03T00:00:00\",\"2009-06-04T00:00:00\",\"2009-06-08T00:00:00\",\"2009-06-09T00:00:00\",\"2009-06-10T00:00:00\",\"2009-06-11T00:00:00\",\"2009-06-15T00:00:00\",\"2009-06-16T00:00:00\",\"2009-06-17T00:00:00\",\"2009-06-18T00:00:00\",\"2009-06-22T00:00:00\",\"2009-06-23T00:00:00\",\"2009-06-24T00:00:00\",\"2009-06-25T00:00:00\",\"2009-06-29T00:00:00\",\"2009-06-30T00:00:00\",\"2009-07-01T00:00:00\",\"2009-07-02T00:00:00\",\"2009-07-06T00:00:00\",\"2009-07-07T00:00:00\",\"2009-07-08T00:00:00\",\"2009-07-09T00:00:00\",\"2009-07-13T00:00:00\",\"2009-07-14T00:00:00\",\"2009-07-15T00:00:00\",\"2009-07-16T00:00:00\",\"2009-07-20T00:00:00\",\"2009-07-21T00:00:00\",\"2009-07-22T00:00:00\",\"2009-07-23T00:00:00\",\"2009-07-27T00:00:00\",\"2009-07-28T00:00:00\",\"2009-07-29T00:00:00\",\"2009-07-30T00:00:00\",\"2009-08-03T00:00:00\",\"2009-08-04T00:00:00\",\"2009-08-05T00:00:00\",\"2009-08-06T00:00:00\",\"2009-08-10T00:00:00\",\"2009-08-11T00:00:00\",\"2009-08-12T00:00:00\",\"2009-08-13T00:00:00\",\"2009-08-17T00:00:00\",\"2009-08-18T00:00:00\",\"2009-08-19T00:00:00\",\"2009-08-20T00:00:00\",\"2009-08-24T00:00:00\",\"2009-08-25T00:00:00\",\"2009-08-26T00:00:00\",\"2009-08-27T00:00:00\",\"2009-08-31T00:00:00\",\"2009-09-01T00:00:00\",\"2009-09-02T00:00:00\",\"2009-09-03T00:00:00\",\"2009-09-08T00:00:00\",\"2009-09-09T00:00:00\",\"2009-09-10T00:00:00\",\"2009-09-14T00:00:00\",\"2009-09-15T00:00:00\",\"2009-09-16T00:00:00\",\"2009-09-17T00:00:00\",\"2009-09-21T00:00:00\",\"2009-09-22T00:00:00\",\"2009-09-23T00:00:00\",\"2009-09-24T00:00:00\",\"2009-09-28T00:00:00\",\"2009-09-29T00:00:00\",\"2009-09-30T00:00:00\",\"2009-10-01T00:00:00\",\"2009-10-05T00:00:00\",\"2009-10-06T00:00:00\",\"2009-10-07T00:00:00\",\"2009-10-08T00:00:00\",\"2009-10-12T00:00:00\",\"2009-10-13T00:00:00\",\"2009-10-14T00:00:00\",\"2009-10-15T00:00:00\",\"2009-10-19T00:00:00\",\"2009-10-20T00:00:00\",\"2009-10-21T00:00:00\",\"2009-10-22T00:00:00\",\"2009-10-26T00:00:00\",\"2009-10-27T00:00:00\",\"2009-10-28T00:00:00\",\"2009-10-29T00:00:00\",\"2009-10-30T00:00:00\",\"2009-11-02T00:00:00\",\"2009-11-03T00:00:00\",\"2009-11-04T00:00:00\",\"2009-11-05T00:00:00\",\"2009-11-06T00:00:00\",\"2009-11-09T00:00:00\",\"2009-11-10T00:00:00\",\"2009-11-11T00:00:00\",\"2009-11-12T00:00:00\",\"2009-11-13T00:00:00\",\"2009-11-16T00:00:00\",\"2009-11-17T00:00:00\",\"2009-11-18T00:00:00\",\"2009-11-19T00:00:00\",\"2009-11-20T00:00:00\",\"2009-11-23T00:00:00\",\"2009-11-24T00:00:00\",\"2009-11-25T00:00:00\",\"2009-11-27T00:00:00\",\"2009-11-30T00:00:00\",\"2009-12-01T00:00:00\",\"2009-12-02T00:00:00\",\"2009-12-03T00:00:00\",\"2009-12-04T00:00:00\",\"2009-12-07T00:00:00\",\"2009-12-08T00:00:00\",\"2009-12-09T00:00:00\",\"2009-12-10T00:00:00\",\"2009-12-11T00:00:00\",\"2009-12-14T00:00:00\",\"2009-12-15T00:00:00\",\"2009-12-16T00:00:00\",\"2009-12-17T00:00:00\",\"2009-12-18T00:00:00\",\"2009-12-21T00:00:00\",\"2009-12-22T00:00:00\",\"2009-12-23T00:00:00\",\"2009-12-24T00:00:00\",\"2009-12-28T00:00:00\",\"2009-12-29T00:00:00\",\"2009-12-30T00:00:00\",\"2009-12-31T00:00:00\",\"2010-01-04T00:00:00\",\"2010-01-05T00:00:00\",\"2010-01-06T00:00:00\",\"2010-01-07T00:00:00\",\"2010-01-08T00:00:00\",\"2010-01-11T00:00:00\",\"2010-01-12T00:00:00\",\"2010-01-13T00:00:00\",\"2010-01-14T00:00:00\",\"2010-01-15T00:00:00\",\"2010-01-19T00:00:00\",\"2010-01-20T00:00:00\",\"2010-01-21T00:00:00\",\"2010-01-22T00:00:00\",\"2010-01-25T00:00:00\",\"2010-01-26T00:00:00\",\"2010-01-27T00:00:00\",\"2010-01-28T00:00:00\",\"2010-01-29T00:00:00\",\"2010-02-01T00:00:00\",\"2010-02-02T00:00:00\",\"2010-02-03T00:00:00\",\"2010-02-04T00:00:00\",\"2010-02-05T00:00:00\",\"2010-02-08T00:00:00\",\"2010-02-09T00:00:00\",\"2010-02-10T00:00:00\",\"2010-02-11T00:00:00\",\"2010-02-12T00:00:00\",\"2010-02-16T00:00:00\",\"2010-02-17T00:00:00\",\"2010-02-18T00:00:00\",\"2010-02-19T00:00:00\",\"2010-02-22T00:00:00\",\"2010-02-23T00:00:00\",\"2010-02-24T00:00:00\",\"2010-02-25T00:00:00\",\"2010-02-26T00:00:00\",\"2010-03-01T00:00:00\",\"2010-03-02T00:00:00\",\"2010-03-03T00:00:00\",\"2010-03-04T00:00:00\",\"2010-03-05T00:00:00\",\"2010-03-08T00:00:00\",\"2010-03-09T00:00:00\",\"2010-03-10T00:00:00\",\"2010-03-11T00:00:00\",\"2010-03-12T00:00:00\",\"2010-03-15T00:00:00\",\"2010-03-16T00:00:00\",\"2010-03-17T00:00:00\",\"2010-03-18T00:00:00\",\"2010-03-19T00:00:00\",\"2010-03-22T00:00:00\",\"2010-03-23T00:00:00\",\"2010-03-24T00:00:00\",\"2010-03-25T00:00:00\",\"2010-03-26T00:00:00\",\"2010-03-29T00:00:00\",\"2010-03-30T00:00:00\",\"2010-03-31T00:00:00\",\"2010-04-01T00:00:00\",\"2010-04-05T00:00:00\",\"2010-04-06T00:00:00\",\"2010-04-07T00:00:00\",\"2010-04-08T00:00:00\",\"2010-04-12T00:00:00\",\"2010-04-13T00:00:00\",\"2010-04-14T00:00:00\",\"2010-04-15T00:00:00\",\"2010-04-19T00:00:00\",\"2010-04-20T00:00:00\",\"2010-04-21T00:00:00\",\"2010-04-22T00:00:00\",\"2010-04-26T00:00:00\",\"2010-04-27T00:00:00\",\"2010-04-28T00:00:00\",\"2010-04-29T00:00:00\",\"2010-05-03T00:00:00\",\"2010-05-04T00:00:00\",\"2010-05-05T00:00:00\",\"2010-05-06T00:00:00\",\"2010-05-10T00:00:00\",\"2010-05-11T00:00:00\",\"2010-05-12T00:00:00\",\"2010-05-13T00:00:00\",\"2010-05-17T00:00:00\",\"2010-05-18T00:00:00\",\"2010-05-19T00:00:00\",\"2010-05-20T00:00:00\",\"2010-05-24T00:00:00\",\"2010-05-25T00:00:00\",\"2010-05-26T00:00:00\",\"2010-05-27T00:00:00\",\"2010-06-01T00:00:00\",\"2010-06-02T00:00:00\",\"2010-06-03T00:00:00\",\"2010-06-07T00:00:00\",\"2010-06-08T00:00:00\",\"2010-06-09T00:00:00\",\"2010-06-10T00:00:00\",\"2010-06-14T00:00:00\",\"2010-06-15T00:00:00\",\"2010-06-16T00:00:00\",\"2010-06-17T00:00:00\",\"2010-06-21T00:00:00\",\"2010-06-22T00:00:00\",\"2010-06-23T00:00:00\",\"2010-06-24T00:00:00\",\"2010-06-28T00:00:00\",\"2010-06-29T00:00:00\",\"2010-06-30T00:00:00\",\"2010-07-01T00:00:00\",\"2010-07-06T00:00:00\",\"2010-07-07T00:00:00\",\"2010-07-08T00:00:00\",\"2010-07-12T00:00:00\",\"2010-07-13T00:00:00\",\"2010-07-14T00:00:00\",\"2010-07-15T00:00:00\",\"2010-07-19T00:00:00\",\"2010-07-20T00:00:00\",\"2010-07-21T00:00:00\",\"2010-07-22T00:00:00\",\"2010-07-26T00:00:00\",\"2010-07-27T00:00:00\",\"2010-07-28T00:00:00\",\"2010-07-29T00:00:00\",\"2010-08-02T00:00:00\",\"2010-08-03T00:00:00\",\"2010-08-04T00:00:00\",\"2010-08-05T00:00:00\",\"2010-08-09T00:00:00\",\"2010-08-10T00:00:00\",\"2010-08-11T00:00:00\",\"2010-08-12T00:00:00\",\"2010-08-16T00:00:00\",\"2010-08-17T00:00:00\",\"2010-08-18T00:00:00\",\"2010-08-19T00:00:00\",\"2010-08-23T00:00:00\",\"2010-08-24T00:00:00\",\"2010-08-25T00:00:00\",\"2010-08-26T00:00:00\",\"2010-08-30T00:00:00\",\"2010-08-31T00:00:00\",\"2010-09-01T00:00:00\",\"2010-09-02T00:00:00\",\"2010-09-07T00:00:00\",\"2010-09-08T00:00:00\",\"2010-09-09T00:00:00\",\"2010-09-13T00:00:00\",\"2010-09-14T00:00:00\",\"2010-09-15T00:00:00\",\"2010-09-16T00:00:00\",\"2010-09-20T00:00:00\",\"2010-09-21T00:00:00\",\"2010-09-22T00:00:00\",\"2010-09-23T00:00:00\",\"2010-09-27T00:00:00\",\"2010-09-28T00:00:00\",\"2010-09-29T00:00:00\",\"2010-09-30T00:00:00\",\"2010-10-04T00:00:00\",\"2010-10-05T00:00:00\",\"2010-10-06T00:00:00\",\"2010-10-07T00:00:00\",\"2010-10-11T00:00:00\",\"2010-10-12T00:00:00\",\"2010-10-13T00:00:00\",\"2010-10-14T00:00:00\",\"2010-10-18T00:00:00\",\"2010-10-19T00:00:00\",\"2010-10-20T00:00:00\",\"2010-10-21T00:00:00\",\"2010-10-25T00:00:00\",\"2010-10-26T00:00:00\",\"2010-10-27T00:00:00\",\"2010-10-28T00:00:00\",\"2010-11-01T00:00:00\",\"2010-11-02T00:00:00\",\"2010-11-03T00:00:00\",\"2010-11-04T00:00:00\",\"2010-11-05T00:00:00\",\"2010-11-08T00:00:00\",\"2010-11-09T00:00:00\",\"2010-11-10T00:00:00\",\"2010-11-11T00:00:00\",\"2010-11-12T00:00:00\",\"2010-11-15T00:00:00\",\"2010-11-16T00:00:00\",\"2010-11-17T00:00:00\",\"2010-11-18T00:00:00\",\"2010-11-19T00:00:00\",\"2010-11-22T00:00:00\",\"2010-11-23T00:00:00\",\"2010-11-24T00:00:00\",\"2010-11-26T00:00:00\",\"2010-11-29T00:00:00\",\"2010-11-30T00:00:00\",\"2010-12-01T00:00:00\",\"2010-12-02T00:00:00\",\"2010-12-03T00:00:00\",\"2010-12-06T00:00:00\",\"2010-12-07T00:00:00\",\"2010-12-08T00:00:00\",\"2010-12-09T00:00:00\",\"2010-12-10T00:00:00\",\"2010-12-13T00:00:00\",\"2010-12-14T00:00:00\",\"2010-12-15T00:00:00\",\"2010-12-16T00:00:00\",\"2010-12-17T00:00:00\",\"2010-12-20T00:00:00\",\"2010-12-21T00:00:00\",\"2010-12-22T00:00:00\",\"2010-12-23T00:00:00\",\"2010-12-27T00:00:00\",\"2010-12-28T00:00:00\",\"2010-12-29T00:00:00\",\"2010-12-30T00:00:00\",\"2010-12-31T00:00:00\",\"2011-01-03T00:00:00\",\"2011-01-04T00:00:00\",\"2011-01-05T00:00:00\",\"2011-01-06T00:00:00\",\"2011-01-07T00:00:00\",\"2011-01-10T00:00:00\",\"2011-01-11T00:00:00\",\"2011-01-12T00:00:00\",\"2011-01-13T00:00:00\",\"2011-01-14T00:00:00\",\"2011-01-18T00:00:00\",\"2011-01-19T00:00:00\",\"2011-01-20T00:00:00\",\"2011-01-21T00:00:00\",\"2011-01-24T00:00:00\",\"2011-01-25T00:00:00\",\"2011-01-26T00:00:00\",\"2011-01-27T00:00:00\",\"2011-01-28T00:00:00\",\"2011-01-31T00:00:00\",\"2011-02-01T00:00:00\",\"2011-02-02T00:00:00\",\"2011-02-03T00:00:00\",\"2011-02-04T00:00:00\",\"2011-02-07T00:00:00\",\"2011-02-08T00:00:00\",\"2011-02-09T00:00:00\",\"2011-02-10T00:00:00\",\"2011-02-11T00:00:00\",\"2011-02-14T00:00:00\",\"2011-02-15T00:00:00\",\"2011-02-16T00:00:00\",\"2011-02-17T00:00:00\",\"2011-02-18T00:00:00\",\"2011-02-22T00:00:00\",\"2011-02-23T00:00:00\",\"2011-02-24T00:00:00\",\"2011-02-25T00:00:00\",\"2011-02-28T00:00:00\",\"2011-03-01T00:00:00\",\"2011-03-02T00:00:00\",\"2011-03-03T00:00:00\",\"2011-03-04T00:00:00\",\"2011-03-07T00:00:00\",\"2011-03-08T00:00:00\",\"2011-03-09T00:00:00\",\"2011-03-10T00:00:00\",\"2011-03-11T00:00:00\",\"2011-03-14T00:00:00\",\"2011-03-15T00:00:00\",\"2011-03-16T00:00:00\",\"2011-03-17T00:00:00\",\"2011-03-18T00:00:00\",\"2011-03-21T00:00:00\",\"2011-03-22T00:00:00\",\"2011-03-23T00:00:00\",\"2011-03-24T00:00:00\",\"2011-03-25T00:00:00\",\"2011-03-28T00:00:00\",\"2011-03-29T00:00:00\",\"2011-03-30T00:00:00\",\"2011-03-31T00:00:00\",\"2011-04-04T00:00:00\",\"2011-04-05T00:00:00\",\"2011-04-06T00:00:00\",\"2011-04-07T00:00:00\",\"2011-04-11T00:00:00\",\"2011-04-12T00:00:00\",\"2011-04-13T00:00:00\",\"2011-04-14T00:00:00\",\"2011-04-18T00:00:00\",\"2011-04-19T00:00:00\",\"2011-04-20T00:00:00\",\"2011-04-21T00:00:00\",\"2011-04-25T00:00:00\",\"2011-04-26T00:00:00\",\"2011-04-27T00:00:00\",\"2011-04-28T00:00:00\",\"2011-05-02T00:00:00\",\"2011-05-03T00:00:00\",\"2011-05-04T00:00:00\",\"2011-05-05T00:00:00\",\"2011-05-09T00:00:00\",\"2011-05-10T00:00:00\",\"2011-05-11T00:00:00\",\"2011-05-12T00:00:00\",\"2011-05-16T00:00:00\",\"2011-05-17T00:00:00\",\"2011-05-18T00:00:00\",\"2011-05-19T00:00:00\",\"2011-05-23T00:00:00\",\"2011-05-24T00:00:00\",\"2011-05-25T00:00:00\",\"2011-05-26T00:00:00\",\"2011-05-31T00:00:00\",\"2011-06-01T00:00:00\",\"2011-06-02T00:00:00\",\"2011-06-06T00:00:00\",\"2011-06-07T00:00:00\",\"2011-06-08T00:00:00\",\"2011-06-09T00:00:00\",\"2011-06-13T00:00:00\",\"2011-06-14T00:00:00\",\"2011-06-15T00:00:00\",\"2011-06-16T00:00:00\",\"2011-06-20T00:00:00\",\"2011-06-21T00:00:00\",\"2011-06-22T00:00:00\",\"2011-06-23T00:00:00\",\"2011-06-27T00:00:00\",\"2011-06-28T00:00:00\",\"2011-06-29T00:00:00\",\"2011-06-30T00:00:00\",\"2011-07-05T00:00:00\",\"2011-07-06T00:00:00\",\"2011-07-07T00:00:00\",\"2011-07-11T00:00:00\",\"2011-07-12T00:00:00\",\"2011-07-13T00:00:00\",\"2011-07-14T00:00:00\",\"2011-07-18T00:00:00\",\"2011-07-19T00:00:00\",\"2011-07-20T00:00:00\",\"2011-07-21T00:00:00\",\"2011-07-25T00:00:00\",\"2011-07-26T00:00:00\",\"2011-07-27T00:00:00\",\"2011-07-28T00:00:00\",\"2011-08-01T00:00:00\",\"2011-08-02T00:00:00\",\"2011-08-03T00:00:00\",\"2011-08-04T00:00:00\",\"2011-08-08T00:00:00\",\"2011-08-09T00:00:00\",\"2011-08-10T00:00:00\",\"2011-08-11T00:00:00\",\"2011-08-15T00:00:00\",\"2011-08-16T00:00:00\",\"2011-08-17T00:00:00\",\"2011-08-18T00:00:00\",\"2011-08-22T00:00:00\",\"2011-08-23T00:00:00\",\"2011-08-24T00:00:00\",\"2011-08-25T00:00:00\",\"2011-08-29T00:00:00\",\"2011-08-30T00:00:00\",\"2011-08-31T00:00:00\",\"2011-09-01T00:00:00\",\"2011-09-06T00:00:00\",\"2011-09-07T00:00:00\",\"2011-09-08T00:00:00\",\"2011-09-12T00:00:00\",\"2011-09-13T00:00:00\",\"2011-09-14T00:00:00\",\"2011-09-15T00:00:00\",\"2011-09-19T00:00:00\",\"2011-09-20T00:00:00\",\"2011-09-21T00:00:00\",\"2011-09-22T00:00:00\",\"2011-09-26T00:00:00\",\"2011-09-27T00:00:00\",\"2011-09-28T00:00:00\",\"2011-09-29T00:00:00\",\"2011-10-03T00:00:00\",\"2011-10-04T00:00:00\",\"2011-10-05T00:00:00\",\"2011-10-06T00:00:00\",\"2011-10-10T00:00:00\",\"2011-10-11T00:00:00\",\"2011-10-12T00:00:00\",\"2011-10-13T00:00:00\",\"2011-10-17T00:00:00\",\"2011-10-18T00:00:00\",\"2011-10-19T00:00:00\",\"2011-10-20T00:00:00\",\"2011-10-24T00:00:00\",\"2011-10-25T00:00:00\",\"2011-10-26T00:00:00\",\"2011-10-27T00:00:00\",\"2011-10-31T00:00:00\",\"2011-11-01T00:00:00\",\"2011-11-02T00:00:00\",\"2011-11-03T00:00:00\",\"2011-11-04T00:00:00\",\"2011-11-07T00:00:00\",\"2011-11-08T00:00:00\",\"2011-11-09T00:00:00\",\"2011-11-10T00:00:00\",\"2011-11-11T00:00:00\",\"2011-11-14T00:00:00\",\"2011-11-15T00:00:00\",\"2011-11-16T00:00:00\",\"2011-11-17T00:00:00\",\"2011-11-18T00:00:00\",\"2011-11-21T00:00:00\",\"2011-11-22T00:00:00\",\"2011-11-23T00:00:00\",\"2011-11-25T00:00:00\",\"2011-11-28T00:00:00\",\"2011-11-29T00:00:00\",\"2011-11-30T00:00:00\",\"2011-12-01T00:00:00\",\"2011-12-02T00:00:00\",\"2011-12-05T00:00:00\",\"2011-12-06T00:00:00\",\"2011-12-07T00:00:00\",\"2011-12-08T00:00:00\",\"2011-12-09T00:00:00\",\"2011-12-12T00:00:00\",\"2011-12-13T00:00:00\",\"2011-12-14T00:00:00\",\"2011-12-15T00:00:00\",\"2011-12-16T00:00:00\",\"2011-12-19T00:00:00\",\"2011-12-20T00:00:00\",\"2011-12-21T00:00:00\",\"2011-12-22T00:00:00\",\"2011-12-23T00:00:00\",\"2011-12-27T00:00:00\",\"2011-12-28T00:00:00\",\"2011-12-29T00:00:00\",\"2011-12-30T00:00:00\",\"2012-01-03T00:00:00\",\"2012-01-04T00:00:00\",\"2012-01-05T00:00:00\",\"2012-01-06T00:00:00\",\"2012-01-09T00:00:00\",\"2012-01-10T00:00:00\",\"2012-01-11T00:00:00\",\"2012-01-12T00:00:00\",\"2012-01-13T00:00:00\",\"2012-01-17T00:00:00\",\"2012-01-18T00:00:00\",\"2012-01-19T00:00:00\",\"2012-01-20T00:00:00\",\"2012-01-23T00:00:00\",\"2012-01-24T00:00:00\",\"2012-01-25T00:00:00\",\"2012-01-26T00:00:00\",\"2012-01-27T00:00:00\",\"2012-01-30T00:00:00\",\"2012-01-31T00:00:00\",\"2012-02-01T00:00:00\",\"2012-02-02T00:00:00\",\"2012-02-03T00:00:00\",\"2012-02-06T00:00:00\",\"2012-02-07T00:00:00\",\"2012-02-08T00:00:00\",\"2012-02-09T00:00:00\",\"2012-02-10T00:00:00\",\"2012-02-13T00:00:00\",\"2012-02-14T00:00:00\",\"2012-02-15T00:00:00\",\"2012-02-16T00:00:00\",\"2012-02-17T00:00:00\",\"2012-02-21T00:00:00\",\"2012-02-22T00:00:00\",\"2012-02-23T00:00:00\",\"2012-02-24T00:00:00\",\"2012-02-27T00:00:00\",\"2012-02-28T00:00:00\",\"2012-02-29T00:00:00\",\"2012-03-01T00:00:00\",\"2012-03-02T00:00:00\",\"2012-03-05T00:00:00\",\"2012-03-06T00:00:00\",\"2012-03-07T00:00:00\",\"2012-03-08T00:00:00\",\"2012-03-09T00:00:00\",\"2012-03-12T00:00:00\",\"2012-03-13T00:00:00\",\"2012-03-14T00:00:00\",\"2012-03-15T00:00:00\",\"2012-03-16T00:00:00\",\"2012-03-19T00:00:00\",\"2012-03-20T00:00:00\",\"2012-03-21T00:00:00\",\"2012-03-22T00:00:00\",\"2012-03-23T00:00:00\",\"2012-03-26T00:00:00\",\"2012-03-27T00:00:00\",\"2012-03-28T00:00:00\",\"2012-03-29T00:00:00\",\"2012-04-02T00:00:00\",\"2012-04-03T00:00:00\",\"2012-04-04T00:00:00\",\"2012-04-05T00:00:00\",\"2012-04-09T00:00:00\",\"2012-04-10T00:00:00\",\"2012-04-11T00:00:00\",\"2012-04-12T00:00:00\",\"2012-04-16T00:00:00\",\"2012-04-17T00:00:00\",\"2012-04-18T00:00:00\",\"2012-04-19T00:00:00\",\"2012-04-23T00:00:00\",\"2012-04-24T00:00:00\",\"2012-04-25T00:00:00\",\"2012-04-26T00:00:00\",\"2012-04-30T00:00:00\",\"2012-05-01T00:00:00\",\"2012-05-02T00:00:00\",\"2012-05-03T00:00:00\",\"2012-05-07T00:00:00\",\"2012-05-08T00:00:00\",\"2012-05-09T00:00:00\",\"2012-05-10T00:00:00\",\"2012-05-14T00:00:00\",\"2012-05-15T00:00:00\",\"2012-05-16T00:00:00\",\"2012-05-17T00:00:00\",\"2012-05-21T00:00:00\",\"2012-05-22T00:00:00\",\"2012-05-23T00:00:00\",\"2012-05-24T00:00:00\",\"2012-05-29T00:00:00\",\"2012-05-30T00:00:00\",\"2012-05-31T00:00:00\",\"2012-06-04T00:00:00\",\"2012-06-05T00:00:00\",\"2012-06-06T00:00:00\",\"2012-06-07T00:00:00\",\"2012-06-11T00:00:00\",\"2012-06-12T00:00:00\",\"2012-06-13T00:00:00\",\"2012-06-14T00:00:00\",\"2012-06-18T00:00:00\",\"2012-06-19T00:00:00\",\"2012-06-20T00:00:00\",\"2012-06-21T00:00:00\",\"2012-06-25T00:00:00\",\"2012-06-26T00:00:00\",\"2012-06-27T00:00:00\",\"2012-06-28T00:00:00\",\"2012-07-02T00:00:00\",\"2012-07-03T00:00:00\",\"2012-07-05T00:00:00\",\"2012-07-09T00:00:00\",\"2012-07-10T00:00:00\",\"2012-07-11T00:00:00\",\"2012-07-12T00:00:00\",\"2012-07-16T00:00:00\",\"2012-07-17T00:00:00\",\"2012-07-18T00:00:00\",\"2012-07-19T00:00:00\",\"2012-07-23T00:00:00\",\"2012-07-24T00:00:00\",\"2012-07-25T00:00:00\",\"2012-07-26T00:00:00\",\"2012-07-30T00:00:00\",\"2012-07-31T00:00:00\",\"2012-08-01T00:00:00\",\"2012-08-02T00:00:00\",\"2012-08-06T00:00:00\",\"2012-08-07T00:00:00\",\"2012-08-08T00:00:00\",\"2012-08-09T00:00:00\",\"2012-08-13T00:00:00\",\"2012-08-14T00:00:00\",\"2012-08-15T00:00:00\",\"2012-08-16T00:00:00\",\"2012-08-20T00:00:00\",\"2012-08-21T00:00:00\",\"2012-08-22T00:00:00\",\"2012-08-23T00:00:00\",\"2012-08-27T00:00:00\",\"2012-08-28T00:00:00\",\"2012-08-29T00:00:00\",\"2012-08-30T00:00:00\",\"2012-09-04T00:00:00\",\"2012-09-05T00:00:00\",\"2012-09-06T00:00:00\",\"2012-09-10T00:00:00\",\"2012-09-11T00:00:00\",\"2012-09-12T00:00:00\",\"2012-09-13T00:00:00\",\"2012-09-17T00:00:00\",\"2012-09-18T00:00:00\",\"2012-09-19T00:00:00\",\"2012-09-20T00:00:00\",\"2012-09-24T00:00:00\",\"2012-09-25T00:00:00\",\"2012-09-26T00:00:00\",\"2012-09-27T00:00:00\",\"2012-10-01T00:00:00\",\"2012-10-02T00:00:00\",\"2012-10-03T00:00:00\",\"2012-10-04T00:00:00\",\"2012-10-08T00:00:00\",\"2012-10-09T00:00:00\",\"2012-10-10T00:00:00\",\"2012-10-11T00:00:00\",\"2012-10-15T00:00:00\",\"2012-10-16T00:00:00\",\"2012-10-17T00:00:00\",\"2012-10-18T00:00:00\",\"2012-10-22T00:00:00\",\"2012-10-23T00:00:00\",\"2012-10-24T00:00:00\",\"2012-10-25T00:00:00\",\"2012-10-31T00:00:00\",\"2012-11-01T00:00:00\",\"2012-11-02T00:00:00\",\"2012-11-05T00:00:00\",\"2012-11-06T00:00:00\",\"2012-11-07T00:00:00\",\"2012-11-08T00:00:00\",\"2012-11-09T00:00:00\",\"2012-11-12T00:00:00\",\"2012-11-13T00:00:00\",\"2012-11-14T00:00:00\",\"2012-11-15T00:00:00\",\"2012-11-16T00:00:00\",\"2012-11-19T00:00:00\",\"2012-11-20T00:00:00\",\"2012-11-21T00:00:00\",\"2012-11-23T00:00:00\",\"2012-11-26T00:00:00\",\"2012-11-27T00:00:00\",\"2012-11-28T00:00:00\",\"2012-11-29T00:00:00\",\"2012-11-30T00:00:00\",\"2012-12-03T00:00:00\",\"2012-12-05T00:00:00\",\"2012-12-06T00:00:00\",\"2012-12-07T00:00:00\",\"2012-12-10T00:00:00\",\"2012-12-11T00:00:00\",\"2012-12-12T00:00:00\",\"2012-12-13T00:00:00\",\"2012-12-14T00:00:00\",\"2012-12-17T00:00:00\",\"2012-12-18T00:00:00\",\"2012-12-19T00:00:00\",\"2012-12-20T00:00:00\",\"2012-12-21T00:00:00\",\"2012-12-24T00:00:00\",\"2012-12-26T00:00:00\",\"2012-12-27T00:00:00\",\"2012-12-28T00:00:00\",\"2012-12-31T00:00:00\",\"2013-01-02T00:00:00\",\"2013-01-03T00:00:00\",\"2013-01-04T00:00:00\",\"2013-01-07T00:00:00\",\"2013-01-08T00:00:00\",\"2013-01-09T00:00:00\",\"2013-01-10T00:00:00\",\"2013-01-11T00:00:00\",\"2013-01-14T00:00:00\",\"2013-01-15T00:00:00\",\"2013-01-16T00:00:00\",\"2013-01-17T00:00:00\",\"2013-01-18T00:00:00\",\"2013-01-22T00:00:00\",\"2013-01-23T00:00:00\",\"2013-01-24T00:00:00\",\"2013-01-25T00:00:00\",\"2013-01-28T00:00:00\",\"2013-01-29T00:00:00\",\"2013-01-30T00:00:00\",\"2013-01-31T00:00:00\",\"2013-02-01T00:00:00\",\"2013-02-04T00:00:00\",\"2013-02-05T00:00:00\",\"2013-02-06T00:00:00\",\"2013-02-07T00:00:00\",\"2013-02-08T00:00:00\",\"2013-02-11T00:00:00\",\"2013-02-12T00:00:00\",\"2013-02-13T00:00:00\",\"2013-02-14T00:00:00\",\"2013-02-15T00:00:00\",\"2013-02-19T00:00:00\",\"2013-02-20T00:00:00\",\"2013-02-21T00:00:00\",\"2013-02-22T00:00:00\",\"2013-02-25T00:00:00\",\"2013-02-26T00:00:00\",\"2013-02-27T00:00:00\",\"2013-02-28T00:00:00\",\"2013-03-01T00:00:00\",\"2013-03-04T00:00:00\",\"2013-03-05T00:00:00\",\"2013-03-06T00:00:00\",\"2013-03-07T00:00:00\",\"2013-03-08T00:00:00\",\"2013-03-11T00:00:00\",\"2013-03-12T00:00:00\",\"2013-03-13T00:00:00\",\"2013-03-14T00:00:00\",\"2013-03-15T00:00:00\",\"2013-03-18T00:00:00\",\"2013-03-19T00:00:00\",\"2013-03-20T00:00:00\",\"2013-03-21T00:00:00\",\"2013-03-22T00:00:00\",\"2013-03-25T00:00:00\",\"2013-03-26T00:00:00\",\"2013-03-27T00:00:00\",\"2013-03-28T00:00:00\",\"2013-04-01T00:00:00\",\"2013-04-02T00:00:00\",\"2013-04-03T00:00:00\",\"2013-04-04T00:00:00\",\"2013-04-08T00:00:00\",\"2013-04-09T00:00:00\",\"2013-04-10T00:00:00\",\"2013-04-11T00:00:00\",\"2013-04-15T00:00:00\",\"2013-04-16T00:00:00\",\"2013-04-17T00:00:00\",\"2013-04-18T00:00:00\",\"2013-04-22T00:00:00\",\"2013-04-23T00:00:00\",\"2013-04-24T00:00:00\",\"2013-04-25T00:00:00\",\"2013-04-29T00:00:00\",\"2013-04-30T00:00:00\",\"2013-05-01T00:00:00\",\"2013-05-02T00:00:00\",\"2013-05-06T00:00:00\",\"2013-05-07T00:00:00\",\"2013-05-08T00:00:00\",\"2013-05-09T00:00:00\",\"2013-05-13T00:00:00\",\"2013-05-14T00:00:00\",\"2013-05-15T00:00:00\",\"2013-05-16T00:00:00\",\"2013-05-20T00:00:00\",\"2013-05-21T00:00:00\",\"2013-05-22T00:00:00\",\"2013-05-23T00:00:00\",\"2013-05-28T00:00:00\",\"2013-05-29T00:00:00\",\"2013-05-30T00:00:00\",\"2013-06-03T00:00:00\",\"2013-06-04T00:00:00\",\"2013-06-05T00:00:00\",\"2013-06-06T00:00:00\",\"2013-06-10T00:00:00\",\"2013-06-11T00:00:00\",\"2013-06-12T00:00:00\",\"2013-06-13T00:00:00\",\"2013-06-17T00:00:00\",\"2013-06-18T00:00:00\",\"2013-06-19T00:00:00\",\"2013-06-20T00:00:00\",\"2013-06-24T00:00:00\",\"2013-06-25T00:00:00\",\"2013-06-26T00:00:00\",\"2013-06-27T00:00:00\",\"2013-07-01T00:00:00\",\"2013-07-02T00:00:00\",\"2013-07-03T00:00:00\",\"2013-07-08T00:00:00\",\"2013-07-09T00:00:00\",\"2013-07-10T00:00:00\",\"2013-07-11T00:00:00\",\"2013-07-15T00:00:00\",\"2013-07-16T00:00:00\",\"2013-07-17T00:00:00\",\"2013-07-18T00:00:00\",\"2013-07-22T00:00:00\",\"2013-07-23T00:00:00\",\"2013-07-24T00:00:00\",\"2013-07-25T00:00:00\",\"2013-07-29T00:00:00\",\"2013-07-30T00:00:00\",\"2013-07-31T00:00:00\",\"2013-08-01T00:00:00\",\"2013-08-05T00:00:00\",\"2013-08-06T00:00:00\",\"2013-08-07T00:00:00\",\"2013-08-08T00:00:00\",\"2013-08-12T00:00:00\",\"2013-08-13T00:00:00\",\"2013-08-14T00:00:00\",\"2013-08-15T00:00:00\",\"2013-08-19T00:00:00\",\"2013-08-20T00:00:00\",\"2013-08-21T00:00:00\",\"2013-08-22T00:00:00\",\"2013-08-26T00:00:00\",\"2013-08-27T00:00:00\",\"2013-08-28T00:00:00\",\"2013-08-29T00:00:00\",\"2013-09-03T00:00:00\",\"2013-09-04T00:00:00\",\"2013-09-05T00:00:00\",\"2013-09-09T00:00:00\",\"2013-09-10T00:00:00\",\"2013-09-11T00:00:00\",\"2013-09-12T00:00:00\",\"2013-09-16T00:00:00\",\"2013-09-17T00:00:00\",\"2013-09-18T00:00:00\",\"2013-09-19T00:00:00\",\"2013-09-23T00:00:00\",\"2013-09-24T00:00:00\",\"2013-09-25T00:00:00\",\"2013-09-26T00:00:00\",\"2013-09-30T00:00:00\",\"2013-10-01T00:00:00\",\"2013-10-02T00:00:00\",\"2013-10-03T00:00:00\",\"2013-10-08T00:00:00\",\"2013-10-09T00:00:00\",\"2013-10-10T00:00:00\",\"2013-10-14T00:00:00\",\"2013-10-15T00:00:00\",\"2013-10-16T00:00:00\",\"2013-10-17T00:00:00\",\"2013-10-21T00:00:00\",\"2013-10-22T00:00:00\",\"2013-10-23T00:00:00\",\"2013-10-24T00:00:00\",\"2013-10-28T00:00:00\",\"2013-10-29T00:00:00\",\"2013-10-30T00:00:00\",\"2013-10-31T00:00:00\",\"2013-11-01T00:00:00\",\"2013-11-04T00:00:00\",\"2013-11-05T00:00:00\",\"2013-11-06T00:00:00\",\"2013-11-07T00:00:00\",\"2013-11-08T00:00:00\",\"2013-11-11T00:00:00\",\"2013-11-12T00:00:00\",\"2013-11-13T00:00:00\",\"2013-11-14T00:00:00\",\"2013-11-15T00:00:00\",\"2013-11-18T00:00:00\",\"2013-11-19T00:00:00\",\"2013-11-20T00:00:00\",\"2013-11-21T00:00:00\",\"2013-11-22T00:00:00\",\"2013-11-25T00:00:00\",\"2013-11-26T00:00:00\",\"2013-11-27T00:00:00\",\"2013-11-29T00:00:00\",\"2013-12-02T00:00:00\",\"2013-12-03T00:00:00\",\"2013-12-04T00:00:00\",\"2013-12-05T00:00:00\",\"2013-12-06T00:00:00\",\"2013-12-09T00:00:00\",\"2013-12-10T00:00:00\",\"2013-12-11T00:00:00\",\"2013-12-12T00:00:00\",\"2013-12-13T00:00:00\",\"2013-12-16T00:00:00\",\"2013-12-17T00:00:00\",\"2013-12-18T00:00:00\",\"2013-12-19T00:00:00\",\"2013-12-20T00:00:00\",\"2013-12-23T00:00:00\",\"2013-12-24T00:00:00\",\"2013-12-26T00:00:00\",\"2013-12-27T00:00:00\",\"2013-12-30T00:00:00\",\"2013-12-31T00:00:00\",\"2014-01-02T00:00:00\",\"2014-01-03T00:00:00\",\"2014-01-06T00:00:00\",\"2014-01-07T00:00:00\",\"2014-01-08T00:00:00\",\"2014-01-09T00:00:00\",\"2014-01-10T00:00:00\",\"2014-01-13T00:00:00\",\"2014-01-14T00:00:00\",\"2014-01-15T00:00:00\",\"2014-01-16T00:00:00\",\"2014-01-17T00:00:00\",\"2014-01-21T00:00:00\",\"2014-01-22T00:00:00\",\"2014-01-23T00:00:00\",\"2014-01-24T00:00:00\",\"2014-01-27T00:00:00\",\"2014-01-28T00:00:00\",\"2014-01-29T00:00:00\",\"2014-01-30T00:00:00\",\"2014-01-31T00:00:00\",\"2014-02-03T00:00:00\",\"2014-02-04T00:00:00\",\"2014-02-05T00:00:00\",\"2014-02-06T00:00:00\",\"2014-02-07T00:00:00\",\"2014-02-10T00:00:00\",\"2014-02-11T00:00:00\",\"2014-02-12T00:00:00\",\"2014-02-13T00:00:00\",\"2014-02-14T00:00:00\",\"2014-02-18T00:00:00\",\"2014-02-19T00:00:00\",\"2014-02-20T00:00:00\",\"2014-02-21T00:00:00\",\"2014-02-24T00:00:00\",\"2014-02-25T00:00:00\",\"2014-02-26T00:00:00\",\"2014-02-27T00:00:00\",\"2014-02-28T00:00:00\",\"2014-03-03T00:00:00\",\"2014-03-04T00:00:00\",\"2014-03-05T00:00:00\",\"2014-03-06T00:00:00\",\"2014-03-07T00:00:00\",\"2014-03-10T00:00:00\",\"2014-03-11T00:00:00\",\"2014-03-12T00:00:00\",\"2014-03-13T00:00:00\",\"2014-03-14T00:00:00\",\"2014-03-17T00:00:00\",\"2014-03-18T00:00:00\",\"2014-03-19T00:00:00\",\"2014-03-20T00:00:00\",\"2014-03-21T00:00:00\",\"2014-03-24T00:00:00\",\"2014-03-25T00:00:00\",\"2014-03-26T00:00:00\",\"2014-03-27T00:00:00\",\"2014-03-28T00:00:00\",\"2014-03-31T00:00:00\",\"2014-04-01T00:00:00\",\"2014-04-02T00:00:00\",\"2014-04-03T00:00:00\",\"2014-04-07T00:00:00\",\"2014-04-08T00:00:00\",\"2014-04-09T00:00:00\",\"2014-04-10T00:00:00\",\"2014-04-14T00:00:00\",\"2014-04-15T00:00:00\",\"2014-04-16T00:00:00\",\"2014-04-17T00:00:00\",\"2014-04-21T00:00:00\",\"2014-04-22T00:00:00\",\"2014-04-23T00:00:00\",\"2014-04-24T00:00:00\",\"2014-04-28T00:00:00\",\"2014-04-29T00:00:00\",\"2014-04-30T00:00:00\",\"2014-05-01T00:00:00\",\"2014-05-05T00:00:00\",\"2014-05-06T00:00:00\",\"2014-05-07T00:00:00\",\"2014-05-08T00:00:00\",\"2014-05-12T00:00:00\",\"2014-05-13T00:00:00\",\"2014-05-14T00:00:00\",\"2014-05-15T00:00:00\",\"2014-05-19T00:00:00\",\"2014-05-20T00:00:00\",\"2014-05-21T00:00:00\",\"2014-05-22T00:00:00\",\"2014-05-27T00:00:00\",\"2014-05-28T00:00:00\",\"2014-05-29T00:00:00\",\"2014-06-02T00:00:00\",\"2014-06-03T00:00:00\",\"2014-06-04T00:00:00\",\"2014-06-05T00:00:00\",\"2014-06-09T00:00:00\",\"2014-06-10T00:00:00\",\"2014-06-11T00:00:00\",\"2014-06-12T00:00:00\",\"2014-06-16T00:00:00\",\"2014-06-17T00:00:00\",\"2014-06-18T00:00:00\",\"2014-06-19T00:00:00\",\"2014-06-23T00:00:00\",\"2014-06-24T00:00:00\",\"2014-06-25T00:00:00\",\"2014-06-26T00:00:00\",\"2014-06-30T00:00:00\",\"2014-07-01T00:00:00\",\"2014-07-02T00:00:00\",\"2014-07-03T00:00:00\",\"2014-07-07T00:00:00\",\"2014-07-08T00:00:00\",\"2014-07-09T00:00:00\",\"2014-07-10T00:00:00\",\"2014-07-14T00:00:00\",\"2014-07-15T00:00:00\",\"2014-07-16T00:00:00\",\"2014-07-17T00:00:00\",\"2014-07-21T00:00:00\",\"2014-07-22T00:00:00\",\"2014-07-23T00:00:00\",\"2014-07-24T00:00:00\",\"2014-07-28T00:00:00\",\"2014-07-29T00:00:00\",\"2014-07-30T00:00:00\",\"2014-07-31T00:00:00\",\"2014-08-04T00:00:00\",\"2014-08-05T00:00:00\",\"2014-08-06T00:00:00\",\"2014-08-07T00:00:00\",\"2014-08-11T00:00:00\",\"2014-08-12T00:00:00\",\"2014-08-13T00:00:00\",\"2014-08-14T00:00:00\",\"2014-08-18T00:00:00\",\"2014-08-19T00:00:00\",\"2014-08-20T00:00:00\",\"2014-08-21T00:00:00\",\"2014-08-25T00:00:00\",\"2014-08-26T00:00:00\",\"2014-08-27T00:00:00\",\"2014-08-28T00:00:00\",\"2014-09-02T00:00:00\",\"2014-09-03T00:00:00\",\"2014-09-04T00:00:00\",\"2014-09-08T00:00:00\",\"2014-09-09T00:00:00\",\"2014-09-10T00:00:00\",\"2014-09-11T00:00:00\",\"2014-09-15T00:00:00\",\"2014-09-16T00:00:00\",\"2014-09-17T00:00:00\",\"2014-09-18T00:00:00\",\"2014-09-22T00:00:00\",\"2014-09-23T00:00:00\",\"2014-09-24T00:00:00\",\"2014-09-25T00:00:00\",\"2014-09-29T00:00:00\",\"2014-09-30T00:00:00\",\"2014-10-01T00:00:00\",\"2014-10-02T00:00:00\",\"2014-10-06T00:00:00\",\"2014-10-07T00:00:00\",\"2014-10-08T00:00:00\",\"2014-10-09T00:00:00\",\"2014-10-13T00:00:00\",\"2014-10-14T00:00:00\",\"2014-10-15T00:00:00\",\"2014-10-16T00:00:00\",\"2014-10-20T00:00:00\",\"2014-10-21T00:00:00\",\"2014-10-22T00:00:00\",\"2014-10-23T00:00:00\",\"2014-10-27T00:00:00\",\"2014-10-28T00:00:00\",\"2014-10-29T00:00:00\",\"2014-10-30T00:00:00\",\"2014-10-31T00:00:00\",\"2014-11-03T00:00:00\",\"2014-11-04T00:00:00\",\"2014-11-05T00:00:00\",\"2014-11-06T00:00:00\",\"2014-11-07T00:00:00\",\"2014-11-10T00:00:00\",\"2014-11-11T00:00:00\",\"2014-11-12T00:00:00\",\"2014-11-13T00:00:00\",\"2014-11-14T00:00:00\",\"2014-11-17T00:00:00\",\"2014-11-18T00:00:00\",\"2014-11-19T00:00:00\",\"2014-11-20T00:00:00\",\"2014-11-21T00:00:00\",\"2014-11-24T00:00:00\",\"2014-11-25T00:00:00\",\"2014-11-26T00:00:00\",\"2014-11-28T00:00:00\",\"2014-12-01T00:00:00\",\"2014-12-02T00:00:00\",\"2014-12-03T00:00:00\",\"2014-12-04T00:00:00\",\"2014-12-05T00:00:00\",\"2014-12-08T00:00:00\",\"2014-12-09T00:00:00\",\"2014-12-10T00:00:00\",\"2014-12-11T00:00:00\",\"2014-12-12T00:00:00\",\"2014-12-15T00:00:00\",\"2014-12-16T00:00:00\",\"2014-12-17T00:00:00\",\"2014-12-18T00:00:00\",\"2014-12-19T00:00:00\",\"2014-12-22T00:00:00\",\"2014-12-23T00:00:00\",\"2014-12-24T00:00:00\",\"2014-12-26T00:00:00\",\"2014-12-29T00:00:00\",\"2014-12-30T00:00:00\",\"2014-12-31T00:00:00\",\"2015-01-02T00:00:00\",\"2015-01-05T00:00:00\",\"2015-01-06T00:00:00\",\"2015-01-07T00:00:00\",\"2015-01-08T00:00:00\",\"2015-01-09T00:00:00\",\"2015-01-12T00:00:00\",\"2015-01-13T00:00:00\",\"2015-01-14T00:00:00\",\"2015-01-15T00:00:00\",\"2015-01-16T00:00:00\",\"2015-01-20T00:00:00\",\"2015-01-21T00:00:00\",\"2015-01-22T00:00:00\",\"2015-01-23T00:00:00\",\"2015-01-26T00:00:00\",\"2015-01-27T00:00:00\",\"2015-01-28T00:00:00\",\"2015-01-29T00:00:00\",\"2015-01-30T00:00:00\",\"2015-02-02T00:00:00\",\"2015-02-03T00:00:00\",\"2015-02-04T00:00:00\",\"2015-02-05T00:00:00\",\"2015-02-06T00:00:00\",\"2015-02-09T00:00:00\",\"2015-02-10T00:00:00\",\"2015-02-11T00:00:00\",\"2015-02-12T00:00:00\",\"2015-02-13T00:00:00\",\"2015-02-17T00:00:00\",\"2015-02-18T00:00:00\",\"2015-02-19T00:00:00\",\"2015-02-20T00:00:00\",\"2015-02-23T00:00:00\",\"2015-02-24T00:00:00\",\"2015-02-25T00:00:00\",\"2015-02-26T00:00:00\",\"2015-02-27T00:00:00\",\"2015-03-02T00:00:00\",\"2015-03-03T00:00:00\",\"2015-03-04T00:00:00\",\"2015-03-05T00:00:00\",\"2015-03-06T00:00:00\",\"2015-03-09T00:00:00\",\"2015-03-10T00:00:00\",\"2015-03-11T00:00:00\",\"2015-03-12T00:00:00\",\"2015-03-13T00:00:00\",\"2015-03-16T00:00:00\",\"2015-03-17T00:00:00\",\"2015-03-18T00:00:00\",\"2015-03-19T00:00:00\",\"2015-03-20T00:00:00\",\"2015-03-23T00:00:00\",\"2015-03-24T00:00:00\",\"2015-03-25T00:00:00\",\"2015-03-26T00:00:00\",\"2015-03-27T00:00:00\",\"2015-03-30T00:00:00\",\"2015-03-31T00:00:00\",\"2015-04-01T00:00:00\",\"2015-04-02T00:00:00\",\"2015-04-06T00:00:00\",\"2015-04-07T00:00:00\",\"2015-04-08T00:00:00\",\"2015-04-09T00:00:00\",\"2015-04-13T00:00:00\",\"2015-04-14T00:00:00\",\"2015-04-15T00:00:00\",\"2015-04-16T00:00:00\",\"2015-04-20T00:00:00\",\"2015-04-21T00:00:00\",\"2015-04-22T00:00:00\",\"2015-04-23T00:00:00\",\"2015-04-27T00:00:00\",\"2015-04-28T00:00:00\",\"2015-04-29T00:00:00\",\"2015-04-30T00:00:00\",\"2015-05-04T00:00:00\",\"2015-05-05T00:00:00\",\"2015-05-06T00:00:00\",\"2015-05-07T00:00:00\",\"2015-05-11T00:00:00\",\"2015-05-12T00:00:00\",\"2015-05-13T00:00:00\",\"2015-05-14T00:00:00\",\"2015-05-18T00:00:00\",\"2015-05-19T00:00:00\",\"2015-05-20T00:00:00\",\"2015-05-21T00:00:00\",\"2015-05-26T00:00:00\",\"2015-05-27T00:00:00\",\"2015-05-28T00:00:00\",\"2015-06-01T00:00:00\",\"2015-06-02T00:00:00\",\"2015-06-03T00:00:00\",\"2015-06-04T00:00:00\",\"2015-06-08T00:00:00\",\"2015-06-09T00:00:00\",\"2015-06-10T00:00:00\",\"2015-06-11T00:00:00\",\"2015-06-15T00:00:00\",\"2015-06-16T00:00:00\",\"2015-06-17T00:00:00\",\"2015-06-18T00:00:00\",\"2015-06-22T00:00:00\",\"2015-06-23T00:00:00\",\"2015-06-24T00:00:00\",\"2015-06-25T00:00:00\",\"2015-06-29T00:00:00\",\"2015-06-30T00:00:00\",\"2015-07-01T00:00:00\",\"2015-07-02T00:00:00\",\"2015-07-06T00:00:00\",\"2015-07-07T00:00:00\",\"2015-07-08T00:00:00\",\"2015-07-09T00:00:00\",\"2015-07-13T00:00:00\",\"2015-07-14T00:00:00\",\"2015-07-15T00:00:00\",\"2015-07-16T00:00:00\",\"2015-07-20T00:00:00\",\"2015-07-21T00:00:00\",\"2015-07-22T00:00:00\",\"2015-07-23T00:00:00\",\"2015-07-27T00:00:00\",\"2015-07-28T00:00:00\",\"2015-07-29T00:00:00\",\"2015-07-30T00:00:00\",\"2015-08-03T00:00:00\",\"2015-08-04T00:00:00\",\"2015-08-05T00:00:00\",\"2015-08-06T00:00:00\",\"2015-08-10T00:00:00\",\"2015-08-11T00:00:00\",\"2015-08-12T00:00:00\",\"2015-08-13T00:00:00\",\"2015-08-17T00:00:00\",\"2015-08-18T00:00:00\",\"2015-08-19T00:00:00\",\"2015-08-20T00:00:00\",\"2015-08-24T00:00:00\",\"2015-08-25T00:00:00\",\"2015-08-26T00:00:00\",\"2015-08-27T00:00:00\",\"2015-08-31T00:00:00\",\"2015-09-01T00:00:00\",\"2015-09-02T00:00:00\",\"2015-09-03T00:00:00\",\"2015-09-08T00:00:00\",\"2015-09-09T00:00:00\",\"2015-09-10T00:00:00\",\"2015-09-14T00:00:00\",\"2015-09-15T00:00:00\",\"2015-09-16T00:00:00\",\"2015-09-17T00:00:00\",\"2015-09-22T00:00:00\",\"2015-09-23T00:00:00\",\"2015-09-24T00:00:00\",\"2015-09-28T00:00:00\",\"2015-09-29T00:00:00\",\"2015-09-30T00:00:00\",\"2015-10-01T00:00:00\",\"2015-10-05T00:00:00\",\"2015-10-06T00:00:00\",\"2015-10-07T00:00:00\",\"2015-10-08T00:00:00\",\"2015-10-12T00:00:00\",\"2015-10-13T00:00:00\",\"2015-10-14T00:00:00\",\"2015-10-15T00:00:00\",\"2015-10-19T00:00:00\",\"2015-10-20T00:00:00\",\"2015-10-21T00:00:00\",\"2015-10-22T00:00:00\",\"2015-10-26T00:00:00\",\"2015-10-27T00:00:00\",\"2015-10-28T00:00:00\",\"2015-10-29T00:00:00\",\"2015-10-30T00:00:00\",\"2015-11-02T00:00:00\",\"2015-11-03T00:00:00\",\"2015-11-04T00:00:00\",\"2015-11-05T00:00:00\",\"2015-11-06T00:00:00\",\"2015-11-09T00:00:00\",\"2015-11-10T00:00:00\",\"2015-11-11T00:00:00\",\"2015-11-12T00:00:00\",\"2015-11-13T00:00:00\",\"2015-11-16T00:00:00\",\"2015-11-17T00:00:00\",\"2015-11-18T00:00:00\",\"2015-11-19T00:00:00\",\"2015-11-20T00:00:00\",\"2015-11-23T00:00:00\",\"2015-11-24T00:00:00\",\"2015-11-25T00:00:00\",\"2015-11-27T00:00:00\",\"2015-11-30T00:00:00\",\"2015-12-01T00:00:00\",\"2015-12-02T00:00:00\",\"2015-12-03T00:00:00\",\"2015-12-04T00:00:00\",\"2015-12-07T00:00:00\",\"2015-12-08T00:00:00\",\"2015-12-09T00:00:00\",\"2015-12-10T00:00:00\",\"2015-12-11T00:00:00\",\"2015-12-14T00:00:00\",\"2015-12-15T00:00:00\",\"2015-12-16T00:00:00\",\"2015-12-17T00:00:00\",\"2015-12-18T00:00:00\",\"2015-12-21T00:00:00\",\"2015-12-22T00:00:00\",\"2015-12-23T00:00:00\",\"2015-12-24T00:00:00\",\"2015-12-28T00:00:00\",\"2015-12-29T00:00:00\",\"2015-12-30T00:00:00\",\"2015-12-31T00:00:00\",\"2016-01-04T00:00:00\",\"2016-01-05T00:00:00\",\"2016-01-06T00:00:00\",\"2016-01-07T00:00:00\",\"2016-01-08T00:00:00\",\"2016-01-11T00:00:00\",\"2016-01-12T00:00:00\",\"2016-01-13T00:00:00\",\"2016-01-14T00:00:00\",\"2016-01-15T00:00:00\",\"2016-01-19T00:00:00\",\"2016-01-20T00:00:00\",\"2016-01-21T00:00:00\",\"2016-01-22T00:00:00\",\"2016-01-25T00:00:00\",\"2016-01-26T00:00:00\",\"2016-01-27T00:00:00\",\"2016-01-28T00:00:00\",\"2016-01-29T00:00:00\",\"2016-02-01T00:00:00\",\"2016-02-02T00:00:00\",\"2016-02-03T00:00:00\",\"2016-02-04T00:00:00\",\"2016-02-05T00:00:00\",\"2016-02-08T00:00:00\",\"2016-02-09T00:00:00\",\"2016-02-10T00:00:00\",\"2016-02-11T00:00:00\",\"2016-02-12T00:00:00\",\"2016-02-16T00:00:00\",\"2016-02-17T00:00:00\",\"2016-02-18T00:00:00\",\"2016-02-19T00:00:00\",\"2016-02-22T00:00:00\",\"2016-02-23T00:00:00\",\"2016-02-24T00:00:00\",\"2016-02-25T00:00:00\",\"2016-02-26T00:00:00\",\"2016-02-29T00:00:00\",\"2016-03-01T00:00:00\",\"2016-03-02T00:00:00\",\"2016-03-03T00:00:00\",\"2016-03-04T00:00:00\",\"2016-03-07T00:00:00\",\"2016-03-08T00:00:00\",\"2016-03-09T00:00:00\",\"2016-03-10T00:00:00\",\"2016-03-11T00:00:00\",\"2016-03-14T00:00:00\",\"2016-03-15T00:00:00\",\"2016-03-16T00:00:00\",\"2016-03-17T00:00:00\",\"2016-03-18T00:00:00\",\"2016-03-21T00:00:00\",\"2016-03-22T00:00:00\",\"2016-03-23T00:00:00\",\"2016-03-24T00:00:00\",\"2016-03-28T00:00:00\",\"2016-03-29T00:00:00\",\"2016-03-30T00:00:00\",\"2016-03-31T00:00:00\",\"2016-04-04T00:00:00\",\"2016-04-05T00:00:00\",\"2016-04-06T00:00:00\",\"2016-04-07T00:00:00\",\"2016-04-11T00:00:00\",\"2016-04-12T00:00:00\",\"2016-04-13T00:00:00\",\"2016-04-14T00:00:00\",\"2016-04-18T00:00:00\",\"2016-04-19T00:00:00\",\"2016-04-20T00:00:00\",\"2016-04-21T00:00:00\",\"2016-04-25T00:00:00\",\"2016-04-26T00:00:00\",\"2016-04-27T00:00:00\",\"2016-04-28T00:00:00\",\"2016-05-02T00:00:00\",\"2016-05-03T00:00:00\",\"2016-05-04T00:00:00\",\"2016-05-05T00:00:00\",\"2016-05-09T00:00:00\",\"2016-05-10T00:00:00\",\"2016-05-11T00:00:00\",\"2016-05-12T00:00:00\",\"2016-05-16T00:00:00\",\"2016-05-17T00:00:00\",\"2016-05-18T00:00:00\",\"2016-05-19T00:00:00\",\"2016-05-23T00:00:00\",\"2016-05-24T00:00:00\",\"2016-05-25T00:00:00\",\"2016-05-26T00:00:00\",\"2016-05-31T00:00:00\",\"2016-06-01T00:00:00\",\"2016-06-02T00:00:00\",\"2016-06-06T00:00:00\",\"2016-06-07T00:00:00\",\"2016-06-08T00:00:00\",\"2016-06-09T00:00:00\",\"2016-06-13T00:00:00\",\"2016-06-14T00:00:00\",\"2016-06-15T00:00:00\",\"2016-06-16T00:00:00\",\"2016-06-20T00:00:00\",\"2016-06-21T00:00:00\",\"2016-06-22T00:00:00\",\"2016-06-23T00:00:00\",\"2016-06-27T00:00:00\",\"2016-06-28T00:00:00\",\"2016-06-29T00:00:00\",\"2016-06-30T00:00:00\",\"2016-07-05T00:00:00\",\"2016-07-06T00:00:00\",\"2016-07-07T00:00:00\",\"2016-07-11T00:00:00\",\"2016-07-12T00:00:00\",\"2016-07-13T00:00:00\",\"2016-07-14T00:00:00\",\"2016-07-18T00:00:00\",\"2016-07-19T00:00:00\",\"2016-07-20T00:00:00\",\"2016-07-21T00:00:00\",\"2016-07-25T00:00:00\",\"2016-07-26T00:00:00\",\"2016-07-27T00:00:00\",\"2016-07-28T00:00:00\",\"2016-08-01T00:00:00\",\"2016-08-02T00:00:00\",\"2016-08-03T00:00:00\",\"2016-08-04T00:00:00\",\"2016-08-08T00:00:00\",\"2016-08-09T00:00:00\",\"2016-08-10T00:00:00\",\"2016-08-11T00:00:00\",\"2016-08-15T00:00:00\",\"2016-08-16T00:00:00\",\"2016-08-17T00:00:00\",\"2016-08-18T00:00:00\",\"2016-08-22T00:00:00\",\"2016-08-23T00:00:00\",\"2016-08-24T00:00:00\",\"2016-08-25T00:00:00\",\"2016-08-29T00:00:00\",\"2016-08-30T00:00:00\",\"2016-08-31T00:00:00\",\"2016-09-01T00:00:00\",\"2016-09-06T00:00:00\",\"2016-09-07T00:00:00\",\"2016-09-08T00:00:00\",\"2016-09-12T00:00:00\",\"2016-09-13T00:00:00\",\"2016-09-14T00:00:00\",\"2016-09-15T00:00:00\",\"2016-09-19T00:00:00\",\"2016-09-20T00:00:00\",\"2016-09-21T00:00:00\",\"2016-09-22T00:00:00\",\"2016-09-26T00:00:00\",\"2016-09-27T00:00:00\",\"2016-09-28T00:00:00\",\"2016-09-29T00:00:00\",\"2016-10-03T00:00:00\",\"2016-10-04T00:00:00\",\"2016-10-05T00:00:00\",\"2016-10-06T00:00:00\",\"2016-10-10T00:00:00\",\"2016-10-11T00:00:00\",\"2016-10-12T00:00:00\",\"2016-10-13T00:00:00\",\"2016-10-17T00:00:00\",\"2016-10-18T00:00:00\",\"2016-10-19T00:00:00\",\"2016-10-20T00:00:00\",\"2016-10-24T00:00:00\",\"2016-10-25T00:00:00\",\"2016-10-26T00:00:00\",\"2016-10-27T00:00:00\",\"2016-10-31T00:00:00\",\"2016-11-01T00:00:00\",\"2016-11-02T00:00:00\",\"2016-11-03T00:00:00\",\"2016-11-04T00:00:00\",\"2016-11-07T00:00:00\",\"2016-11-08T00:00:00\",\"2016-11-09T00:00:00\",\"2016-11-10T00:00:00\",\"2016-11-11T00:00:00\",\"2016-11-14T00:00:00\",\"2016-11-15T00:00:00\",\"2016-11-16T00:00:00\",\"2016-11-17T00:00:00\",\"2016-11-18T00:00:00\",\"2016-11-21T00:00:00\",\"2016-11-22T00:00:00\",\"2016-11-23T00:00:00\",\"2016-11-25T00:00:00\",\"2016-11-28T00:00:00\",\"2016-11-29T00:00:00\",\"2016-11-30T00:00:00\",\"2016-12-01T00:00:00\",\"2016-12-02T00:00:00\",\"2016-12-05T00:00:00\",\"2016-12-06T00:00:00\",\"2016-12-07T00:00:00\",\"2016-12-08T00:00:00\",\"2016-12-09T00:00:00\",\"2016-12-12T00:00:00\",\"2016-12-13T00:00:00\",\"2016-12-14T00:00:00\",\"2016-12-15T00:00:00\",\"2016-12-16T00:00:00\",\"2016-12-19T00:00:00\",\"2016-12-20T00:00:00\",\"2016-12-21T00:00:00\",\"2016-12-22T00:00:00\",\"2016-12-23T00:00:00\",\"2016-12-27T00:00:00\",\"2016-12-28T00:00:00\",\"2016-12-29T00:00:00\",\"2016-12-30T00:00:00\",\"2017-01-03T00:00:00\",\"2017-01-04T00:00:00\",\"2017-01-05T00:00:00\",\"2017-01-06T00:00:00\",\"2017-01-09T00:00:00\",\"2017-01-10T00:00:00\",\"2017-01-11T00:00:00\",\"2017-01-12T00:00:00\",\"2017-01-13T00:00:00\",\"2017-01-17T00:00:00\",\"2017-01-18T00:00:00\",\"2017-01-19T00:00:00\",\"2017-01-20T00:00:00\",\"2017-01-23T00:00:00\",\"2017-01-24T00:00:00\",\"2017-01-25T00:00:00\",\"2017-01-26T00:00:00\",\"2017-01-27T00:00:00\",\"2017-01-30T00:00:00\",\"2017-01-31T00:00:00\",\"2017-02-01T00:00:00\",\"2017-02-02T00:00:00\",\"2017-02-03T00:00:00\",\"2017-02-06T00:00:00\",\"2017-02-07T00:00:00\",\"2017-02-08T00:00:00\",\"2017-02-09T00:00:00\",\"2017-02-10T00:00:00\",\"2017-02-13T00:00:00\",\"2017-02-14T00:00:00\",\"2017-02-15T00:00:00\",\"2017-02-16T00:00:00\",\"2017-02-17T00:00:00\",\"2017-02-21T00:00:00\",\"2017-02-22T00:00:00\",\"2017-02-23T00:00:00\",\"2017-02-24T00:00:00\",\"2017-02-27T00:00:00\",\"2017-02-28T00:00:00\",\"2017-03-01T00:00:00\",\"2017-03-02T00:00:00\",\"2017-03-03T00:00:00\",\"2017-03-06T00:00:00\",\"2017-03-07T00:00:00\",\"2017-03-08T00:00:00\",\"2017-03-09T00:00:00\",\"2017-03-10T00:00:00\",\"2017-03-13T00:00:00\",\"2017-03-14T00:00:00\",\"2017-03-15T00:00:00\",\"2017-03-16T00:00:00\",\"2017-03-17T00:00:00\",\"2017-03-20T00:00:00\",\"2017-03-21T00:00:00\",\"2017-03-22T00:00:00\",\"2017-03-23T00:00:00\",\"2017-03-24T00:00:00\",\"2017-03-27T00:00:00\",\"2017-03-28T00:00:00\",\"2017-03-29T00:00:00\",\"2017-03-30T00:00:00\",\"2017-04-03T00:00:00\",\"2017-04-04T00:00:00\",\"2017-04-05T00:00:00\",\"2017-04-06T00:00:00\",\"2017-04-10T00:00:00\",\"2017-04-11T00:00:00\",\"2017-04-12T00:00:00\",\"2017-04-13T00:00:00\",\"2017-04-17T00:00:00\",\"2017-04-18T00:00:00\",\"2017-04-19T00:00:00\",\"2017-04-20T00:00:00\",\"2017-04-24T00:00:00\",\"2017-04-25T00:00:00\",\"2017-04-26T00:00:00\",\"2017-04-27T00:00:00\",\"2017-05-01T00:00:00\",\"2017-05-02T00:00:00\",\"2017-05-03T00:00:00\",\"2017-05-04T00:00:00\",\"2017-05-08T00:00:00\",\"2017-05-09T00:00:00\",\"2017-05-10T00:00:00\",\"2017-05-11T00:00:00\",\"2017-05-15T00:00:00\",\"2017-05-16T00:00:00\",\"2017-05-17T00:00:00\",\"2017-05-18T00:00:00\",\"2017-05-22T00:00:00\",\"2017-05-23T00:00:00\",\"2017-05-24T00:00:00\",\"2017-05-25T00:00:00\",\"2017-05-30T00:00:00\",\"2017-05-31T00:00:00\",\"2017-06-01T00:00:00\",\"2017-06-05T00:00:00\",\"2017-06-06T00:00:00\",\"2017-06-07T00:00:00\",\"2017-06-08T00:00:00\",\"2017-06-12T00:00:00\",\"2017-06-13T00:00:00\",\"2017-06-14T00:00:00\",\"2017-06-15T00:00:00\",\"2017-06-19T00:00:00\",\"2017-06-20T00:00:00\",\"2017-06-21T00:00:00\",\"2017-06-22T00:00:00\",\"2017-06-26T00:00:00\",\"2017-06-27T00:00:00\",\"2017-06-28T00:00:00\",\"2017-06-29T00:00:00\",\"2017-07-03T00:00:00\",\"2017-07-05T00:00:00\",\"2017-07-06T00:00:00\",\"2017-07-11T00:00:00\",\"2017-07-12T00:00:00\",\"2017-07-13T00:00:00\",\"2017-07-17T00:00:00\",\"2017-07-18T00:00:00\",\"2017-07-19T00:00:00\",\"2017-07-20T00:00:00\",\"2017-07-24T00:00:00\",\"2017-07-25T00:00:00\",\"2017-07-26T00:00:00\",\"2017-07-27T00:00:00\",\"2017-07-31T00:00:00\",\"2017-08-01T00:00:00\",\"2017-08-02T00:00:00\",\"2017-08-03T00:00:00\",\"2017-08-07T00:00:00\",\"2017-08-08T00:00:00\",\"2017-08-09T00:00:00\",\"2017-08-10T00:00:00\",\"2017-08-14T00:00:00\",\"2017-08-15T00:00:00\",\"2017-08-16T00:00:00\",\"2017-08-17T00:00:00\",\"2017-08-21T00:00:00\",\"2017-08-22T00:00:00\",\"2017-08-23T00:00:00\",\"2017-08-24T00:00:00\",\"2017-08-28T00:00:00\",\"2017-08-29T00:00:00\",\"2017-08-30T00:00:00\",\"2017-08-31T00:00:00\",\"2017-09-05T00:00:00\",\"2017-09-06T00:00:00\",\"2017-09-07T00:00:00\",\"2017-09-11T00:00:00\",\"2017-09-12T00:00:00\",\"2017-09-13T00:00:00\",\"2017-09-14T00:00:00\",\"2017-09-18T00:00:00\",\"2017-09-19T00:00:00\",\"2017-09-20T00:00:00\",\"2017-09-21T00:00:00\",\"2017-09-25T00:00:00\",\"2017-09-26T00:00:00\",\"2017-09-27T00:00:00\",\"2017-09-28T00:00:00\",\"2017-10-02T00:00:00\",\"2017-10-03T00:00:00\",\"2017-10-04T00:00:00\",\"2017-10-05T00:00:00\",\"2017-10-09T00:00:00\",\"2017-10-10T00:00:00\",\"2017-10-11T00:00:00\",\"2017-10-12T00:00:00\",\"2017-10-16T00:00:00\",\"2017-10-17T00:00:00\",\"2017-10-18T00:00:00\",\"2017-10-19T00:00:00\",\"2017-10-23T00:00:00\",\"2017-10-24T00:00:00\",\"2017-10-25T00:00:00\",\"2017-10-26T00:00:00\",\"2017-10-30T00:00:00\",\"2017-10-31T00:00:00\",\"2017-11-01T00:00:00\",\"2017-11-02T00:00:00\",\"2017-11-03T00:00:00\",\"2017-11-06T00:00:00\",\"2017-11-07T00:00:00\",\"2017-11-08T00:00:00\",\"2017-11-09T00:00:00\",\"2017-11-10T00:00:00\",\"2017-11-13T00:00:00\",\"2017-11-14T00:00:00\",\"2017-11-15T00:00:00\",\"2017-11-20T00:00:00\",\"2017-11-21T00:00:00\",\"2017-11-22T00:00:00\",\"2017-11-24T00:00:00\",\"2017-11-27T00:00:00\",\"2017-11-28T00:00:00\",\"2017-11-29T00:00:00\",\"2017-11-30T00:00:00\",\"2017-12-01T00:00:00\",\"2017-12-04T00:00:00\",\"2017-12-05T00:00:00\",\"2017-12-06T00:00:00\",\"2017-12-07T00:00:00\",\"2017-12-08T00:00:00\",\"2017-12-11T00:00:00\",\"2017-12-12T00:00:00\",\"2017-12-13T00:00:00\",\"2017-12-14T00:00:00\",\"2017-12-15T00:00:00\",\"2017-12-18T00:00:00\",\"2017-12-19T00:00:00\",\"2017-12-20T00:00:00\",\"2017-12-21T00:00:00\",\"2017-12-22T00:00:00\",\"2017-12-26T00:00:00\",\"2017-12-27T00:00:00\",\"2017-12-28T00:00:00\",\"2017-12-29T00:00:00\",\"2018-01-02T00:00:00\",\"2018-01-03T00:00:00\",\"2018-01-04T00:00:00\",\"2018-01-05T00:00:00\",\"2018-01-08T00:00:00\",\"2018-01-09T00:00:00\",\"2018-01-10T00:00:00\",\"2018-01-11T00:00:00\",\"2018-01-12T00:00:00\",\"2018-01-16T00:00:00\",\"2018-01-17T00:00:00\",\"2018-01-18T00:00:00\",\"2018-01-19T00:00:00\",\"2018-01-22T00:00:00\",\"2018-01-23T00:00:00\",\"2018-01-24T00:00:00\",\"2018-01-25T00:00:00\",\"2018-01-26T00:00:00\",\"2018-01-29T00:00:00\",\"2018-01-30T00:00:00\",\"2018-01-31T00:00:00\",\"2018-02-01T00:00:00\",\"2018-02-02T00:00:00\",\"2018-02-05T00:00:00\",\"2018-02-06T00:00:00\",\"2018-02-07T00:00:00\",\"2018-02-08T00:00:00\",\"2018-02-09T00:00:00\",\"2018-02-12T00:00:00\",\"2018-02-13T00:00:00\",\"2018-02-14T00:00:00\",\"2018-02-15T00:00:00\",\"2018-02-16T00:00:00\",\"2018-02-20T00:00:00\",\"2018-02-21T00:00:00\",\"2018-02-22T00:00:00\",\"2018-02-23T00:00:00\",\"2018-02-26T00:00:00\",\"2018-02-27T00:00:00\",\"2018-02-28T00:00:00\",\"2018-03-01T00:00:00\",\"2018-03-02T00:00:00\",\"2018-03-05T00:00:00\",\"2018-03-06T00:00:00\",\"2018-03-07T00:00:00\",\"2018-03-08T00:00:00\",\"2018-03-09T00:00:00\",\"2018-03-12T00:00:00\",\"2018-03-13T00:00:00\",\"2018-03-14T00:00:00\",\"2018-03-15T00:00:00\",\"2018-03-16T00:00:00\",\"2018-03-19T00:00:00\",\"2018-03-20T00:00:00\",\"2018-03-21T00:00:00\",\"2018-03-22T00:00:00\",\"2018-03-23T00:00:00\",\"2018-03-26T00:00:00\",\"2018-03-27T00:00:00\",\"2018-03-28T00:00:00\",\"2018-03-29T00:00:00\",\"2018-04-02T00:00:00\",\"2018-04-03T00:00:00\",\"2018-04-04T00:00:00\",\"2018-04-05T00:00:00\",\"2018-04-09T00:00:00\",\"2018-04-10T00:00:00\",\"2018-04-11T00:00:00\",\"2018-04-12T00:00:00\",\"2018-04-16T00:00:00\",\"2018-04-17T00:00:00\",\"2018-04-18T00:00:00\",\"2018-04-19T00:00:00\",\"2018-04-23T00:00:00\",\"2018-04-24T00:00:00\",\"2018-04-25T00:00:00\",\"2018-04-26T00:00:00\",\"2018-04-30T00:00:00\",\"2018-05-01T00:00:00\",\"2018-05-02T00:00:00\",\"2018-05-03T00:00:00\",\"2018-05-07T00:00:00\",\"2018-05-08T00:00:00\",\"2018-05-09T00:00:00\",\"2018-05-10T00:00:00\",\"2018-05-14T00:00:00\",\"2018-05-16T00:00:00\"],\"xaxis\":\"x\",\"y\":[84.860001,85.57,85.129997,84.769997,86.779999,86.550003,88.25,88.580002,89.540001,87.989998,86.699997,86.5,87.419998,88.169998,87.889999,90.080002,90.300003,91.75,91.150002,92.059998,91.400002,89.349998,89.099998,87.68,88.949997,89.849998,91.0,91.330002,89.330002,89.440002,89.709999,89.150002,91.580002,93.239998,93.25,93.389999,92.739998,93.709999,94.779999,95.989998,96.18,97.239998,95.18,97.720001,96.5,96.089996,95.870003,95.989998,97.010002,98.339996,98.709999,99.169998,96.5,93.040001,89.910004,90.099998,92.730003,93.800003,93.459999,91.879997,86.860001,89.269997,89.419998,91.169998,90.349998,92.290001,91.769997,91.110001,91.660004,93.269997,92.559998,90.25,90.269997,89.220001,87.220001,87.690002,85.809998,83.989998,86.269997,86.629997,85.82,87.239998,86.989998,85.389999,85.199997,87.0,89.389999,90.900002,91.959999,90.980003,89.360001,89.139999,86.510002,87.959999,86.879997,86.650002,86.449997,87.989998,85.550003,87.019997,85.599998,87.010002,87.25,88.279999,88.419998,87.089996,87.470001,87.419998,90.610001,92.660004,93.169998,92.059998,91.230003,90.860001,91.5,93.529999,95.910004,96.169998,94.440002,94.220001,95.120003,93.059998,90.57,91.330002,91.730003,90.589996,89.519997,86.089996,80.93,81.230003,81.360001,82.18,79.199997,78.889999,78.389999,78.860001,76.489998,74.220001,73.080002,77.559998,76.790001,85.459999,82.800003,89.18,88.32,86.709999,86.449997,89.57,85.07,85.970001,82.330002,84.279999,87.269997,89.419998,89.900002,81.989998,82.199997,83.309998,79.290001,78.5,76.029999,71.709999,70.650002,72.18,73.790001,74.0,72.709999,71.339996,71.099998,75.480003,72.800003,72.220001,72.5,73.580002,72.050003,70.0,72.150002,73.300003,72.650002,72.510002,72.260002,73.449997,78.849998,80.910004,80.870003,80.379997,80.309998,75.650002,76.949997,76.18,75.5,74.519997,76.199997,76.330002,79.75,80.650002,80.809998,82.599998,84.459999,85.43,83.870003,82.629997,83.459999,82.629997,83.459999,85.599998,86.349998,85.900002,86.519997,86.230003,84.480003,85.129997,82.75,84.459999,83.919998,80.760002,80.879997,79.790001,80.389999,82.709999,84.519997,84.150002,84.580002,88.529999,88.949997,88.379997,87.419998,89.5,91.309998,88.839996,88.470001,89.18,90.120003,89.589996,88.32,90.209999,92.290001,93.169998,92.550003,95.449997,96.910004,95.769997,97.800003,97.730003,94.730003,93.150002,93.059998,92.629997,90.93,90.040001,88.989998,91.989998,92.290001,90.57,88.139999,89.220001,91.099998,91.300003,90.800003,90.040001,93.089996,94.349998,93.589996,92.080002,90.949997,91.980003,91.93,90.690002,89.980003,90.279999,91.029999,88.800003,85.269997,86.739998,86.610001,86.309998,87.879997,87.370003,87.5,85.809998,86.949997,86.889999,87.379997,88.800003,89.010002,87.75,88.330002,87.269997,88.639999,88.25,89.540001,89.440002,89.690002,90.699997,91.089996,91.029999,90.360001,90.959999,92.25,93.849998,93.760002,93.449997,94.239998,95.730003,96.360001,94.410004,96.230003,93.559998,93.830002,93.860001,93.699997,91.099998,91.93,92.349998,91.610001,90.540001,90.919998,91.449997,92.309998,92.040001,91.18,92.389999,91.25,90.760002,90.709999,89.269997,89.510002,90.190002,90.809998,92.239998,91.980003,93.279999,93.129997,93.440002,93.260002,93.709999,92.110001,91.199997,91.620003,93.870003,94.68,94.779999,94.599998,92.93,92.790001,92.949997,93.720001,91.610001,92.059998,92.529999,92.269997,92.339996,92.760002,92.790001,93.190002,93.400002,93.900002,96.190002,97.459999,97.43,97.080002,97.699997,97.959999,98.900002,99.910004,99.339996,98.360001,99.669998,98.830002,97.550003,97.050003,97.43,98.849998,97.889999,99.82,102.279999,102.360001,103.639999,103.559998,104.260002,104.18,102.860001,104.230003,103.419998,103.75,103.919998,101.860001,101.849998,100.730003,102.690002,102.529999,103.949997,106.459999,107.099998,106.980003,107.43,108.190002,108.389999,109.599998,108.209999,109.739998,111.629997,111.970001,112.25,112.300003,112.940002,114.290001,114.730003,116.620003,115.059998,115.639999,117.379997,119.18,118.699997,113.75,113.110001,110.949997,110.839996,110.82,109.32,110.239998,110.209999,111.589996,107.339996,108.949997,106.949997,106.169998,106.550003,108.360001,108.550003,107.470001,106.93,107.309998,109.800003,109.699997,111.510002,110.82,111.370003,112.849998,110.489998,111.540001,112.029999,110.860001,111.519997,108.940002,107.370003,107.169998,107.480003,107.559998,106.529999,106.480003,105.959999,108.349998,109.129997,108.699997,104.370003,104.68,104.040001,105.410004,105.120003,107.129997,107.040001,109.620003,109.25,109.980003,109.470001,109.07,107.889999,107.360001,108.309998,109.43,109.43,111.019997,111.629997,110.830002,110.809998,109.879997,109.720001,108.470001,108.599998,107.949997,108.360001,110.400002,109.589996,110.339996,108.279999,107.75,108.32,106.300003,106.779999,108.589996,108.75,107.970001,108.949997,110.260002,110.889999,111.029999,112.489998,112.650002,113.010002,112.690002,113.029999,113.650002,111.150002,111.459999,112.309998,111.839996,112.75,114.629997,114.309998,114.279999,115.730003,114.870003,115.089996,118.489998,117.57,120.660004,121.400002,120.559998,119.360001,119.489998,116.629997,115.839996,116.839996,117.360001,118.470001,118.690002,119.910004,119.779999,117.959999,121.489998,121.0,120.559998,118.970001,119.599998,120.989998,120.330002,121.900002,120.389999,121.449997,120.949997,121.300003,121.089996,121.269997,121.68,117.040001,116.510002,117.730003,117.209999,117.339996,118.360001,118.300003,118.230003,115.730003,116.650002,115.849998,116.860001,115.519997,113.510002,113.779999,114.290001,115.540001,115.989998,116.720001,116.980003,117.400002,117.730003,117.339996,118.769997,119.730003,119.75,120.220001,120.389999,119.779999,120.360001,121.360001,120.959999,120.910004,122.080002,121.690002,122.290001,122.699997,122.709999,121.559998,121.620003,124.019997,123.940002,124.629997,124.870003,126.010002,126.199997,126.300003,126.720001,127.849998,127.949997,127.910004,128.460007,130.990005,131.809998,130.369995,132.289993,131.960007,134.070007,134.75,134.279999,130.110001,131.320007,129.470001,130.850006,130.880005,129.520004,131.240005,131.919998,132.490005,131.570007,136.029999,136.380005,137.779999,135.589996,137.240005,137.660004,133.690002,132.419998,130.970001,130.380005,132.089996,132.199997,133.479996,134.410004,134.179993,133.110001,133.509995,135.419998,135.380005,135.199997,138.070007,139.110001,136.5,134.789993,135.369995,135.410004,136.050003,136.179993,134.699997,133.809998,134.199997,135.110001,135.320007,135.050003,134.660004,135.020004,137.220001,137.710007,137.029999,138.720001,138.0,134.75,134.369995,133.830002,133.580002,134.119995,134.910004,135.460007,134.050003,132.690002,133.429993,133.720001,131.199997,131.029999,130.360001,130.100006,131.160004,127.93,130.279999,129.869995,130.800003,130.449997,132.199997,131.660004,131.679993,133.139999,133.070007,132.850006,132.320007,132.949997,133.970001,134.100006,135.039993,135.410004,136.289993,137.509995,136.479996,137.380005,137.660004,140.029999,139.919998,138.089996,139.350006,139.720001,139.360001,139.410004,137.770004,138.220001,138.860001,136.270004,136.240005,136.970001,138.369995,139.139999,139.050003,140.339996,139.220001,139.259995,138.539993,138.210007,138.669998,139.860001,139.839996,142.050003,142.380005,142.509995,142.639999,141.610001,141.899994,143.809998,145.929993,145.929993,146.5,146.740005,146.869995,146.380005,149.199997,149.820007,150.410004,149.880005,147.729996,143.470001,147.380005,147.899994,146.539993,146.589996,145.369995,144.740005,145.600006,145.649994,147.830002,148.589996,148.580002,148.220001,149.639999,149.910004,149.5,150.479996,150.419998,149.809998,150.559998,147.770004,148.669998,149.119995,148.970001,150.029999,150.759995,150.990005,148.339996,145.729996,146.240005,147.179993,146.0,147.630005,148.910004,149.149994,151.589996,152.770004,154.139999,154.539993,156.570007,154.660004,156.020004,154.830002,157.339996,157.770004,157.190002,157.320007,157.720001,161.520004,161.490005,160.639999,167.119995,168.610001,174.580002,170.75,171.800003,173.919998,174.419998,177.720001,184.589996,177.669998,171.649994,172.360001,173.889999,179.100006,177.720001,177.869995,182.899994,177.080002,181.809998,176.669998,178.539993,177.210007,174.399994,173.309998,175.779999,173.589996,169.050003,157.580002,160.630005,156.220001,157.699997,160.960007,157.639999,159.460007,160.490005,163.270004,162.100006,163.259995,162.300003,162.619995,161.839996,159.869995,157.770004,161.020004,165.589996,167.399994,169.550003,167.339996,167.380005,169.059998,171.720001,170.850006,174.979996,173.529999,172.070007,171.139999,173.960007,173.199997,173.360001,171.509995,167.100006,167.619995,163.5,165.309998,164.830002,163.399994,166.630005,166.880005,170.130005,169.630005,169.820007,167.320007,168.179993,169.399994,165.979996,166.399994,161.990005,158.449997,152.889999,152.330002,155.229996,154.869995,156.979996,157.160004,156.039993,156.309998,154.910004,151.029999,150.339996,151.990005,155.919998,156.710007,157.779999,157.199997,156.5,158.639999,159.669998,160.380005,159.259995,160.5,161.600006,161.220001,162.070007,163.160004,162.009995,166.419998,167.270004,168.970001,168.029999,169.309998,169.559998,171.050003,167.639999,167.179993,169.699997,168.5,168.020004,167.139999,167.509995,167.119995,168.110001,168.0,167.350006,171.020004,172.940002,173.020004,172.229996,171.699997,173.490005,164.289993,166.610001,166.339996,165.649994,162.699997,163.630005,165.279999,166.380005,165.070007,162.300003,159.570007,161.080002,161.300003,161.589996,160.130005,160.210007,159.570007,161.529999,164.399994,163.240005,161.509995,161.279999,162.940002,159.889999,157.210007,158.309998,159.369995,161.100006,161.070007,162.699997,160.460007,160.25,159.309998,159.429993,159.070007,159.300003,159.619995,161.029999,161.880005,161.320007,160.589996,158.970001,159.080002,156.0,154.470001,154.770004,151.330002,149.740005,149.460007,152.800003,154.649994,152.080002,151.619995,151.410004,151.020004,151.910004,151.619995,157.320007,157.139999,157.210007,154.5,155.360001,156.460007,157.119995,157.75,157.929993,157.160004,155.970001,152.020004,153.759995,152.619995,152.830002,151.050003,155.089996,157.460007,155.679993,154.039993,152.149994,152.990005,152.589996,154.210007,153.470001,153.050003,153.380005,153.029999,153.520004,155.669998,156.770004,157.429993,156.490005,155.139999,154.130005,156.300003,156.279999,156.479996,156.990005,155.990005,155.130005,155.630005,156.559998,157.259995,158.830002,160.539993,161.889999,161.360001,161.639999,160.589996,160.520004,164.479996,164.309998,164.889999,167.289993,167.899994,167.919998,171.309998,170.399994,171.720001,171.740005,171.470001,171.050003,170.770004,169.809998,172.339996,172.289993,172.100006,172.410004,173.610001,172.050003,170.990005,170.839996,171.320007,168.350006,169.419998,169.539993,168.789993,167.580002,165.429993,164.860001,166.020004,166.830002,166.070007,162.600006,163.229996,166.300003,166.490005,167.990005,167.820007,167.449997,167.100006,167.139999,166.089996,165.880005,167.869995,167.389999,167.559998,169.610001,169.429993,168.710007,166.550003,167.179993,166.050003,166.130005,164.119995,164.5,165.160004,165.800003,165.649994,165.770004,164.369995,164.130005,164.440002,162.080002,161.690002,159.729996,160.330002,160.619995,160.779999,161.160004,160.539993,162.020004,163.169998,161.199997,160.440002,159.429993,160.559998,160.490005,161.979996,161.059998,161.539993,162.559998,162.649994,163.350006,163.089996,163.669998,163.210007,161.419998,160.649994,160.289993,160.990005,162.190002,161.199997,161.449997,162.0,161.960007,162.389999,161.839996,161.570007,159.699997,159.889999,159.050003,158.350006,155.759995,155.330002,151.440002,152.619995,152.970001,154.339996,156.220001,154.570007,153.0,152.440002,152.300003,152.380005,153.229996,152.690002,152.710007,152.990005,154.190002,153.660004,153.679993,154.0,155.380005,156.080002,155.369995,156.25,155.550003,155.240005,154.720001,155.360001,154.449997,154.669998,152.429993,150.729996,150.289993,152.160004,153.339996,150.75,151.050003,131.309998,132.800003,132.869995,134.300003,137.899994,136.880005,138.369995,141.630005,142.300003,142.770004,141.110001,141.919998,142.149994,140.380005,142.460007,140.809998,138.429993,137.809998,134.630005,134.089996,135.119995,132.880005,131.940002,134.610001,133.490005,134.830002,136.699997,136.509995,135.229996,135.520004,136.529999,133.940002,133.25,134.25,133.740005,133.770004,132.130005,130.589996,123.599998,123.93,123.470001,118.279999,115.940002,121.129997,120.050003,120.739998,119.510002,120.620003,120.949997,124.239998,124.18,124.889999,123.32,124.010002,128.839996,129.710007,127.480003,128.669998,128.470001,128.119995,127.959999,126.610001,125.699997,123.970001,124.150002,126.860001,129.130005,127.739998,129.0,131.690002,132.009995,132.449997,132.070007,132.809998,135.449997,136.75,136.710007,135.869995,136.419998,134.660004,132.199997,133.910004,131.740005,131.699997,127.669998,126.449997,126.5,132.009995,131.75,127.550003,127.660004,128.789993,127.790001,128.179993,124.589996,127.059998,127.18,127.400002,126.110001,124.269997,122.830002,123.730003,123.540001,127.419998,126.980003,129.339996,128.690002,129.899994,130.559998,129.770004,129.600006,127.739998,126.949997,126.809998,126.559998,127.199997,126.160004,124.279999,123.870003,122.449997,122.849998,124.269997,124.32,122.900002,122.949997,120.120003,119.940002,119.919998,120.459999,119.82,119.459999,120.699997,117.580002,117.959999,119.959999,118.300003,118.550003,119.720001,121.82,120.860001,118.290001,119.379997,119.690002,118.650002,117.610001,114.82,115.940002,115.57,116.099998,116.739998,117.120003,115.389999,116.120003,118.0,119.290001,119.5,118.82,118.120003,118.459999,120.260002,121.019997,119.889999,119.660004,119.790001,120.93,119.699997,119.190002,121.790001,122.290001,120.959999,120.949997,122.470001,119.769997,120.089996,121.32,120.989998,121.290001,121.239998,122.169998,122.919998,124.360001,124.43,125.489998,127.150002,127.400002,126.269997,127.599998,127.580002,128.990005,129.210007,128.110001,128.199997,127.620003,130.289993,128.679993,128.889999,130.169998,129.089996,129.130005,129.860001,131.759995,132.210007,133.100006,131.639999,130.619995,128.089996,127.860001,128.470001,126.18,126.410004,125.410004,124.589996,124.559998,123.610001,123.389999,124.32,123.919998,124.910004,126.089996,126.32,127.010002,127.849998,125.489998,125.540001,124.75,124.239998,123.779999,123.760002,124.559998,124.879997,124.860001,124.220001,123.800003,126.220001,125.980003,124.169998,124.169998,124.940002,124.599998,125.809998,124.769997,124.580002,124.690002,124.389999,124.669998,121.849998,121.199997,120.940002,119.699997,120.010002,119.760002,120.660004,120.650002,121.389999,121.410004,122.639999,122.419998,122.279999,122.669998,126.940002,126.849998,126.980003,126.989998,126.730003,128.039993,127.699997,127.699997,127.160004,127.019997,127.07,127.839996,128.539993,125.720001,124.529999,124.970001,127.089996,126.339996,125.739998,125.620003,124.349998,125.580002,125.199997,124.830002,123.389999,123.989998,123.870003,125.669998,126.18,125.959999,125.989998,126.199997,126.309998,124.959999,124.68,124.220001,122.879997,122.739998,123.349998,123.32,124.0,121.650002,122.150002,121.480003,120.730003,120.870003,120.260002,119.470001,118.639999,118.830002,117.540001,117.779999,116.849998,117.599998,117.050003,117.389999,117.029999,116.209999,116.769997,116.739998,116.029999,116.360001,117.470001,117.639999,118.519997,118.589996,118.989998,119.220001,119.800003,120.019997,119.339996,118.519997,118.059998,118.099998,116.410004,115.190002,112.660004,112.150002,112.220001,109.790001,109.879997,112.970001,110.459999,112.040001,111.5,111.669998,114.470001,114.050003,115.050003,113.68,114.860001,115.389999,115.110001,115.379997,115.160004,112.110001,116.580002,115.139999,116.330002,115.879997,114.43,115.779999,118.190002,117.959999,117.690002,117.410004,114.389999,114.949997,114.269997,115.150002,114.769997,112.550003,112.739998,112.769997,114.830002,113.669998,115.199997,113.580002,114.080002,115.800003,117.120003,116.43,115.940002,117.260002,118.559998,118.160004,117.970001,120.940002,122.519997,124.199997,124.230003,125.230003,124.230003,122.989998,124.400002,123.419998,120.760002,123.449997,122.419998,121.050003,121.580002,121.790001,118.639999,119.169998,118.470001,117.07,117.339996,117.980003,116.010002,116.339996,115.940002,115.279999,115.43,115.260002,115.699997,116.07,116.160004,115.68,115.470001,115.110001,115.0,111.860001,111.970001,111.419998,110.75,110.720001,110.879997,110.809998,110.209999,112.370003,112.290001,113.57,114.290001,114.57,114.730003,115.480003,115.059998,113.75,113.660004,115.599998,115.279999,116.690002,116.110001,115.470001,114.669998,115.139999,114.440002,115.43,115.029999,114.720001,115.379997,113.830002,114.660004,115.330002,116.330002,115.510002,113.470001,114.099998,114.419998,114.360001,113.419998,113.529999,114.5,116.550003,117.18,117.519997,115.889999,116.080002,115.690002,113.910004,113.889999,114.019997,114.0,114.459999,113.639999,112.839996,112.57,112.82,113.779999,113.260002,113.730003,113.32,113.849998,115.32,113.639999,112.889999,112.589996,112.440002,113.07,112.370003,111.980003,111.760002,112.059998,110.760002,111.089996,111.360001,110.989998,110.739998,110.160004,109.760002,105.699997,105.370003,104.800003,104.330002,104.860001,105.019997,105.169998,104.269997,104.099998,104.309998,103.93,104.389999,105.720001,106.260002,107.75,106.860001,107.129997,107.110001,108.550003,110.440002,110.529999,109.160004,107.669998,107.730003,108.82,109.199997,108.620003,107.839996,107.519997,106.129997,106.379997,106.220001,105.900002,107.309998,108.410004,107.790001,108.220001,110.489998,108.419998,107.980003,106.860001,106.730003,108.769997,109.860001,109.699997,109.139999,111.309998,111.860001,113.809998,113.290001,112.019997,112.730003,111.730003,111.690002,111.43,111.68,110.75,109.720001,109.300003,108.589996,106.980003,105.970001,105.639999,104.099998,104.400002,104.18,103.830002,103.849998,103.559998,103.709999,102.339996,102.43,103.559998,103.089996,102.260002,102.940002,102.459999,101.25,101.919998,102.279999,100.690002,101.760002,104.019997,102.669998,102.839996,102.639999,102.550003,103.110001,101.790001,101.519997,102.75,100.5,102.040001,103.150002,102.610001,102.309998,103.050003,102.269997,102.199997,101.419998,101.459999,102.889999,103.18,104.669998,106.150002,105.68,104.739998,104.209999,104.720001,103.019997,104.080002,103.980003,105.370003,105.489998,105.0,106.080002,107.290001,107.690002,106.540001,106.949997,108.050003,108.089996,109.25,110.57,112.32,113.830002,113.580002,114.459999,119.059998,118.360001,114.769997,115.480003,118.290001,117.580002,115.489998,117.220001,117.610001,117.919998,117.110001,118.639999,117.769997,118.68,120.730003,120.540001,121.139999,120.580002,119.580002,121.5,119.410004,117.870003,117.959999,120.589996,120.129997,119.800003,118.959999,119.309998,116.610001,116.330002,116.599998,118.760002,117.099998,117.639999,116.150002,117.660004,116.940002,118.610001,120.029999,120.050003,118.769997,117.110001,117.739998,119.580002,118.970001,119.419998,118.230003,118.699997,119.040001,121.290001,123.239998,122.959999,122.209999,122.07,120.650002,120.980003,122.120003,121.160004,121.800003,122.220001,120.099998,119.870003,119.370003,117.300003,116.980003,116.580002,116.059998,115.940002,115.669998,118.919998,118.82,120.580002,121.25,122.639999,122.769997,123.68,122.379997,123.209999,120.839996,120.900002,120.110001,126.68,125.32,125.839996,126.470001,129.470001,130.229996,129.740005,129.289993,127.150002,128.320007,127.330002,127.040001,127.209999,125.389999,127.300003,125.470001,126.0,128.029999,127.660004,129.220001,130.270004,129.649994,129.869995,127.440002,127.959999,128.559998,127.669998,127.839996,128.470001,128.5,129.110001,127.779999,127.760002,126.339996,126.230003,126.300003,125.029999,124.779999,125.290001,128.710007,128.270004,127.589996,126.589996,125.75,126.18,125.370003,125.32,125.440002,127.269997,127.57,127.550003,126.620003,126.220001,126.07,125.32,120.970001,120.779999,119.660004,120.160004,119.550003,119.739998,120.029999,119.68,120.419998,121.110001,120.739998,120.559998,121.470001,120.790001,121.010002,121.940002,122.730003,123.639999,124.300003,124.389999,122.150002,121.639999,121.559998,119.75,117.099998,116.110001,117.120003,116.769997,116.169998,115.150002,115.580002,115.540001,113.25,112.610001,113.800003,113.269997,111.75,111.540001,112.139999,111.540001,111.43,111.830002,111.57,110.400002,110.82,110.449997,108.830002,107.339996,108.050003,108.589996,107.790001,107.849998,107.589996,107.93,108.559998,108.860001,110.290001,109.610001,110.470001,110.860001,112.580002,111.75,112.669998,113.150002,113.5,113.910004,114.209999,115.849998,114.870003,114.769997,115.050003,115.790001,115.269997,114.32,113.260002,113.489998,113.970001,115.550003,115.199997,115.839996,116.129997,117.699997,117.459999,118.190002,117.290001,117.599998,116.800003,116.93,117.449997,118.080002,117.68,117.75,117.910004,118.940002,119.699997,119.120003,119.230003,119.059998,117.580002,117.510002,116.720001,115.779999,115.059998,114.470001,114.720001,114.739998,114.120003,116.25,116.730003,116.989998,117.510002,118.540001,118.830002,118.669998,118.860001,119.529999,119.040001,119.330002,118.470001,119.349998,119.620003,119.620003,119.18,119.459999,121.190002,122.019997,122.599998,122.239998,122.82,121.730003,121.959999,121.480003,120.25,120.839996,120.389999,119.669998,119.650002,117.980003,116.790001,116.75,116.050003,116.040001,116.5,117.139999,117.650002,119.790001,118.809998,119.900002,119.139999,119.610001,119.480003,120.139999,120.620003,120.720001,121.730003,123.099998,122.449997,121.650002,120.360001,120.480003,119.82,119.32,118.43,118.18,118.519997,118.919998,118.360001,118.809998,118.900002,118.32,116.089996,116.519997,116.470001,115.620003,116.029999,115.82,117.290001,118.110001,118.080002,118.239998,119.309998,118.919998,119.879997,119.790001,120.75,120.650002,120.400002,120.589996,119.510002,119.860001,121.309998,122.209999,121.919998,120.980003,121.870003,122.489998,122.760002,122.209999,122.669998,122.290001,124.690002,124.419998,124.360001,125.82,127.459999,126.809998,128.130005,126.190002,126.559998,125.610001,126.160004,124.360001,124.620003,123.620003,122.68,124.529999,123.139999,121.980003,122.209999,120.769997,120.830002,121.169998,120.519997,122.080002,122.400002,122.790001,122.889999,122.970001,122.129997,121.669998,122.389999,121.800003,121.330002,121.349998,120.330002,121.129997,120.669998,121.110001,121.190002,120.620003,121.650002,121.209999,121.629997,122.129997,121.129997,121.309998,121.559998,121.410004,121.309998,121.510002,122.629997,122.32,122.830002,122.809998,122.040001,121.099998,121.589996,121.18,120.32,120.07,118.489998,118.480003,118.010002,118.150002,119.169998,118.93,119.18,119.730003,119.82,120.139999,120.309998,120.940002,121.769997,122.230003,122.849998,123.650002,125.150002,124.82,125.459999,125.330002,125.309998,124.730003,125.029999,125.440002,126.959999,127.169998,126.139999,125.860001,126.419998,126.650002,127.279999,128.830002,127.970001,128.070007,127.349998,126.800003,127.650002,128.070007,126.389999,126.709999,125.379997,124.790001,124.980003,124.769997,125.370003,126.080002,128.229996,128.380005,127.959999,126.239998,125.660004,126.300003,126.139999,126.449997,125.129997,125.0,124.720001,125.389999,125.18,126.529999,125.720001,125.419998,125.540001,125.540001,125.779999,125.699997,124.900002,124.599998,124.870003,124.309998,126.480003,125.980003,127.610001,128.279999,127.489998,125.730003,125.790001,127.260002,126.300003,126.449997,125.800003,126.82,127.120003,128.110001,126.620003,127.629997,127.75,127.849998,127.599998,125.620003,126.230003,125.410004,124.970001,124.589996,123.709999,123.650002,124.279999,124.57,124.589996,124.330002,125.18,124.489998,122.5438],\"yaxis\":\"y\",\"type\":\"scattergl\"}],                        {\"template\":{\"data\":{\"histogram2dcontour\":[{\"type\":\"histogram2dcontour\",\"colorbar\":{\"outlinewidth\":0,\"ticks\":\"\"},\"colorscale\":[[0.0,\"#0d0887\"],[0.1111111111111111,\"#46039f\"],[0.2222222222222222,\"#7201a8\"],[0.3333333333333333,\"#9c179e\"],[0.4444444444444444,\"#bd3786\"],[0.5555555555555556,\"#d8576b\"],[0.6666666666666666,\"#ed7953\"],[0.7777777777777778,\"#fb9f3a\"],[0.8888888888888888,\"#fdca26\"],[1.0,\"#f0f921\"]]}],\"choropleth\":[{\"type\":\"choropleth\",\"colorbar\":{\"outlinewidth\":0,\"ticks\":\"\"}}],\"histogram2d\":[{\"type\":\"histogram2d\",\"colorbar\":{\"outlinewidth\":0,\"ticks\":\"\"},\"colorscale\":[[0.0,\"#0d0887\"],[0.1111111111111111,\"#46039f\"],[0.2222222222222222,\"#7201a8\"],[0.3333333333333333,\"#9c179e\"],[0.4444444444444444,\"#bd3786\"],[0.5555555555555556,\"#d8576b\"],[0.6666666666666666,\"#ed7953\"],[0.7777777777777778,\"#fb9f3a\"],[0.8888888888888888,\"#fdca26\"],[1.0,\"#f0f921\"]]}],\"heatmap\":[{\"type\":\"heatmap\",\"colorbar\":{\"outlinewidth\":0,\"ticks\":\"\"},\"colorscale\":[[0.0,\"#0d0887\"],[0.1111111111111111,\"#46039f\"],[0.2222222222222222,\"#7201a8\"],[0.3333333333333333,\"#9c179e\"],[0.4444444444444444,\"#bd3786\"],[0.5555555555555556,\"#d8576b\"],[0.6666666666666666,\"#ed7953\"],[0.7777777777777778,\"#fb9f3a\"],[0.8888888888888888,\"#fdca26\"],[1.0,\"#f0f921\"]]}],\"heatmapgl\":[{\"type\":\"heatmapgl\",\"colorbar\":{\"outlinewidth\":0,\"ticks\":\"\"},\"colorscale\":[[0.0,\"#0d0887\"],[0.1111111111111111,\"#46039f\"],[0.2222222222222222,\"#7201a8\"],[0.3333333333333333,\"#9c179e\"],[0.4444444444444444,\"#bd3786\"],[0.5555555555555556,\"#d8576b\"],[0.6666666666666666,\"#ed7953\"],[0.7777777777777778,\"#fb9f3a\"],[0.8888888888888888,\"#fdca26\"],[1.0,\"#f0f921\"]]}],\"contourcarpet\":[{\"type\":\"contourcarpet\",\"colorbar\":{\"outlinewidth\":0,\"ticks\":\"\"}}],\"contour\":[{\"type\":\"contour\",\"colorbar\":{\"outlinewidth\":0,\"ticks\":\"\"},\"colorscale\":[[0.0,\"#0d0887\"],[0.1111111111111111,\"#46039f\"],[0.2222222222222222,\"#7201a8\"],[0.3333333333333333,\"#9c179e\"],[0.4444444444444444,\"#bd3786\"],[0.5555555555555556,\"#d8576b\"],[0.6666666666666666,\"#ed7953\"],[0.7777777777777778,\"#fb9f3a\"],[0.8888888888888888,\"#fdca26\"],[1.0,\"#f0f921\"]]}],\"surface\":[{\"type\":\"surface\",\"colorbar\":{\"outlinewidth\":0,\"ticks\":\"\"},\"colorscale\":[[0.0,\"#0d0887\"],[0.1111111111111111,\"#46039f\"],[0.2222222222222222,\"#7201a8\"],[0.3333333333333333,\"#9c179e\"],[0.4444444444444444,\"#bd3786\"],[0.5555555555555556,\"#d8576b\"],[0.6666666666666666,\"#ed7953\"],[0.7777777777777778,\"#fb9f3a\"],[0.8888888888888888,\"#fdca26\"],[1.0,\"#f0f921\"]]}],\"mesh3d\":[{\"type\":\"mesh3d\",\"colorbar\":{\"outlinewidth\":0,\"ticks\":\"\"}}],\"scatter\":[{\"fillpattern\":{\"fillmode\":\"overlay\",\"size\":10,\"solidity\":0.2},\"type\":\"scatter\"}],\"parcoords\":[{\"type\":\"parcoords\",\"line\":{\"colorbar\":{\"outlinewidth\":0,\"ticks\":\"\"}}}],\"scatterpolargl\":[{\"type\":\"scatterpolargl\",\"marker\":{\"colorbar\":{\"outlinewidth\":0,\"ticks\":\"\"}}}],\"bar\":[{\"error_x\":{\"color\":\"#2a3f5f\"},\"error_y\":{\"color\":\"#2a3f5f\"},\"marker\":{\"line\":{\"color\":\"#E5ECF6\",\"width\":0.5},\"pattern\":{\"fillmode\":\"overlay\",\"size\":10,\"solidity\":0.2}},\"type\":\"bar\"}],\"scattergeo\":[{\"type\":\"scattergeo\",\"marker\":{\"colorbar\":{\"outlinewidth\":0,\"ticks\":\"\"}}}],\"scatterpolar\":[{\"type\":\"scatterpolar\",\"marker\":{\"colorbar\":{\"outlinewidth\":0,\"ticks\":\"\"}}}],\"histogram\":[{\"marker\":{\"pattern\":{\"fillmode\":\"overlay\",\"size\":10,\"solidity\":0.2}},\"type\":\"histogram\"}],\"scattergl\":[{\"type\":\"scattergl\",\"marker\":{\"colorbar\":{\"outlinewidth\":0,\"ticks\":\"\"}}}],\"scatter3d\":[{\"type\":\"scatter3d\",\"line\":{\"colorbar\":{\"outlinewidth\":0,\"ticks\":\"\"}},\"marker\":{\"colorbar\":{\"outlinewidth\":0,\"ticks\":\"\"}}}],\"scattermapbox\":[{\"type\":\"scattermapbox\",\"marker\":{\"colorbar\":{\"outlinewidth\":0,\"ticks\":\"\"}}}],\"scatterternary\":[{\"type\":\"scatterternary\",\"marker\":{\"colorbar\":{\"outlinewidth\":0,\"ticks\":\"\"}}}],\"scattercarpet\":[{\"type\":\"scattercarpet\",\"marker\":{\"colorbar\":{\"outlinewidth\":0,\"ticks\":\"\"}}}],\"carpet\":[{\"aaxis\":{\"endlinecolor\":\"#2a3f5f\",\"gridcolor\":\"white\",\"linecolor\":\"white\",\"minorgridcolor\":\"white\",\"startlinecolor\":\"#2a3f5f\"},\"baxis\":{\"endlinecolor\":\"#2a3f5f\",\"gridcolor\":\"white\",\"linecolor\":\"white\",\"minorgridcolor\":\"white\",\"startlinecolor\":\"#2a3f5f\"},\"type\":\"carpet\"}],\"table\":[{\"cells\":{\"fill\":{\"color\":\"#EBF0F8\"},\"line\":{\"color\":\"white\"}},\"header\":{\"fill\":{\"color\":\"#C8D4E3\"},\"line\":{\"color\":\"white\"}},\"type\":\"table\"}],\"barpolar\":[{\"marker\":{\"line\":{\"color\":\"#E5ECF6\",\"width\":0.5},\"pattern\":{\"fillmode\":\"overlay\",\"size\":10,\"solidity\":0.2}},\"type\":\"barpolar\"}],\"pie\":[{\"automargin\":true,\"type\":\"pie\"}]},\"layout\":{\"autotypenumbers\":\"strict\",\"colorway\":[\"#636efa\",\"#EF553B\",\"#00cc96\",\"#ab63fa\",\"#FFA15A\",\"#19d3f3\",\"#FF6692\",\"#B6E880\",\"#FF97FF\",\"#FECB52\"],\"font\":{\"color\":\"#2a3f5f\"},\"hovermode\":\"closest\",\"hoverlabel\":{\"align\":\"left\"},\"paper_bgcolor\":\"white\",\"plot_bgcolor\":\"#E5ECF6\",\"polar\":{\"bgcolor\":\"#E5ECF6\",\"angularaxis\":{\"gridcolor\":\"white\",\"linecolor\":\"white\",\"ticks\":\"\"},\"radialaxis\":{\"gridcolor\":\"white\",\"linecolor\":\"white\",\"ticks\":\"\"}},\"ternary\":{\"bgcolor\":\"#E5ECF6\",\"aaxis\":{\"gridcolor\":\"white\",\"linecolor\":\"white\",\"ticks\":\"\"},\"baxis\":{\"gridcolor\":\"white\",\"linecolor\":\"white\",\"ticks\":\"\"},\"caxis\":{\"gridcolor\":\"white\",\"linecolor\":\"white\",\"ticks\":\"\"}},\"coloraxis\":{\"colorbar\":{\"outlinewidth\":0,\"ticks\":\"\"}},\"colorscale\":{\"sequential\":[[0.0,\"#0d0887\"],[0.1111111111111111,\"#46039f\"],[0.2222222222222222,\"#7201a8\"],[0.3333333333333333,\"#9c179e\"],[0.4444444444444444,\"#bd3786\"],[0.5555555555555556,\"#d8576b\"],[0.6666666666666666,\"#ed7953\"],[0.7777777777777778,\"#fb9f3a\"],[0.8888888888888888,\"#fdca26\"],[1.0,\"#f0f921\"]],\"sequentialminus\":[[0.0,\"#0d0887\"],[0.1111111111111111,\"#46039f\"],[0.2222222222222222,\"#7201a8\"],[0.3333333333333333,\"#9c179e\"],[0.4444444444444444,\"#bd3786\"],[0.5555555555555556,\"#d8576b\"],[0.6666666666666666,\"#ed7953\"],[0.7777777777777778,\"#fb9f3a\"],[0.8888888888888888,\"#fdca26\"],[1.0,\"#f0f921\"]],\"diverging\":[[0,\"#8e0152\"],[0.1,\"#c51b7d\"],[0.2,\"#de77ae\"],[0.3,\"#f1b6da\"],[0.4,\"#fde0ef\"],[0.5,\"#f7f7f7\"],[0.6,\"#e6f5d0\"],[0.7,\"#b8e186\"],[0.8,\"#7fbc41\"],[0.9,\"#4d9221\"],[1,\"#276419\"]]},\"xaxis\":{\"gridcolor\":\"white\",\"linecolor\":\"white\",\"ticks\":\"\",\"title\":{\"standoff\":15},\"zerolinecolor\":\"white\",\"automargin\":true,\"zerolinewidth\":2},\"yaxis\":{\"gridcolor\":\"white\",\"linecolor\":\"white\",\"ticks\":\"\",\"title\":{\"standoff\":15},\"zerolinecolor\":\"white\",\"automargin\":true,\"zerolinewidth\":2},\"scene\":{\"xaxis\":{\"backgroundcolor\":\"#E5ECF6\",\"gridcolor\":\"white\",\"linecolor\":\"white\",\"showbackground\":true,\"ticks\":\"\",\"zerolinecolor\":\"white\",\"gridwidth\":2},\"yaxis\":{\"backgroundcolor\":\"#E5ECF6\",\"gridcolor\":\"white\",\"linecolor\":\"white\",\"showbackground\":true,\"ticks\":\"\",\"zerolinecolor\":\"white\",\"gridwidth\":2},\"zaxis\":{\"backgroundcolor\":\"#E5ECF6\",\"gridcolor\":\"white\",\"linecolor\":\"white\",\"showbackground\":true,\"ticks\":\"\",\"zerolinecolor\":\"white\",\"gridwidth\":2}},\"shapedefaults\":{\"line\":{\"color\":\"#2a3f5f\"}},\"annotationdefaults\":{\"arrowcolor\":\"#2a3f5f\",\"arrowhead\":0,\"arrowwidth\":1},\"geo\":{\"bgcolor\":\"white\",\"landcolor\":\"#E5ECF6\",\"subunitcolor\":\"white\",\"showland\":true,\"showlakes\":true,\"lakecolor\":\"white\"},\"title\":{\"x\":0.05},\"mapbox\":{\"style\":\"light\"}}},\"xaxis\":{\"anchor\":\"y\",\"domain\":[0.0,1.0],\"title\":{\"text\":\"Date\"}},\"yaxis\":{\"anchor\":\"x\",\"domain\":[0.0,1.0],\"title\":{\"text\":\"Scaled Price\"}},\"legend\":{\"tracegroupgap\":0},\"margin\":{\"t\":60},\"title\":{\"text\":\"Gold Price History Data\",\"y\":0.95,\"x\":0.5,\"xanchor\":\"center\",\"yanchor\":\"top\"},\"plot_bgcolor\":\"rgba(255,223,0,0.8)\"},                        {\"responsive\": true}                    ).then(function(){\n",
              "                            \n",
              "var gd = document.getElementById('5f0192ff-f252-4f34-ac54-e8265125ad82');\n",
              "var x = new MutationObserver(function (mutations, observer) {{\n",
              "        var display = window.getComputedStyle(gd).display;\n",
              "        if (!display || display === 'none') {{\n",
              "            console.log([gd, 'removed!']);\n",
              "            Plotly.purge(gd);\n",
              "            observer.disconnect();\n",
              "        }}\n",
              "}});\n",
              "\n",
              "// Listen for the removal of the full notebook cells\n",
              "var notebookContainer = gd.closest('#notebook-container');\n",
              "if (notebookContainer) {{\n",
              "    x.observe(notebookContainer, {childList: true});\n",
              "}}\n",
              "\n",
              "// Listen for the clearing of the current output cell\n",
              "var outputEl = gd.closest('.output');\n",
              "if (outputEl) {{\n",
              "    x.observe(outputEl, {childList: true});\n",
              "}}\n",
              "\n",
              "                        })                };                            </script>        </div>\n",
              "</body>\n",
              "</html>"
            ]
          },
          "metadata": {}
        }
      ],
      "source": [
        "fig = px.line(y=df.GLD, x=df.Date)\n",
        "fig.update_traces(line_color='black')\n",
        "fig.update_layout(xaxis_title=\"Date\",\n",
        "                  yaxis_title=\"Scaled Price\",\n",
        "                  title={'text': \"Gold Price History Data\", 'y':0.95, 'x':0.5, 'xanchor':'center', 'yanchor':'top'},\n",
        "                  plot_bgcolor='rgba(255,223,0,0.8)')"
      ]
    },
    {
      "cell_type": "markdown",
      "id": "133c0934",
      "metadata": {
        "papermill": {
          "duration": 0.021706,
          "end_time": "2023-01-13T21:38:56.281163",
          "exception": false,
          "start_time": "2023-01-13T21:38:56.259457",
          "status": "completed"
        },
        "tags": [],
        "id": "133c0934"
      },
      "source": [
        "# Step 6: Splitting Data to Training & Test Sets\n",
        "__Since we cannot train on future data in time series data, we should not divide the time series data randomly. In time series splitting, testing set is always later than training set. We consider the last year for testing and everything else for training:__"
      ]
    },
    {
      "cell_type": "code",
      "execution_count": 20,
      "id": "e43c3225",
      "metadata": {
        "execution": {
          "iopub.execute_input": "2023-01-13T21:38:56.327147Z",
          "iopub.status.busy": "2023-01-13T21:38:56.326719Z",
          "iopub.status.idle": "2023-01-13T21:38:56.336784Z",
          "shell.execute_reply": "2023-01-13T21:38:56.335698Z"
        },
        "papermill": {
          "duration": 0.035779,
          "end_time": "2023-01-13T21:38:56.339242",
          "exception": false,
          "start_time": "2023-01-13T21:38:56.303463",
          "status": "completed"
        },
        "tags": [],
        "id": "e43c3225",
        "outputId": "a5a19824-b543-432d-c168-a0d23cbdfeed",
        "colab": {
          "base_uri": "https://localhost:8080/"
        }
      },
      "outputs": [
        {
          "output_type": "execute_result",
          "data": {
            "text/plain": [
              "87"
            ]
          },
          "metadata": {},
          "execution_count": 20
        }
      ],
      "source": [
        "test_size = df[df.Date.dt.year==2018].shape[0]\n",
        "test_size"
      ]
    },
    {
      "cell_type": "markdown",
      "id": "2ecb4b4e",
      "metadata": {
        "papermill": {
          "duration": 0.021838,
          "end_time": "2023-01-13T21:38:56.383048",
          "exception": false,
          "start_time": "2023-01-13T21:38:56.361210",
          "status": "completed"
        },
        "tags": [],
        "id": "2ecb4b4e"
      },
      "source": [
        "__Gold Price Training and Test Sets Plot:__"
      ]
    },
    {
      "cell_type": "code",
      "execution_count": 22,
      "id": "96341b6e",
      "metadata": {
        "execution": {
          "iopub.execute_input": "2023-01-13T21:38:56.429086Z",
          "iopub.status.busy": "2023-01-13T21:38:56.428619Z",
          "iopub.status.idle": "2023-01-13T21:38:56.864909Z",
          "shell.execute_reply": "2023-01-13T21:38:56.864044Z"
        },
        "papermill": {
          "duration": 0.462382,
          "end_time": "2023-01-13T21:38:56.867541",
          "exception": false,
          "start_time": "2023-01-13T21:38:56.405159",
          "status": "completed"
        },
        "tags": [],
        "id": "96341b6e",
        "outputId": "bcf288e3-495e-4859-8909-e75db2711e46",
        "colab": {
          "base_uri": "https://localhost:8080/",
          "height": 814
        }
      },
      "outputs": [
        {
          "output_type": "display_data",
          "data": {
            "text/plain": [
              "<Figure size 2250x900 with 1 Axes>"
            ],
            "image/png": "[encoded data removed]"
          },
          "metadata": {}
        }
      ],
      "source": [
        "plt.figure(figsize=(15, 6), dpi=150)\n",
        "plt.rcParams['axes.facecolor'] = 'yellow'\n",
        "plt.rc('axes',edgecolor='white')\n",
        "plt.plot(df.Date[:-test_size], df.GLD[:-test_size], color='black', lw=2)\n",
        "plt.plot(df.Date[-test_size:], df.GLD[-test_size:], color='blue', lw=2)\n",
        "plt.title('Gold Price Training and Test Sets', fontsize=15)\n",
        "plt.xlabel('Date', fontsize=12)\n",
        "plt.ylabel('Price', fontsize=12)\n",
        "plt.legend(['Training set', 'Test set'], loc='upper left', prop={'size': 15})\n",
        "plt.grid(color='white')\n",
        "plt.show()"
      ]
    },
    {
      "cell_type": "markdown",
      "id": "387ffdd6",
      "metadata": {
        "papermill": {
          "duration": 0.024125,
          "end_time": "2023-01-13T21:38:56.915898",
          "exception": false,
          "start_time": "2023-01-13T21:38:56.891773",
          "status": "completed"
        },
        "tags": [],
        "id": "387ffdd6"
      },
      "source": [
        "# Step 7: Data Scaling\n",
        "__Since we aim to predict Price only based on its historical data, we scale Price using MinMaxScaler to avoid intensive computations:__"
      ]
    },
    {
      "cell_type": "code",
      "execution_count": 24,
      "id": "768746f9",
      "metadata": {
        "execution": {
          "iopub.execute_input": "2023-01-13T21:38:56.966641Z",
          "iopub.status.busy": "2023-01-13T21:38:56.966215Z",
          "iopub.status.idle": "2023-01-13T21:38:56.976036Z",
          "shell.execute_reply": "2023-01-13T21:38:56.974989Z"
        },
        "papermill": {
          "duration": 0.038016,
          "end_time": "2023-01-13T21:38:56.978401",
          "exception": false,
          "start_time": "2023-01-13T21:38:56.940385",
          "status": "completed"
        },
        "tags": [],
        "id": "768746f9",
        "outputId": "4b490b90-7825-4766-ff72-7dd4c0315aef",
        "colab": {
          "base_uri": "https://localhost:8080/",
          "height": 57
        }
      },
      "outputs": [
        {
          "output_type": "execute_result",
          "data": {
            "text/plain": [
              "MinMaxScaler()"
            ],
            "text/html": [
              "<style>#sk-container-id-1 {\n",
              "  /* Definition of color scheme common for light and dark mode */\n",
              "  --sklearn-color-text: #000;\n",
              "  --sklearn-color-text-muted: #666;\n",
              "  --sklearn-color-line: gray;\n",
              "  /* Definition of color scheme for unfitted estimators */\n",
              "  --sklearn-color-unfitted-level-0: #fff5e6;\n",
              "  --sklearn-color-unfitted-level-1: #f6e4d2;\n",
              "  --sklearn-color-unfitted-level-2: #ffe0b3;\n",
              "  --sklearn-color-unfitted-level-3: chocolate;\n",
              "  /* Definition of color scheme for fitted estimators */\n",
              "  --sklearn-color-fitted-level-0: #f0f8ff;\n",
              "  --sklearn-color-fitted-level-1: #d4ebff;\n",
              "  --sklearn-color-fitted-level-2: #b3dbfd;\n",
              "  --sklearn-color-fitted-level-3: cornflowerblue;\n",
              "\n",
              "  /* Specific color for light theme */\n",
              "  --sklearn-color-text-on-default-background: var(--sg-text-color, var(--theme-code-foreground, var(--jp-content-font-color1, black)));\n",
              "  --sklearn-color-background: var(--sg-background-color, var(--theme-background, var(--jp-layout-color0, white)));\n",
              "  --sklearn-color-border-box: var(--sg-text-color, var(--theme-code-foreground, var(--jp-content-font-color1, black)));\n",
              "  --sklearn-color-icon: #696969;\n",
              "\n",
              "  @media (prefers-color-scheme: dark) {\n",
              "    /* Redefinition of color scheme for dark theme */\n",
              "    --sklearn-color-text-on-default-background: var(--sg-text-color, var(--theme-code-foreground, var(--jp-content-font-color1, white)));\n",
              "    --sklearn-color-background: var(--sg-background-color, var(--theme-background, var(--jp-layout-color0, #111)));\n",
              "    --sklearn-color-border-box: var(--sg-text-color, var(--theme-code-foreground, var(--jp-content-font-color1, white)));\n",
              "    --sklearn-color-icon: #878787;\n",
              "  }\n",
              "}\n",
              "\n",
              "#sk-container-id-1 {\n",
              "  color: var(--sklearn-color-text);\n",
              "}\n",
              "\n",
              "#sk-container-id-1 pre {\n",
              "  padding: 0;\n",
              "}\n",
              "\n",
              "#sk-container-id-1 input.sk-hidden--visually {\n",
              "  border: 0;\n",
              "  clip: rect(1px 1px 1px 1px);\n",
              "  clip: rect(1px, 1px, 1px, 1px);\n",
              "  height: 1px;\n",
              "  margin: -1px;\n",
              "  overflow: hidden;\n",
              "  padding: 0;\n",
              "  position: absolute;\n",
              "  width: 1px;\n",
              "}\n",
              "\n",
              "#sk-container-id-1 div.sk-dashed-wrapped {\n",
              "  border: 1px dashed var(--sklearn-color-line);\n",
              "  margin: 0 0.4em 0.5em 0.4em;\n",
              "  box-sizing: border-box;\n",
              "  padding-bottom: 0.4em;\n",
              "  background-color: var(--sklearn-color-background);\n",
              "}\n",
              "\n",
              "#sk-container-id-1 div.sk-container {\n",
              "  /* jupyter's `normalize.less` sets `[hidden] { display: none; }`\n",
              "     but bootstrap.min.css set `[hidden] { display: none !important; }`\n",
              "     so we also need the `!important` here to be able to override the\n",
              "     default hidden behavior on the sphinx rendered scikit-learn.org.\n",
              "     See: https://github.com/scikit-learn/scikit-learn/issues/21755 */\n",
              "  display: inline-block !important;\n",
              "  position: relative;\n",
              "}\n",
              "\n",
              "#sk-container-id-1 div.sk-text-repr-fallback {\n",
              "  display: none;\n",
              "}\n",
              "\n",
              "div.sk-parallel-item,\n",
              "div.sk-serial,\n",
              "div.sk-item {\n",
              "  /* draw centered vertical line to link estimators */\n",
              "  background-image: linear-gradient(var(--sklearn-color-text-on-default-background), var(--sklearn-color-text-on-default-background));\n",
              "  background-size: 2px 100%;\n",
              "  background-repeat: no-repeat;\n",
              "  background-position: center center;\n",
              "}\n",
              "\n",
              "/* Parallel-specific style estimator block */\n",
              "\n",
              "#sk-container-id-1 div.sk-parallel-item::after {\n",
              "  content: \"\";\n",
              "  width: 100%;\n",
              "  border-bottom: 2px solid var(--sklearn-color-text-on-default-background);\n",
              "  flex-grow: 1;\n",
              "}\n",
              "\n",
              "#sk-container-id-1 div.sk-parallel {\n",
              "  display: flex;\n",
              "  align-items: stretch;\n",
              "  justify-content: center;\n",
              "  background-color: var(--sklearn-color-background);\n",
              "  position: relative;\n",
              "}\n",
              "\n",
              "#sk-container-id-1 div.sk-parallel-item {\n",
              "  display: flex;\n",
              "  flex-direction: column;\n",
              "}\n",
              "\n",
              "#sk-container-id-1 div.sk-parallel-item:first-child::after {\n",
              "  align-self: flex-end;\n",
              "  width: 50%;\n",
              "}\n",
              "\n",
              "#sk-container-id-1 div.sk-parallel-item:last-child::after {\n",
              "  align-self: flex-start;\n",
              "  width: 50%;\n",
              "}\n",
              "\n",
              "#sk-container-id-1 div.sk-parallel-item:only-child::after {\n",
              "  width: 0;\n",
              "}\n",
              "\n",
              "/* Serial-specific style estimator block */\n",
              "\n",
              "#sk-container-id-1 div.sk-serial {\n",
              "  display: flex;\n",
              "  flex-direction: column;\n",
              "  align-items: center;\n",
              "  background-color: var(--sklearn-color-background);\n",
              "  padding-right: 1em;\n",
              "  padding-left: 1em;\n",
              "}\n",
              "\n",
              "\n",
              "/* Toggleable style: style used for estimator/Pipeline/ColumnTransformer box that is\n",
              "clickable and can be expanded/collapsed.\n",
              "- Pipeline and ColumnTransformer use this feature and define the default style\n",
              "- Estimators will overwrite some part of the style using the `sk-estimator` class\n",
              "*/\n",
              "\n",
              "/* Pipeline and ColumnTransformer style (default) */\n",
              "\n",
              "#sk-container-id-1 div.sk-toggleable {\n",
              "  /* Default theme specific background. It is overwritten whether we have a\n",
              "  specific estimator or a Pipeline/ColumnTransformer */\n",
              "  background-color: var(--sklearn-color-background);\n",
              "}\n",
              "\n",
              "/* Toggleable label */\n",
              "#sk-container-id-1 label.sk-toggleable__label {\n",
              "  cursor: pointer;\n",
              "  display: flex;\n",
              "  width: 100%;\n",
              "  margin-bottom: 0;\n",
              "  padding: 0.5em;\n",
              "  box-sizing: border-box;\n",
              "  text-align: center;\n",
              "  align-items: start;\n",
              "  justify-content: space-between;\n",
              "  gap: 0.5em;\n",
              "}\n",
              "\n",
              "#sk-container-id-1 label.sk-toggleable__label .caption {\n",
              "  font-size: 0.6rem;\n",
              "  font-weight: lighter;\n",
              "  color: var(--sklearn-color-text-muted);\n",
              "}\n",
              "\n",
              "#sk-container-id-1 label.sk-toggleable__label-arrow:before {\n",
              "  /* Arrow on the left of the label */\n",
              "  content: \"▸\";\n",
              "  float: left;\n",
              "  margin-right: 0.25em;\n",
              "  color: var(--sklearn-color-icon);\n",
              "}\n",
              "\n",
              "#sk-container-id-1 label.sk-toggleable__label-arrow:hover:before {\n",
              "  color: var(--sklearn-color-text);\n",
              "}\n",
              "\n",
              "/* Toggleable content - dropdown */\n",
              "\n",
              "#sk-container-id-1 div.sk-toggleable__content {\n",
              "  max-height: 0;\n",
              "  max-width: 0;\n",
              "  overflow: hidden;\n",
              "  text-align: left;\n",
              "  /* unfitted */\n",
              "  background-color: var(--sklearn-color-unfitted-level-0);\n",
              "}\n",
              "\n",
              "#sk-container-id-1 div.sk-toggleable__content.fitted {\n",
              "  /* fitted */\n",
              "  background-color: var(--sklearn-color-fitted-level-0);\n",
              "}\n",
              "\n",
              "#sk-container-id-1 div.sk-toggleable__content pre {\n",
              "  margin: 0.2em;\n",
              "  border-radius: 0.25em;\n",
              "  color: var(--sklearn-color-text);\n",
              "  /* unfitted */\n",
              "  background-color: var(--sklearn-color-unfitted-level-0);\n",
              "}\n",
              "\n",
              "#sk-container-id-1 div.sk-toggleable__content.fitted pre {\n",
              "  /* unfitted */\n",
              "  background-color: var(--sklearn-color-fitted-level-0);\n",
              "}\n",
              "\n",
              "#sk-container-id-1 input.sk-toggleable__control:checked~div.sk-toggleable__content {\n",
              "  /* Expand drop-down */\n",
              "  max-height: 200px;\n",
              "  max-width: 100%;\n",
              "  overflow: auto;\n",
              "}\n",
              "\n",
              "#sk-container-id-1 input.sk-toggleable__control:checked~label.sk-toggleable__label-arrow:before {\n",
              "  content: \"▾\";\n",
              "}\n",
              "\n",
              "/* Pipeline/ColumnTransformer-specific style */\n",
              "\n",
              "#sk-container-id-1 div.sk-label input.sk-toggleable__control:checked~label.sk-toggleable__label {\n",
              "  color: var(--sklearn-color-text);\n",
              "  background-color: var(--sklearn-color-unfitted-level-2);\n",
              "}\n",
              "\n",
              "#sk-container-id-1 div.sk-label.fitted input.sk-toggleable__control:checked~label.sk-toggleable__label {\n",
              "  background-color: var(--sklearn-color-fitted-level-2);\n",
              "}\n",
              "\n",
              "/* Estimator-specific style */\n",
              "\n",
              "/* Colorize estimator box */\n",
              "#sk-container-id-1 div.sk-estimator input.sk-toggleable__control:checked~label.sk-toggleable__label {\n",
              "  /* unfitted */\n",
              "  background-color: var(--sklearn-color-unfitted-level-2);\n",
              "}\n",
              "\n",
              "#sk-container-id-1 div.sk-estimator.fitted input.sk-toggleable__control:checked~label.sk-toggleable__label {\n",
              "  /* fitted */\n",
              "  background-color: var(--sklearn-color-fitted-level-2);\n",
              "}\n",
              "\n",
              "#sk-container-id-1 div.sk-label label.sk-toggleable__label,\n",
              "#sk-container-id-1 div.sk-label label {\n",
              "  /* The background is the default theme color */\n",
              "  color: var(--sklearn-color-text-on-default-background);\n",
              "}\n",
              "\n",
              "/* On hover, darken the color of the background */\n",
              "#sk-container-id-1 div.sk-label:hover label.sk-toggleable__label {\n",
              "  color: var(--sklearn-color-text);\n",
              "  background-color: var(--sklearn-color-unfitted-level-2);\n",
              "}\n",
              "\n",
              "/* Label box, darken color on hover, fitted */\n",
              "#sk-container-id-1 div.sk-label.fitted:hover label.sk-toggleable__label.fitted {\n",
              "  color: var(--sklearn-color-text);\n",
              "  background-color: var(--sklearn-color-fitted-level-2);\n",
              "}\n",
              "\n",
              "/* Estimator label */\n",
              "\n",
              "#sk-container-id-1 div.sk-label label {\n",
              "  font-family: monospace;\n",
              "  font-weight: bold;\n",
              "  display: inline-block;\n",
              "  line-height: 1.2em;\n",
              "}\n",
              "\n",
              "#sk-container-id-1 div.sk-label-container {\n",
              "  text-align: center;\n",
              "}\n",
              "\n",
              "/* Estimator-specific */\n",
              "#sk-container-id-1 div.sk-estimator {\n",
              "  font-family: monospace;\n",
              "  border: 1px dotted var(--sklearn-color-border-box);\n",
              "  border-radius: 0.25em;\n",
              "  box-sizing: border-box;\n",
              "  margin-bottom: 0.5em;\n",
              "  /* unfitted */\n",
              "  background-color: var(--sklearn-color-unfitted-level-0);\n",
              "}\n",
              "\n",
              "#sk-container-id-1 div.sk-estimator.fitted {\n",
              "  /* fitted */\n",
              "  background-color: var(--sklearn-color-fitted-level-0);\n",
              "}\n",
              "\n",
              "/* on hover */\n",
              "#sk-container-id-1 div.sk-estimator:hover {\n",
              "  /* unfitted */\n",
              "  background-color: var(--sklearn-color-unfitted-level-2);\n",
              "}\n",
              "\n",
              "#sk-container-id-1 div.sk-estimator.fitted:hover {\n",
              "  /* fitted */\n",
              "  background-color: var(--sklearn-color-fitted-level-2);\n",
              "}\n",
              "\n",
              "/* Specification for estimator info (e.g. \"i\" and \"?\") */\n",
              "\n",
              "/* Common style for \"i\" and \"?\" */\n",
              "\n",
              ".sk-estimator-doc-link,\n",
              "a:link.sk-estimator-doc-link,\n",
              "a:visited.sk-estimator-doc-link {\n",
              "  float: right;\n",
              "  font-size: smaller;\n",
              "  line-height: 1em;\n",
              "  font-family: monospace;\n",
              "  background-color: var(--sklearn-color-background);\n",
              "  border-radius: 1em;\n",
              "  height: 1em;\n",
              "  width: 1em;\n",
              "  text-decoration: none !important;\n",
              "  margin-left: 0.5em;\n",
              "  text-align: center;\n",
              "  /* unfitted */\n",
              "  border: var(--sklearn-color-unfitted-level-1) 1pt solid;\n",
              "  color: var(--sklearn-color-unfitted-level-1);\n",
              "}\n",
              "\n",
              ".sk-estimator-doc-link.fitted,\n",
              "a:link.sk-estimator-doc-link.fitted,\n",
              "a:visited.sk-estimator-doc-link.fitted {\n",
              "  /* fitted */\n",
              "  border: var(--sklearn-color-fitted-level-1) 1pt solid;\n",
              "  color: var(--sklearn-color-fitted-level-1);\n",
              "}\n",
              "\n",
              "/* On hover */\n",
              "div.sk-estimator:hover .sk-estimator-doc-link:hover,\n",
              ".sk-estimator-doc-link:hover,\n",
              "div.sk-label-container:hover .sk-estimator-doc-link:hover,\n",
              ".sk-estimator-doc-link:hover {\n",
              "  /* unfitted */\n",
              "  background-color: var(--sklearn-color-unfitted-level-3);\n",
              "  color: var(--sklearn-color-background);\n",
              "  text-decoration: none;\n",
              "}\n",
              "\n",
              "div.sk-estimator.fitted:hover .sk-estimator-doc-link.fitted:hover,\n",
              ".sk-estimator-doc-link.fitted:hover,\n",
              "div.sk-label-container:hover .sk-estimator-doc-link.fitted:hover,\n",
              ".sk-estimator-doc-link.fitted:hover {\n",
              "  /* fitted */\n",
              "  background-color: var(--sklearn-color-fitted-level-3);\n",
              "  color: var(--sklearn-color-background);\n",
              "  text-decoration: none;\n",
              "}\n",
              "\n",
              "/* Span, style for the box shown on hovering the info icon */\n",
              ".sk-estimator-doc-link span {\n",
              "  display: none;\n",
              "  z-index: 9999;\n",
              "  position: relative;\n",
              "  font-weight: normal;\n",
              "  right: .2ex;\n",
              "  padding: .5ex;\n",
              "  margin: .5ex;\n",
              "  width: min-content;\n",
              "  min-width: 20ex;\n",
              "  max-width: 50ex;\n",
              "  color: var(--sklearn-color-text);\n",
              "  box-shadow: 2pt 2pt 4pt #999;\n",
              "  /* unfitted */\n",
              "  background: var(--sklearn-color-unfitted-level-0);\n",
              "  border: .5pt solid var(--sklearn-color-unfitted-level-3);\n",
              "}\n",
              "\n",
              ".sk-estimator-doc-link.fitted span {\n",
              "  /* fitted */\n",
              "  background: var(--sklearn-color-fitted-level-0);\n",
              "  border: var(--sklearn-color-fitted-level-3);\n",
              "}\n",
              "\n",
              ".sk-estimator-doc-link:hover span {\n",
              "  display: block;\n",
              "}\n",
              "\n",
              "/* \"?\"-specific style due to the `<a>` HTML tag */\n",
              "\n",
              "#sk-container-id-1 a.estimator_doc_link {\n",
              "  float: right;\n",
              "  font-size: 1rem;\n",
              "  line-height: 1em;\n",
              "  font-family: monospace;\n",
              "  background-color: var(--sklearn-color-background);\n",
              "  border-radius: 1rem;\n",
              "  height: 1rem;\n",
              "  width: 1rem;\n",
              "  text-decoration: none;\n",
              "  /* unfitted */\n",
              "  color: var(--sklearn-color-unfitted-level-1);\n",
              "  border: var(--sklearn-color-unfitted-level-1) 1pt solid;\n",
              "}\n",
              "\n",
              "#sk-container-id-1 a.estimator_doc_link.fitted {\n",
              "  /* fitted */\n",
              "  border: var(--sklearn-color-fitted-level-1) 1pt solid;\n",
              "  color: var(--sklearn-color-fitted-level-1);\n",
              "}\n",
              "\n",
              "/* On hover */\n",
              "#sk-container-id-1 a.estimator_doc_link:hover {\n",
              "  /* unfitted */\n",
              "  background-color: var(--sklearn-color-unfitted-level-3);\n",
              "  color: var(--sklearn-color-background);\n",
              "  text-decoration: none;\n",
              "}\n",
              "\n",
              "#sk-container-id-1 a.estimator_doc_link.fitted:hover {\n",
              "  /* fitted */\n",
              "  background-color: var(--sklearn-color-fitted-level-3);\n",
              "}\n",
              "</style><div id=\"sk-container-id-1\" class=\"sk-top-container\"><div class=\"sk-text-repr-fallback\"><pre>MinMaxScaler()</pre><b>In a Jupyter environment, please rerun this cell to show the HTML representation or trust the notebook. <br />On GitHub, the HTML representation is unable to render, please try loading this page with nbviewer.org.</b></div><div class=\"sk-container\" hidden><div class=\"sk-item\"><div class=\"sk-estimator fitted sk-toggleable\"><input class=\"sk-toggleable__control sk-hidden--visually\" id=\"sk-estimator-id-1\" type=\"checkbox\" checked><label for=\"sk-estimator-id-1\" class=\"sk-toggleable__label fitted sk-toggleable__label-arrow\"><div><div>MinMaxScaler</div></div><div><a class=\"sk-estimator-doc-link fitted\" rel=\"noreferrer\" target=\"_blank\" href=\"https://scikit-learn.org/1.6/modules/generated/sklearn.preprocessing.MinMaxScaler.html\">?<span>Documentation for MinMaxScaler</span></a><span class=\"sk-estimator-doc-link fitted\">i<span>Fitted</span></span></div></label><div class=\"sk-toggleable__content fitted\"><pre>MinMaxScaler()</pre></div> </div></div></div></div>"
            ]
          },
          "metadata": {},
          "execution_count": 24
        }
      ],
      "source": [
        "scaler = MinMaxScaler()\n",
        "scaler.fit(df.GLD.values.reshape(-1,1))"
      ]
    },
    {
      "cell_type": "markdown",
      "id": "79963b17",
      "metadata": {
        "papermill": {
          "duration": 0.023626,
          "end_time": "2023-01-13T21:38:57.026900",
          "exception": false,
          "start_time": "2023-01-13T21:38:57.003274",
          "status": "completed"
        },
        "tags": [],
        "id": "79963b17"
      },
      "source": [
        "# Step 8: Restructure Data & Create Sliding Window\n",
        "__The use of prior time steps to predict the next time step is called sliding window. In this way, time series data can be expressed as supervised learning. We can do this by using previous time steps as input variables and use the next time step as the output variable. The number of previous time steps is called the window width. Here we set window width to 60. Therefore, X_train and X_test will be nested lists containing lists of 60 time-stamp prices. y_train and y_test are also lists of gold prices containing the next day's gold price corresponds to each list in X_train and X_test respectively:__"
      ]
    },
    {
      "cell_type": "code",
      "execution_count": 25,
      "id": "653ae404",
      "metadata": {
        "execution": {
          "iopub.execute_input": "2023-01-13T21:38:57.076735Z",
          "iopub.status.busy": "2023-01-13T21:38:57.076342Z",
          "iopub.status.idle": "2023-01-13T21:38:57.081119Z",
          "shell.execute_reply": "2023-01-13T21:38:57.080023Z"
        },
        "papermill": {
          "duration": 0.032406,
          "end_time": "2023-01-13T21:38:57.083389",
          "exception": false,
          "start_time": "2023-01-13T21:38:57.050983",
          "status": "completed"
        },
        "tags": [],
        "id": "653ae404"
      },
      "outputs": [],
      "source": [
        "window_size = 60"
      ]
    },
    {
      "cell_type": "markdown",
      "id": "1bbd4251",
      "metadata": {
        "papermill": {
          "duration": 0.023875,
          "end_time": "2023-01-13T21:38:57.132072",
          "exception": false,
          "start_time": "2023-01-13T21:38:57.108197",
          "status": "completed"
        },
        "tags": [],
        "id": "1bbd4251"
      },
      "source": [
        "__Training Set:__"
      ]
    },
    {
      "cell_type": "code",
      "execution_count": 27,
      "id": "f721d12b",
      "metadata": {
        "execution": {
          "iopub.execute_input": "2023-01-13T21:38:57.182254Z",
          "iopub.status.busy": "2023-01-13T21:38:57.181819Z",
          "iopub.status.idle": "2023-01-13T21:38:57.187798Z",
          "shell.execute_reply": "2023-01-13T21:38:57.186575Z"
        },
        "papermill": {
          "duration": 0.033827,
          "end_time": "2023-01-13T21:38:57.190072",
          "exception": false,
          "start_time": "2023-01-13T21:38:57.156245",
          "status": "completed"
        },
        "tags": [],
        "id": "f721d12b"
      },
      "outputs": [],
      "source": [
        "train_data = df.GLD[:-test_size]\n",
        "train_data = scaler.transform(train_data.values.reshape(-1,1))"
      ]
    },
    {
      "cell_type": "code",
      "execution_count": 31,
      "id": "e86c8e1f",
      "metadata": {
        "execution": {
          "iopub.execute_input": "2023-01-13T21:38:57.240636Z",
          "iopub.status.busy": "2023-01-13T21:38:57.240231Z",
          "iopub.status.idle": "2023-01-13T21:38:57.248799Z",
          "shell.execute_reply": "2023-01-13T21:38:57.247598Z"
        },
        "papermill": {
          "duration": 0.036808,
          "end_time": "2023-01-13T21:38:57.251275",
          "exception": false,
          "start_time": "2023-01-13T21:38:57.214467",
          "status": "completed"
        },
        "tags": [],
        "id": "e86c8e1f"
      },
      "outputs": [],
      "source": [
        "X_train = []\n",
        "y_train = []\n",
        "\n",
        "for i in range(window_size, len(train_data)):\n",
        "    X_train.append(train_data[i-60:i, 0])\n",
        "    y_train.append(train_data[i, 0])"
      ]
    },
    {
      "cell_type": "markdown",
      "id": "0abae0a6",
      "metadata": {
        "papermill": {
          "duration": 0.023875,
          "end_time": "2023-01-13T21:38:57.299207",
          "exception": false,
          "start_time": "2023-01-13T21:38:57.275332",
          "status": "completed"
        },
        "tags": [],
        "id": "0abae0a6"
      },
      "source": [
        "__Test Set:__"
      ]
    },
    {
      "cell_type": "code",
      "execution_count": 29,
      "id": "300ca9dc",
      "metadata": {
        "execution": {
          "iopub.execute_input": "2023-01-13T21:38:57.349517Z",
          "iopub.status.busy": "2023-01-13T21:38:57.349123Z",
          "iopub.status.idle": "2023-01-13T21:38:57.355187Z",
          "shell.execute_reply": "2023-01-13T21:38:57.353892Z"
        },
        "papermill": {
          "duration": 0.033896,
          "end_time": "2023-01-13T21:38:57.357378",
          "exception": false,
          "start_time": "2023-01-13T21:38:57.323482",
          "status": "completed"
        },
        "tags": [],
        "id": "300ca9dc"
      },
      "outputs": [],
      "source": [
        "test_data = df.GLD[-test_size-60:]\n",
        "test_data = scaler.transform(test_data.values.reshape(-1,1))"
      ]
    },
    {
      "cell_type": "code",
      "execution_count": 32,
      "id": "5524e7fd",
      "metadata": {
        "execution": {
          "iopub.execute_input": "2023-01-13T21:38:57.407660Z",
          "iopub.status.busy": "2023-01-13T21:38:57.407247Z",
          "iopub.status.idle": "2023-01-13T21:38:57.413568Z",
          "shell.execute_reply": "2023-01-13T21:38:57.412423Z"
        },
        "papermill": {
          "duration": 0.034307,
          "end_time": "2023-01-13T21:38:57.415803",
          "exception": false,
          "start_time": "2023-01-13T21:38:57.381496",
          "status": "completed"
        },
        "tags": [],
        "id": "5524e7fd"
      },
      "outputs": [],
      "source": [
        "X_test = []\n",
        "y_test = []\n",
        "\n",
        "for i in range(window_size, len(test_data)):\n",
        "    X_test.append(test_data[i-60:i, 0])\n",
        "    y_test.append(test_data[i, 0])"
      ]
    },
    {
      "cell_type": "markdown",
      "id": "9a67bbec",
      "metadata": {
        "papermill": {
          "duration": 0.024719,
          "end_time": "2023-01-13T21:38:57.464907",
          "exception": false,
          "start_time": "2023-01-13T21:38:57.440188",
          "status": "completed"
        },
        "tags": [],
        "id": "9a67bbec"
      },
      "source": [
        "# Step 9: Converting Data to Numpy Arrays\n",
        "\n",
        "__Now X_train and X_test are nested lists (two-dimensional lists) and y_train is a one-dimensional list. We need to convert them to numpy arrays with a higher dimension, which is the data format accepted by TensorFlow when training the neural network:__"
      ]
    },
    {
      "cell_type": "code",
      "execution_count": 33,
      "id": "25a0e33c",
      "metadata": {
        "execution": {
          "iopub.execute_input": "2023-01-13T21:38:57.516258Z",
          "iopub.status.busy": "2023-01-13T21:38:57.515807Z",
          "iopub.status.idle": "2023-01-13T21:38:57.522976Z",
          "shell.execute_reply": "2023-01-13T21:38:57.522081Z"
        },
        "papermill": {
          "duration": 0.035792,
          "end_time": "2023-01-13T21:38:57.525210",
          "exception": false,
          "start_time": "2023-01-13T21:38:57.489418",
          "status": "completed"
        },
        "tags": [],
        "id": "25a0e33c"
      },
      "outputs": [],
      "source": [
        "X_train = np.array(X_train)\n",
        "X_test  = np.array(X_test)\n",
        "y_train = np.array(y_train)\n",
        "y_test  = np.array(y_test)"
      ]
    },
    {
      "cell_type": "code",
      "execution_count": 34,
      "id": "9eff0e06",
      "metadata": {
        "execution": {
          "iopub.execute_input": "2023-01-13T21:38:57.576093Z",
          "iopub.status.busy": "2023-01-13T21:38:57.575660Z",
          "iopub.status.idle": "2023-01-13T21:38:57.581384Z",
          "shell.execute_reply": "2023-01-13T21:38:57.580578Z"
        },
        "papermill": {
          "duration": 0.033944,
          "end_time": "2023-01-13T21:38:57.583467",
          "exception": false,
          "start_time": "2023-01-13T21:38:57.549523",
          "status": "completed"
        },
        "tags": [],
        "id": "9eff0e06"
      },
      "outputs": [],
      "source": [
        "X_train = np.reshape(X_train, (X_train.shape[0], X_train.shape[1], 1))\n",
        "X_test  = np.reshape(X_test, (X_test.shape[0], X_test.shape[1], 1))\n",
        "y_train = np.reshape(y_train, (-1,1))\n",
        "y_test  = np.reshape(y_test, (-1,1))"
      ]
    },
    {
      "cell_type": "code",
      "execution_count": 35,
      "id": "ca1e943a",
      "metadata": {
        "execution": {
          "iopub.execute_input": "2023-01-13T21:38:57.636338Z",
          "iopub.status.busy": "2023-01-13T21:38:57.635879Z",
          "iopub.status.idle": "2023-01-13T21:38:57.642233Z",
          "shell.execute_reply": "2023-01-13T21:38:57.641201Z"
        },
        "papermill": {
          "duration": 0.034679,
          "end_time": "2023-01-13T21:38:57.644506",
          "exception": false,
          "start_time": "2023-01-13T21:38:57.609827",
          "status": "completed"
        },
        "tags": [],
        "id": "ca1e943a",
        "outputId": "ab020329-7f6c-4c3f-e24d-dd7b940b8dbc",
        "colab": {
          "base_uri": "https://localhost:8080/"
        }
      },
      "outputs": [
        {
          "output_type": "stream",
          "name": "stdout",
          "text": [
            "X_train Shape:  (2143, 60, 1)\n",
            "y_train Shape:  (2143, 1)\n",
            "X_test Shape:   (87, 60, 1)\n",
            "y_test Shape:   (87, 1)\n"
          ]
        }
      ],
      "source": [
        "print('X_train Shape: ', X_train.shape)\n",
        "print('y_train Shape: ', y_train.shape)\n",
        "print('X_test Shape:  ', X_test.shape)\n",
        "print('y_test Shape:  ', y_test.shape)"
      ]
    },
    {
      "cell_type": "markdown",
      "id": "b3c20f7f",
      "metadata": {
        "papermill": {
          "duration": 0.023945,
          "end_time": "2023-01-13T21:38:57.693274",
          "exception": false,
          "start_time": "2023-01-13T21:38:57.669329",
          "status": "completed"
        },
        "tags": [],
        "id": "b3c20f7f"
      },
      "source": [
        "# Step 10: Creating an LSTM Network\n",
        "__We build an LSTM network, which is a type of Recurrent Neural Networks designed to solve vanishing gradient problem:__"
      ]
    },
    {
      "cell_type": "markdown",
      "id": "177b02b9",
      "metadata": {
        "papermill": {
          "duration": 0.023915,
          "end_time": "2023-01-13T21:38:57.741627",
          "exception": false,
          "start_time": "2023-01-13T21:38:57.717712",
          "status": "completed"
        },
        "tags": [],
        "id": "177b02b9"
      },
      "source": [
        "__Model Definition:__"
      ]
    },
    {
      "cell_type": "code",
      "execution_count": 36,
      "id": "1ea25243",
      "metadata": {
        "execution": {
          "iopub.execute_input": "2023-01-13T21:38:57.792874Z",
          "iopub.status.busy": "2023-01-13T21:38:57.792048Z",
          "iopub.status.idle": "2023-01-13T21:38:57.800548Z",
          "shell.execute_reply": "2023-01-13T21:38:57.799390Z"
        },
        "papermill": {
          "duration": 0.036759,
          "end_time": "2023-01-13T21:38:57.802926",
          "exception": false,
          "start_time": "2023-01-13T21:38:57.766167",
          "status": "completed"
        },
        "tags": [],
        "id": "1ea25243"
      },
      "outputs": [],
      "source": [
        "def define_model():\n",
        "    input1 = Input(shape=(window_size,1))\n",
        "    x = LSTM(units = 64, return_sequences=True)(input1)\n",
        "    x = Dropout(0.2)(x)\n",
        "    x = LSTM(units = 64, return_sequences=True)(x)\n",
        "    x = Dropout(0.2)(x)\n",
        "    x = LSTM(units = 64)(x)\n",
        "    x = Dropout(0.2)(x)\n",
        "    x = Dense(32, activation='softmax')(x)\n",
        "    dnn_output = Dense(1)(x)\n",
        "\n",
        "    model = Model(inputs=input1, outputs=[dnn_output])\n",
        "    model.compile(loss='mean_squared_error', optimizer='Nadam')\n",
        "    model.summary()\n",
        "\n",
        "    return model"
      ]
    },
    {
      "cell_type": "markdown",
      "id": "3067dfa7",
      "metadata": {
        "papermill": {
          "duration": 0.023992,
          "end_time": "2023-01-13T21:38:57.852038",
          "exception": false,
          "start_time": "2023-01-13T21:38:57.828046",
          "status": "completed"
        },
        "tags": [],
        "id": "3067dfa7"
      },
      "source": [
        "__Model Training:__"
      ]
    },
    {
      "cell_type": "code",
      "execution_count": 37,
      "id": "600e614a",
      "metadata": {
        "execution": {
          "iopub.execute_input": "2023-01-13T21:38:57.902942Z",
          "iopub.status.busy": "2023-01-13T21:38:57.902482Z",
          "iopub.status.idle": "2023-01-13T22:03:26.006978Z",
          "shell.execute_reply": "2023-01-13T22:03:26.005741Z"
        },
        "papermill": {
          "duration": 1468.133491,
          "end_time": "2023-01-13T22:03:26.009936",
          "exception": false,
          "start_time": "2023-01-13T21:38:57.876445",
          "status": "completed"
        },
        "tags": [],
        "id": "600e614a",
        "outputId": "5913a2b5-1450-4081-9ac4-7f3c39c46eee",
        "colab": {
          "base_uri": "https://localhost:8080/",
          "height": 1000
        }
      },
      "outputs": [
        {
          "output_type": "display_data",
          "data": {
            "text/plain": [
              "\u001b[1mModel: \"functional\"\u001b[0m\n"
            ],
            "text/html": [
              "<pre style=\"white-space:pre;overflow-x:auto;line-height:normal;font-family:Menlo,'DejaVu Sans Mono',consolas,'Courier New',monospace\"><span style=\"font-weight: bold\">Model: \"functional\"</span>\n",
              "</pre>\n"
            ]
          },
          "metadata": {}
        },
        {
          "output_type": "display_data",
          "data": {
            "text/plain": [
              "┏━━━━━━━━━━━━━━━━━━━━━━━━━━━━━━━━━━━━━━┳━━━━━━━━━━━━━━━━━━━━━━━━━━━━━┳━━━━━━━━━━━━━━━━━┓\n",
              "┃\u001b[1m \u001b[0m\u001b[1mLayer (type)                        \u001b[0m\u001b[1m \u001b[0m┃\u001b[1m \u001b[0m\u001b[1mOutput Shape               \u001b[0m\u001b[1m \u001b[0m┃\u001b[1m \u001b[0m\u001b[1m        Param #\u001b[0m\u001b[1m \u001b[0m┃\n",
              "┡━━━━━━━━━━━━━━━━━━━━━━━━━━━━━━━━━━━━━━╇━━━━━━━━━━━━━━━━━━━━━━━━━━━━━╇━━━━━━━━━━━━━━━━━┩\n",
              "│ input_layer (\u001b[38;5;33mInputLayer\u001b[0m)             │ (\u001b[38;5;45mNone\u001b[0m, \u001b[38;5;34m60\u001b[0m, \u001b[38;5;34m1\u001b[0m)               │               \u001b[38;5;34m0\u001b[0m │\n",
              "├──────────────────────────────────────┼─────────────────────────────┼─────────────────┤\n",
              "│ lstm (\u001b[38;5;33mLSTM\u001b[0m)                          │ (\u001b[38;5;45mNone\u001b[0m, \u001b[38;5;34m60\u001b[0m, \u001b[38;5;34m64\u001b[0m)              │          \u001b[38;5;34m16,896\u001b[0m │\n",
              "├──────────────────────────────────────┼─────────────────────────────┼─────────────────┤\n",
              "│ dropout (\u001b[38;5;33mDropout\u001b[0m)                    │ (\u001b[38;5;45mNone\u001b[0m, \u001b[38;5;34m60\u001b[0m, \u001b[38;5;34m64\u001b[0m)              │               \u001b[38;5;34m0\u001b[0m │\n",
              "├──────────────────────────────────────┼─────────────────────────────┼─────────────────┤\n",
              "│ lstm_1 (\u001b[38;5;33mLSTM\u001b[0m)                        │ (\u001b[38;5;45mNone\u001b[0m, \u001b[38;5;34m60\u001b[0m, \u001b[38;5;34m64\u001b[0m)              │          \u001b[38;5;34m33,024\u001b[0m │\n",
              "├──────────────────────────────────────┼─────────────────────────────┼─────────────────┤\n",
              "│ dropout_1 (\u001b[38;5;33mDropout\u001b[0m)                  │ (\u001b[38;5;45mNone\u001b[0m, \u001b[38;5;34m60\u001b[0m, \u001b[38;5;34m64\u001b[0m)              │               \u001b[38;5;34m0\u001b[0m │\n",
              "├──────────────────────────────────────┼─────────────────────────────┼─────────────────┤\n",
              "│ lstm_2 (\u001b[38;5;33mLSTM\u001b[0m)                        │ (\u001b[38;5;45mNone\u001b[0m, \u001b[38;5;34m64\u001b[0m)                  │          \u001b[38;5;34m33,024\u001b[0m │\n",
              "├──────────────────────────────────────┼─────────────────────────────┼─────────────────┤\n",
              "│ dropout_2 (\u001b[38;5;33mDropout\u001b[0m)                  │ (\u001b[38;5;45mNone\u001b[0m, \u001b[38;5;34m64\u001b[0m)                  │               \u001b[38;5;34m0\u001b[0m │\n",
              "├──────────────────────────────────────┼─────────────────────────────┼─────────────────┤\n",
              "│ dense (\u001b[38;5;33mDense\u001b[0m)                        │ (\u001b[38;5;45mNone\u001b[0m, \u001b[38;5;34m32\u001b[0m)                  │           \u001b[38;5;34m2,080\u001b[0m │\n",
              "├──────────────────────────────────────┼─────────────────────────────┼─────────────────┤\n",
              "│ dense_1 (\u001b[38;5;33mDense\u001b[0m)                      │ (\u001b[38;5;45mNone\u001b[0m, \u001b[38;5;34m1\u001b[0m)                   │              \u001b[38;5;34m33\u001b[0m │\n",
              "└──────────────────────────────────────┴─────────────────────────────┴─────────────────┘\n"
            ],
            "text/html": [
              "<pre style=\"white-space:pre;overflow-x:auto;line-height:normal;font-family:Menlo,'DejaVu Sans Mono',consolas,'Courier New',monospace\">┏━━━━━━━━━━━━━━━━━━━━━━━━━━━━━━━━━━━━━━┳━━━━━━━━━━━━━━━━━━━━━━━━━━━━━┳━━━━━━━━━━━━━━━━━┓\n",
              "┃<span style=\"font-weight: bold\"> Layer (type)                         </span>┃<span style=\"font-weight: bold\"> Output Shape                </span>┃<span style=\"font-weight: bold\">         Param # </span>┃\n",
              "┡━━━━━━━━━━━━━━━━━━━━━━━━━━━━━━━━━━━━━━╇━━━━━━━━━━━━━━━━━━━━━━━━━━━━━╇━━━━━━━━━━━━━━━━━┩\n",
              "│ input_layer (<span style=\"color: #0087ff; text-decoration-color: #0087ff\">InputLayer</span>)             │ (<span style=\"color: #00d7ff; text-decoration-color: #00d7ff\">None</span>, <span style=\"color: #00af00; text-decoration-color: #00af00\">60</span>, <span style=\"color: #00af00; text-decoration-color: #00af00\">1</span>)               │               <span style=\"color: #00af00; text-decoration-color: #00af00\">0</span> │\n",
              "├──────────────────────────────────────┼─────────────────────────────┼─────────────────┤\n",
              "│ lstm (<span style=\"color: #0087ff; text-decoration-color: #0087ff\">LSTM</span>)                          │ (<span style=\"color: #00d7ff; text-decoration-color: #00d7ff\">None</span>, <span style=\"color: #00af00; text-decoration-color: #00af00\">60</span>, <span style=\"color: #00af00; text-decoration-color: #00af00\">64</span>)              │          <span style=\"color: #00af00; text-decoration-color: #00af00\">16,896</span> │\n",
              "├──────────────────────────────────────┼─────────────────────────────┼─────────────────┤\n",
              "│ dropout (<span style=\"color: #0087ff; text-decoration-color: #0087ff\">Dropout</span>)                    │ (<span style=\"color: #00d7ff; text-decoration-color: #00d7ff\">None</span>, <span style=\"color: #00af00; text-decoration-color: #00af00\">60</span>, <span style=\"color: #00af00; text-decoration-color: #00af00\">64</span>)              │               <span style=\"color: #00af00; text-decoration-color: #00af00\">0</span> │\n",
              "├──────────────────────────────────────┼─────────────────────────────┼─────────────────┤\n",
              "│ lstm_1 (<span style=\"color: #0087ff; text-decoration-color: #0087ff\">LSTM</span>)                        │ (<span style=\"color: #00d7ff; text-decoration-color: #00d7ff\">None</span>, <span style=\"color: #00af00; text-decoration-color: #00af00\">60</span>, <span style=\"color: #00af00; text-decoration-color: #00af00\">64</span>)              │          <span style=\"color: #00af00; text-decoration-color: #00af00\">33,024</span> │\n",
              "├──────────────────────────────────────┼─────────────────────────────┼─────────────────┤\n",
              "│ dropout_1 (<span style=\"color: #0087ff; text-decoration-color: #0087ff\">Dropout</span>)                  │ (<span style=\"color: #00d7ff; text-decoration-color: #00d7ff\">None</span>, <span style=\"color: #00af00; text-decoration-color: #00af00\">60</span>, <span style=\"color: #00af00; text-decoration-color: #00af00\">64</span>)              │               <span style=\"color: #00af00; text-decoration-color: #00af00\">0</span> │\n",
              "├──────────────────────────────────────┼─────────────────────────────┼─────────────────┤\n",
              "│ lstm_2 (<span style=\"color: #0087ff; text-decoration-color: #0087ff\">LSTM</span>)                        │ (<span style=\"color: #00d7ff; text-decoration-color: #00d7ff\">None</span>, <span style=\"color: #00af00; text-decoration-color: #00af00\">64</span>)                  │          <span style=\"color: #00af00; text-decoration-color: #00af00\">33,024</span> │\n",
              "├──────────────────────────────────────┼─────────────────────────────┼─────────────────┤\n",
              "│ dropout_2 (<span style=\"color: #0087ff; text-decoration-color: #0087ff\">Dropout</span>)                  │ (<span style=\"color: #00d7ff; text-decoration-color: #00d7ff\">None</span>, <span style=\"color: #00af00; text-decoration-color: #00af00\">64</span>)                  │               <span style=\"color: #00af00; text-decoration-color: #00af00\">0</span> │\n",
              "├──────────────────────────────────────┼─────────────────────────────┼─────────────────┤\n",
              "│ dense (<span style=\"color: #0087ff; text-decoration-color: #0087ff\">Dense</span>)                        │ (<span style=\"color: #00d7ff; text-decoration-color: #00d7ff\">None</span>, <span style=\"color: #00af00; text-decoration-color: #00af00\">32</span>)                  │           <span style=\"color: #00af00; text-decoration-color: #00af00\">2,080</span> │\n",
              "├──────────────────────────────────────┼─────────────────────────────┼─────────────────┤\n",
              "│ dense_1 (<span style=\"color: #0087ff; text-decoration-color: #0087ff\">Dense</span>)                      │ (<span style=\"color: #00d7ff; text-decoration-color: #00d7ff\">None</span>, <span style=\"color: #00af00; text-decoration-color: #00af00\">1</span>)                   │              <span style=\"color: #00af00; text-decoration-color: #00af00\">33</span> │\n",
              "└──────────────────────────────────────┴─────────────────────────────┴─────────────────┘\n",
              "</pre>\n"
            ]
          },
          "metadata": {}
        },
        {
          "output_type": "display_data",
          "data": {
            "text/plain": [
              "\u001b[1m Total params: \u001b[0m\u001b[38;5;34m85,057\u001b[0m (332.25 KB)\n"
            ],
            "text/html": [
              "<pre style=\"white-space:pre;overflow-x:auto;line-height:normal;font-family:Menlo,'DejaVu Sans Mono',consolas,'Courier New',monospace\"><span style=\"font-weight: bold\"> Total params: </span><span style=\"color: #00af00; text-decoration-color: #00af00\">85,057</span> (332.25 KB)\n",
              "</pre>\n"
            ]
          },
          "metadata": {}
        },
        {
          "output_type": "display_data",
          "data": {
            "text/plain": [
              "\u001b[1m Trainable params: \u001b[0m\u001b[38;5;34m85,057\u001b[0m (332.25 KB)\n"
            ],
            "text/html": [
              "<pre style=\"white-space:pre;overflow-x:auto;line-height:normal;font-family:Menlo,'DejaVu Sans Mono',consolas,'Courier New',monospace\"><span style=\"font-weight: bold\"> Trainable params: </span><span style=\"color: #00af00; text-decoration-color: #00af00\">85,057</span> (332.25 KB)\n",
              "</pre>\n"
            ]
          },
          "metadata": {}
        },
        {
          "output_type": "display_data",
          "data": {
            "text/plain": [
              "\u001b[1m Non-trainable params: \u001b[0m\u001b[38;5;34m0\u001b[0m (0.00 B)\n"
            ],
            "text/html": [
              "<pre style=\"white-space:pre;overflow-x:auto;line-height:normal;font-family:Menlo,'DejaVu Sans Mono',consolas,'Courier New',monospace\"><span style=\"font-weight: bold\"> Non-trainable params: </span><span style=\"color: #00af00; text-decoration-color: #00af00\">0</span> (0.00 B)\n",
              "</pre>\n"
            ]
          },
          "metadata": {}
        },
        {
          "output_type": "stream",
          "name": "stdout",
          "text": [
            "Epoch 1/150\n",
            "\u001b[1m61/61\u001b[0m \u001b[32m━━━━━━━━━━━━━━━━━━━━\u001b[0m\u001b[37m\u001b[0m \u001b[1m10s\u001b[0m 74ms/step - loss: 0.1309 - val_loss: 0.0019\n",
            "Epoch 2/150\n",
            "\u001b[1m61/61\u001b[0m \u001b[32m━━━━━━━━━━━━━━━━━━━━\u001b[0m\u001b[37m\u001b[0m \u001b[1m5s\u001b[0m 79ms/step - loss: 0.0485 - val_loss: 0.0022\n",
            "Epoch 3/150\n",
            "\u001b[1m61/61\u001b[0m \u001b[32m━━━━━━━━━━━━━━━━━━━━\u001b[0m\u001b[37m\u001b[0m \u001b[1m4s\u001b[0m 63ms/step - loss: 0.0481 - val_loss: 0.0020\n",
            "Epoch 4/150\n",
            "\u001b[1m61/61\u001b[0m \u001b[32m━━━━━━━━━━━━━━━━━━━━\u001b[0m\u001b[37m\u001b[0m \u001b[1m5s\u001b[0m 66ms/step - loss: 0.0465 - val_loss: 0.0020\n",
            "Epoch 5/150\n",
            "\u001b[1m61/61\u001b[0m \u001b[32m━━━━━━━━━━━━━━━━━━━━\u001b[0m\u001b[37m\u001b[0m \u001b[1m5s\u001b[0m 64ms/step - loss: 0.0469 - val_loss: 0.0031\n",
            "Epoch 6/150\n",
            "\u001b[1m61/61\u001b[0m \u001b[32m━━━━━━━━━━━━━━━━━━━━\u001b[0m\u001b[37m\u001b[0m \u001b[1m4s\u001b[0m 62ms/step - loss: 0.0469 - val_loss: 0.0025\n",
            "Epoch 7/150\n",
            "\u001b[1m61/61\u001b[0m \u001b[32m━━━━━━━━━━━━━━━━━━━━\u001b[0m\u001b[37m\u001b[0m \u001b[1m5s\u001b[0m 77ms/step - loss: 0.0475 - val_loss: 0.0028\n",
            "Epoch 8/150\n",
            "\u001b[1m61/61\u001b[0m \u001b[32m━━━━━━━━━━━━━━━━━━━━\u001b[0m\u001b[37m\u001b[0m \u001b[1m4s\u001b[0m 63ms/step - loss: 0.0450 - val_loss: 0.0021\n",
            "Epoch 9/150\n",
            "\u001b[1m61/61\u001b[0m \u001b[32m━━━━━━━━━━━━━━━━━━━━\u001b[0m\u001b[37m\u001b[0m \u001b[1m4s\u001b[0m 63ms/step - loss: 0.0469 - val_loss: 0.0018\n",
            "Epoch 10/150\n",
            "\u001b[1m61/61\u001b[0m \u001b[32m━━━━━━━━━━━━━━━━━━━━\u001b[0m\u001b[37m\u001b[0m \u001b[1m6s\u001b[0m 79ms/step - loss: 0.0469 - val_loss: 0.0021\n",
            "Epoch 11/150\n",
            "\u001b[1m61/61\u001b[0m \u001b[32m━━━━━━━━━━━━━━━━━━━━\u001b[0m\u001b[37m\u001b[0m \u001b[1m4s\u001b[0m 67ms/step - loss: 0.0469 - val_loss: 0.0022\n",
            "Epoch 12/150\n",
            "\u001b[1m61/61\u001b[0m \u001b[32m━━━━━━━━━━━━━━━━━━━━\u001b[0m\u001b[37m\u001b[0m \u001b[1m4s\u001b[0m 66ms/step - loss: 0.0456 - val_loss: 0.0023\n",
            "Epoch 13/150\n",
            "\u001b[1m61/61\u001b[0m \u001b[32m━━━━━━━━━━━━━━━━━━━━\u001b[0m\u001b[37m\u001b[0m \u001b[1m5s\u001b[0m 64ms/step - loss: 0.0470 - val_loss: 0.0021\n",
            "Epoch 14/150\n",
            "\u001b[1m61/61\u001b[0m \u001b[32m━━━━━━━━━━━━━━━━━━━━\u001b[0m\u001b[37m\u001b[0m \u001b[1m5s\u001b[0m 64ms/step - loss: 0.0479 - val_loss: 0.0023\n",
            "Epoch 15/150\n",
            "\u001b[1m61/61\u001b[0m \u001b[32m━━━━━━━━━━━━━━━━━━━━\u001b[0m\u001b[37m\u001b[0m \u001b[1m7s\u001b[0m 100ms/step - loss: 0.0475 - val_loss: 0.0021\n",
            "Epoch 16/150\n",
            "\u001b[1m61/61\u001b[0m \u001b[32m━━━━━━━━━━━━━━━━━━━━\u001b[0m\u001b[37m\u001b[0m \u001b[1m4s\u001b[0m 64ms/step - loss: 0.0476 - val_loss: 0.0022\n",
            "Epoch 17/150\n",
            "\u001b[1m61/61\u001b[0m \u001b[32m━━━━━━━━━━━━━━━━━━━━\u001b[0m\u001b[37m\u001b[0m \u001b[1m5s\u001b[0m 76ms/step - loss: 0.0468 - val_loss: 0.0023\n",
            "Epoch 18/150\n",
            "\u001b[1m61/61\u001b[0m \u001b[32m━━━━━━━━━━━━━━━━━━━━\u001b[0m\u001b[37m\u001b[0m \u001b[1m4s\u001b[0m 63ms/step - loss: 0.0479 - val_loss: 0.0023\n",
            "Epoch 19/150\n",
            "\u001b[1m61/61\u001b[0m \u001b[32m━━━━━━━━━━━━━━━━━━━━\u001b[0m\u001b[37m\u001b[0m \u001b[1m4s\u001b[0m 64ms/step - loss: 0.0475 - val_loss: 0.0026\n",
            "Epoch 20/150\n",
            "\u001b[1m61/61\u001b[0m \u001b[32m━━━━━━━━━━━━━━━━━━━━\u001b[0m\u001b[37m\u001b[0m \u001b[1m5s\u001b[0m 75ms/step - loss: 0.0476 - val_loss: 0.0018\n",
            "Epoch 21/150\n",
            "\u001b[1m61/61\u001b[0m \u001b[32m━━━━━━━━━━━━━━━━━━━━\u001b[0m\u001b[37m\u001b[0m \u001b[1m4s\u001b[0m 62ms/step - loss: 0.0459 - val_loss: 0.0017\n",
            "Epoch 22/150\n",
            "\u001b[1m61/61\u001b[0m \u001b[32m━━━━━━━━━━━━━━━━━━━━\u001b[0m\u001b[37m\u001b[0m \u001b[1m5s\u001b[0m 63ms/step - loss: 0.0480 - val_loss: 0.0024\n",
            "Epoch 23/150\n",
            "\u001b[1m61/61\u001b[0m \u001b[32m━━━━━━━━━━━━━━━━━━━━\u001b[0m\u001b[37m\u001b[0m \u001b[1m5s\u001b[0m 65ms/step - loss: 0.0447 - val_loss: 0.0021\n",
            "Epoch 24/150\n",
            "\u001b[1m61/61\u001b[0m \u001b[32m━━━━━━━━━━━━━━━━━━━━\u001b[0m\u001b[37m\u001b[0m \u001b[1m4s\u001b[0m 63ms/step - loss: 0.0471 - val_loss: 0.0021\n",
            "Epoch 25/150\n",
            "\u001b[1m61/61\u001b[0m \u001b[32m━━━━━━━━━━━━━━━━━━━━\u001b[0m\u001b[37m\u001b[0m \u001b[1m6s\u001b[0m 77ms/step - loss: 0.0463 - val_loss: 0.0021\n",
            "Epoch 26/150\n",
            "\u001b[1m61/61\u001b[0m \u001b[32m━━━━━━━━━━━━━━━━━━━━\u001b[0m\u001b[37m\u001b[0m \u001b[1m4s\u001b[0m 64ms/step - loss: 0.0453 - val_loss: 0.0022\n",
            "Epoch 27/150\n",
            "\u001b[1m61/61\u001b[0m \u001b[32m━━━━━━━━━━━━━━━━━━━━\u001b[0m\u001b[37m\u001b[0m \u001b[1m5s\u001b[0m 70ms/step - loss: 0.0465 - val_loss: 0.0020\n",
            "Epoch 28/150\n",
            "\u001b[1m61/61\u001b[0m \u001b[32m━━━━━━━━━━━━━━━━━━━━\u001b[0m\u001b[37m\u001b[0m \u001b[1m5s\u001b[0m 63ms/step - loss: 0.0460 - val_loss: 0.0021\n",
            "Epoch 29/150\n",
            "\u001b[1m61/61\u001b[0m \u001b[32m━━━━━━━━━━━━━━━━━━━━\u001b[0m\u001b[37m\u001b[0m \u001b[1m4s\u001b[0m 64ms/step - loss: 0.0444 - val_loss: 0.0024\n",
            "Epoch 30/150\n",
            "\u001b[1m61/61\u001b[0m \u001b[32m━━━━━━━━━━━━━━━━━━━━\u001b[0m\u001b[37m\u001b[0m \u001b[1m5s\u001b[0m 78ms/step - loss: 0.0464 - val_loss: 0.0019\n",
            "Epoch 31/150\n",
            "\u001b[1m61/61\u001b[0m \u001b[32m━━━━━━━━━━━━━━━━━━━━\u001b[0m\u001b[37m\u001b[0m \u001b[1m4s\u001b[0m 67ms/step - loss: 0.0463 - val_loss: 0.0019\n",
            "Epoch 32/150\n",
            "\u001b[1m61/61\u001b[0m \u001b[32m━━━━━━━━━━━━━━━━━━━━\u001b[0m\u001b[37m\u001b[0m \u001b[1m5s\u001b[0m 64ms/step - loss: 0.0453 - val_loss: 0.0019\n",
            "Epoch 33/150\n",
            "\u001b[1m61/61\u001b[0m \u001b[32m━━━━━━━━━━━━━━━━━━━━\u001b[0m\u001b[37m\u001b[0m \u001b[1m5s\u001b[0m 68ms/step - loss: 0.0468 - val_loss: 0.0022\n",
            "Epoch 34/150\n",
            "\u001b[1m61/61\u001b[0m \u001b[32m━━━━━━━━━━━━━━━━━━━━\u001b[0m\u001b[37m\u001b[0m \u001b[1m5s\u001b[0m 63ms/step - loss: 0.0486 - val_loss: 0.0020\n",
            "Epoch 35/150\n",
            "\u001b[1m61/61\u001b[0m \u001b[32m━━━━━━━━━━━━━━━━━━━━\u001b[0m\u001b[37m\u001b[0m \u001b[1m5s\u001b[0m 76ms/step - loss: 0.0447 - val_loss: 0.0024\n",
            "Epoch 36/150\n",
            "\u001b[1m61/61\u001b[0m \u001b[32m━━━━━━━━━━━━━━━━━━━━\u001b[0m\u001b[37m\u001b[0m \u001b[1m4s\u001b[0m 64ms/step - loss: 0.0483 - val_loss: 0.0019\n",
            "Epoch 37/150\n",
            "\u001b[1m61/61\u001b[0m \u001b[32m━━━━━━━━━━━━━━━━━━━━\u001b[0m\u001b[37m\u001b[0m \u001b[1m4s\u001b[0m 64ms/step - loss: 0.0463 - val_loss: 0.0021\n",
            "Epoch 38/150\n",
            "\u001b[1m61/61\u001b[0m \u001b[32m━━━━━━━━━━━━━━━━━━━━\u001b[0m\u001b[37m\u001b[0m \u001b[1m5s\u001b[0m 79ms/step - loss: 0.0467 - val_loss: 0.0019\n",
            "Epoch 39/150\n",
            "\u001b[1m61/61\u001b[0m \u001b[32m━━━━━━━━━━━━━━━━━━━━\u001b[0m\u001b[37m\u001b[0m \u001b[1m4s\u001b[0m 65ms/step - loss: 0.0460 - val_loss: 0.0022\n",
            "Epoch 40/150\n",
            "\u001b[1m61/61\u001b[0m \u001b[32m━━━━━━━━━━━━━━━━━━━━\u001b[0m\u001b[37m\u001b[0m \u001b[1m4s\u001b[0m 63ms/step - loss: 0.0463 - val_loss: 0.0022\n",
            "Epoch 41/150\n",
            "\u001b[1m61/61\u001b[0m \u001b[32m━━━━━━━━━━━━━━━━━━━━\u001b[0m\u001b[37m\u001b[0m \u001b[1m5s\u001b[0m 75ms/step - loss: 0.0428 - val_loss: 0.0026\n",
            "Epoch 42/150\n",
            "\u001b[1m61/61\u001b[0m \u001b[32m━━━━━━━━━━━━━━━━━━━━\u001b[0m\u001b[37m\u001b[0m \u001b[1m4s\u001b[0m 62ms/step - loss: 0.0476 - val_loss: 0.0017\n",
            "Epoch 43/150\n",
            "\u001b[1m61/61\u001b[0m \u001b[32m━━━━━━━━━━━━━━━━━━━━\u001b[0m\u001b[37m\u001b[0m \u001b[1m6s\u001b[0m 78ms/step - loss: 0.0462 - val_loss: 0.0019\n",
            "Epoch 44/150\n",
            "\u001b[1m61/61\u001b[0m \u001b[32m━━━━━━━━━━━━━━━━━━━━\u001b[0m\u001b[37m\u001b[0m \u001b[1m4s\u001b[0m 64ms/step - loss: 0.0445 - val_loss: 0.0023\n",
            "Epoch 45/150\n",
            "\u001b[1m61/61\u001b[0m \u001b[32m━━━━━━━━━━━━━━━━━━━━\u001b[0m\u001b[37m\u001b[0m \u001b[1m5s\u001b[0m 63ms/step - loss: 0.0447 - val_loss: 0.0023\n",
            "Epoch 46/150\n",
            "\u001b[1m61/61\u001b[0m \u001b[32m━━━━━━━━━━━━━━━━━━━━\u001b[0m\u001b[37m\u001b[0m \u001b[1m6s\u001b[0m 71ms/step - loss: 0.0457 - val_loss: 0.0022\n",
            "Epoch 47/150\n",
            "\u001b[1m61/61\u001b[0m \u001b[32m━━━━━━━━━━━━━━━━━━━━\u001b[0m\u001b[37m\u001b[0m \u001b[1m5s\u001b[0m 63ms/step - loss: 0.0465 - val_loss: 0.0017\n",
            "Epoch 48/150\n",
            "\u001b[1m61/61\u001b[0m \u001b[32m━━━━━━━━━━━━━━━━━━━━\u001b[0m\u001b[37m\u001b[0m \u001b[1m5s\u001b[0m 76ms/step - loss: 0.0456 - val_loss: 0.0021\n",
            "Epoch 49/150\n",
            "\u001b[1m61/61\u001b[0m \u001b[32m━━━━━━━━━━━━━━━━━━━━\u001b[0m\u001b[37m\u001b[0m \u001b[1m4s\u001b[0m 65ms/step - loss: 0.0456 - val_loss: 0.0020\n",
            "Epoch 50/150\n",
            "\u001b[1m61/61\u001b[0m \u001b[32m━━━━━━━━━━━━━━━━━━━━\u001b[0m\u001b[37m\u001b[0m \u001b[1m5s\u001b[0m 65ms/step - loss: 0.0465 - val_loss: 0.0018\n",
            "Epoch 51/150\n",
            "\u001b[1m61/61\u001b[0m \u001b[32m━━━━━━━━━━━━━━━━━━━━\u001b[0m\u001b[37m\u001b[0m \u001b[1m5s\u001b[0m 69ms/step - loss: 0.0462 - val_loss: 0.0024\n",
            "Epoch 52/150\n",
            "\u001b[1m61/61\u001b[0m \u001b[32m━━━━━━━━━━━━━━━━━━━━\u001b[0m\u001b[37m\u001b[0m \u001b[1m5s\u001b[0m 64ms/step - loss: 0.0479 - val_loss: 0.0021\n",
            "Epoch 53/150\n",
            "\u001b[1m61/61\u001b[0m \u001b[32m━━━━━━━━━━━━━━━━━━━━\u001b[0m\u001b[37m\u001b[0m \u001b[1m6s\u001b[0m 76ms/step - loss: 0.0448 - val_loss: 0.0023\n",
            "Epoch 54/150\n",
            "\u001b[1m61/61\u001b[0m \u001b[32m━━━━━━━━━━━━━━━━━━━━\u001b[0m\u001b[37m\u001b[0m \u001b[1m5s\u001b[0m 66ms/step - loss: 0.0456 - val_loss: 0.0019\n",
            "Epoch 55/150\n",
            "\u001b[1m61/61\u001b[0m \u001b[32m━━━━━━━━━━━━━━━━━━━━\u001b[0m\u001b[37m\u001b[0m \u001b[1m6s\u001b[0m 76ms/step - loss: 0.0479 - val_loss: 0.0019\n",
            "Epoch 56/150\n",
            "\u001b[1m61/61\u001b[0m \u001b[32m━━━━━━━━━━━━━━━━━━━━\u001b[0m\u001b[37m\u001b[0m \u001b[1m4s\u001b[0m 66ms/step - loss: 0.0471 - val_loss: 0.0020\n",
            "Epoch 57/150\n",
            "\u001b[1m61/61\u001b[0m \u001b[32m━━━━━━━━━━━━━━━━━━━━\u001b[0m\u001b[37m\u001b[0m \u001b[1m4s\u001b[0m 63ms/step - loss: 0.0478 - val_loss: 0.0018\n",
            "Epoch 58/150\n",
            "\u001b[1m61/61\u001b[0m \u001b[32m━━━━━━━━━━━━━━━━━━━━\u001b[0m\u001b[37m\u001b[0m \u001b[1m6s\u001b[0m 76ms/step - loss: 0.0481 - val_loss: 0.0019\n",
            "Epoch 59/150\n",
            "\u001b[1m61/61\u001b[0m \u001b[32m━━━━━━━━━━━━━━━━━━━━\u001b[0m\u001b[37m\u001b[0m \u001b[1m4s\u001b[0m 65ms/step - loss: 0.0468 - val_loss: 0.0019\n",
            "Epoch 60/150\n",
            "\u001b[1m61/61\u001b[0m \u001b[32m━━━━━━━━━━━━━━━━━━━━\u001b[0m\u001b[37m\u001b[0m \u001b[1m6s\u001b[0m 76ms/step - loss: 0.0462 - val_loss: 0.0018\n",
            "Epoch 61/150\n",
            "\u001b[1m61/61\u001b[0m \u001b[32m━━━━━━━━━━━━━━━━━━━━\u001b[0m\u001b[37m\u001b[0m \u001b[1m5s\u001b[0m 67ms/step - loss: 0.0473 - val_loss: 0.0024\n",
            "Epoch 62/150\n",
            "\u001b[1m61/61\u001b[0m \u001b[32m━━━━━━━━━━━━━━━━━━━━\u001b[0m\u001b[37m\u001b[0m \u001b[1m4s\u001b[0m 65ms/step - loss: 0.0473 - val_loss: 0.0018\n",
            "Epoch 63/150\n",
            "\u001b[1m61/61\u001b[0m \u001b[32m━━━━━━━━━━━━━━━━━━━━\u001b[0m\u001b[37m\u001b[0m \u001b[1m5s\u001b[0m 78ms/step - loss: 0.0469 - val_loss: 0.0019\n",
            "Epoch 64/150\n",
            "\u001b[1m61/61\u001b[0m \u001b[32m━━━━━━━━━━━━━━━━━━━━\u001b[0m\u001b[37m\u001b[0m \u001b[1m4s\u001b[0m 63ms/step - loss: 0.0470 - val_loss: 0.0017\n",
            "Epoch 65/150\n",
            "\u001b[1m61/61\u001b[0m \u001b[32m━━━━━━━━━━━━━━━━━━━━\u001b[0m\u001b[37m\u001b[0m \u001b[1m4s\u001b[0m 63ms/step - loss: 0.0464 - val_loss: 0.0023\n",
            "Epoch 66/150\n",
            "\u001b[1m61/61\u001b[0m \u001b[32m━━━━━━━━━━━━━━━━━━━━\u001b[0m\u001b[37m\u001b[0m \u001b[1m5s\u001b[0m 76ms/step - loss: 0.0462 - val_loss: 0.0022\n",
            "Epoch 67/150\n",
            "\u001b[1m61/61\u001b[0m \u001b[32m━━━━━━━━━━━━━━━━━━━━\u001b[0m\u001b[37m\u001b[0m \u001b[1m4s\u001b[0m 64ms/step - loss: 0.0464 - val_loss: 0.0023\n",
            "Epoch 68/150\n",
            "\u001b[1m61/61\u001b[0m \u001b[32m━━━━━━━━━━━━━━━━━━━━\u001b[0m\u001b[37m\u001b[0m \u001b[1m6s\u001b[0m 81ms/step - loss: 0.0463 - val_loss: 0.0023\n",
            "Epoch 69/150\n",
            "\u001b[1m61/61\u001b[0m \u001b[32m━━━━━━━━━━━━━━━━━━━━\u001b[0m\u001b[37m\u001b[0m \u001b[1m4s\u001b[0m 67ms/step - loss: 0.0444 - val_loss: 0.0019\n",
            "Epoch 70/150\n",
            "\u001b[1m61/61\u001b[0m \u001b[32m━━━━━━━━━━━━━━━━━━━━\u001b[0m\u001b[37m\u001b[0m \u001b[1m5s\u001b[0m 67ms/step - loss: 0.0457 - val_loss: 0.0023\n",
            "Epoch 71/150\n",
            "\u001b[1m61/61\u001b[0m \u001b[32m━━━━━━━━━━━━━━━━━━━━\u001b[0m\u001b[37m\u001b[0m \u001b[1m5s\u001b[0m 70ms/step - loss: 0.0457 - val_loss: 0.0020\n",
            "Epoch 72/150\n",
            "\u001b[1m61/61\u001b[0m \u001b[32m━━━━━━━━━━━━━━━━━━━━\u001b[0m\u001b[37m\u001b[0m \u001b[1m5s\u001b[0m 65ms/step - loss: 0.0452 - val_loss: 0.0023\n",
            "Epoch 73/150\n",
            "\u001b[1m61/61\u001b[0m \u001b[32m━━━━━━━━━━━━━━━━━━━━\u001b[0m\u001b[37m\u001b[0m \u001b[1m5s\u001b[0m 78ms/step - loss: 0.0428 - val_loss: 0.0024\n",
            "Epoch 74/150\n",
            "\u001b[1m61/61\u001b[0m \u001b[32m━━━━━━━━━━━━━━━━━━━━\u001b[0m\u001b[37m\u001b[0m \u001b[1m4s\u001b[0m 66ms/step - loss: 0.0491 - val_loss: 0.0021\n",
            "Epoch 75/150\n",
            "\u001b[1m61/61\u001b[0m \u001b[32m━━━━━━━━━━━━━━━━━━━━\u001b[0m\u001b[37m\u001b[0m \u001b[1m5s\u001b[0m 68ms/step - loss: 0.0457 - val_loss: 0.0022\n",
            "Epoch 76/150\n",
            "\u001b[1m61/61\u001b[0m \u001b[32m━━━━━━━━━━━━━━━━━━━━\u001b[0m\u001b[37m\u001b[0m \u001b[1m5s\u001b[0m 77ms/step - loss: 0.0465 - val_loss: 0.0022\n",
            "Epoch 77/150\n",
            "\u001b[1m61/61\u001b[0m \u001b[32m━━━━━━━━━━━━━━━━━━━━\u001b[0m\u001b[37m\u001b[0m \u001b[1m4s\u001b[0m 66ms/step - loss: 0.0463 - val_loss: 0.0020\n",
            "Epoch 78/150\n",
            "\u001b[1m61/61\u001b[0m \u001b[32m━━━━━━━━━━━━━━━━━━━━\u001b[0m\u001b[37m\u001b[0m \u001b[1m6s\u001b[0m 77ms/step - loss: 0.0467 - val_loss: 0.0023\n",
            "Epoch 79/150\n",
            "\u001b[1m61/61\u001b[0m \u001b[32m━━━━━━━━━━━━━━━━━━━━\u001b[0m\u001b[37m\u001b[0m \u001b[1m4s\u001b[0m 64ms/step - loss: 0.0466 - val_loss: 0.0024\n",
            "Epoch 80/150\n",
            "\u001b[1m61/61\u001b[0m \u001b[32m━━━━━━━━━━━━━━━━━━━━\u001b[0m\u001b[37m\u001b[0m \u001b[1m5s\u001b[0m 68ms/step - loss: 0.0465 - val_loss: 0.0019\n",
            "Epoch 81/150\n",
            "\u001b[1m61/61\u001b[0m \u001b[32m━━━━━━━━━━━━━━━━━━━━\u001b[0m\u001b[37m\u001b[0m \u001b[1m5s\u001b[0m 80ms/step - loss: 0.0463 - val_loss: 0.0015\n",
            "Epoch 82/150\n",
            "\u001b[1m61/61\u001b[0m \u001b[32m━━━━━━━━━━━━━━━━━━━━\u001b[0m\u001b[37m\u001b[0m \u001b[1m4s\u001b[0m 67ms/step - loss: 0.0468 - val_loss: 0.0019\n",
            "Epoch 83/150\n",
            "\u001b[1m61/61\u001b[0m \u001b[32m━━━━━━━━━━━━━━━━━━━━\u001b[0m\u001b[37m\u001b[0m \u001b[1m6s\u001b[0m 80ms/step - loss: 0.0460 - val_loss: 0.0021\n",
            "Epoch 84/150\n",
            "\u001b[1m61/61\u001b[0m \u001b[32m━━━━━━━━━━━━━━━━━━━━\u001b[0m\u001b[37m\u001b[0m \u001b[1m4s\u001b[0m 65ms/step - loss: 0.0445 - val_loss: 0.0024\n",
            "Epoch 85/150\n",
            "\u001b[1m61/61\u001b[0m \u001b[32m━━━━━━━━━━━━━━━━━━━━\u001b[0m\u001b[37m\u001b[0m \u001b[1m5s\u001b[0m 68ms/step - loss: 0.0453 - val_loss: 0.0019\n",
            "Epoch 86/150\n",
            "\u001b[1m61/61\u001b[0m \u001b[32m━━━━━━━━━━━━━━━━━━━━\u001b[0m\u001b[37m\u001b[0m \u001b[1m5s\u001b[0m 68ms/step - loss: 0.0469 - val_loss: 0.0018\n",
            "Epoch 87/150\n",
            "\u001b[1m61/61\u001b[0m \u001b[32m━━━━━━━━━━━━━━━━━━━━\u001b[0m\u001b[37m\u001b[0m \u001b[1m5s\u001b[0m 65ms/step - loss: 0.0482 - val_loss: 0.0019\n",
            "Epoch 88/150\n",
            "\u001b[1m61/61\u001b[0m \u001b[32m━━━━━━━━━━━━━━━━━━━━\u001b[0m\u001b[37m\u001b[0m \u001b[1m6s\u001b[0m 77ms/step - loss: 0.0457 - val_loss: 0.0023\n",
            "Epoch 89/150\n",
            "\u001b[1m61/61\u001b[0m \u001b[32m━━━━━━━━━━━━━━━━━━━━\u001b[0m\u001b[37m\u001b[0m \u001b[1m4s\u001b[0m 65ms/step - loss: 0.0468 - val_loss: 0.0021\n",
            "Epoch 90/150\n",
            "\u001b[1m61/61\u001b[0m \u001b[32m━━━━━━━━━━━━━━━━━━━━\u001b[0m\u001b[37m\u001b[0m \u001b[1m6s\u001b[0m 78ms/step - loss: 0.0476 - val_loss: 0.0022\n",
            "Epoch 91/150\n",
            "\u001b[1m61/61\u001b[0m \u001b[32m━━━━━━━━━━━━━━━━━━━━\u001b[0m\u001b[37m\u001b[0m \u001b[1m4s\u001b[0m 67ms/step - loss: 0.0476 - val_loss: 0.0018\n",
            "Epoch 92/150\n",
            "\u001b[1m61/61\u001b[0m \u001b[32m━━━━━━━━━━━━━━━━━━━━\u001b[0m\u001b[37m\u001b[0m \u001b[1m5s\u001b[0m 66ms/step - loss: 0.0478 - val_loss: 0.0018\n",
            "Epoch 93/150\n",
            "\u001b[1m61/61\u001b[0m \u001b[32m━━━━━━━━━━━━━━━━━━━━\u001b[0m\u001b[37m\u001b[0m \u001b[1m5s\u001b[0m 76ms/step - loss: 0.0464 - val_loss: 0.0023\n",
            "Epoch 94/150\n",
            "\u001b[1m61/61\u001b[0m \u001b[32m━━━━━━━━━━━━━━━━━━━━\u001b[0m\u001b[37m\u001b[0m \u001b[1m4s\u001b[0m 65ms/step - loss: 0.0487 - val_loss: 0.0018\n",
            "Epoch 95/150\n",
            "\u001b[1m61/61\u001b[0m \u001b[32m━━━━━━━━━━━━━━━━━━━━\u001b[0m\u001b[37m\u001b[0m \u001b[1m4s\u001b[0m 71ms/step - loss: 0.0468 - val_loss: 0.0021\n",
            "Epoch 96/150\n",
            "\u001b[1m61/61\u001b[0m \u001b[32m━━━━━━━━━━━━━━━━━━━━\u001b[0m\u001b[37m\u001b[0m \u001b[1m4s\u001b[0m 72ms/step - loss: 0.0461 - val_loss: 0.0020\n",
            "Epoch 97/150\n",
            "\u001b[1m61/61\u001b[0m \u001b[32m━━━━━━━━━━━━━━━━━━━━\u001b[0m\u001b[37m\u001b[0m \u001b[1m4s\u001b[0m 66ms/step - loss: 0.0482 - val_loss: 0.0021\n",
            "Epoch 98/150\n",
            "\u001b[1m61/61\u001b[0m \u001b[32m━━━━━━━━━━━━━━━━━━━━\u001b[0m\u001b[37m\u001b[0m \u001b[1m5s\u001b[0m 80ms/step - loss: 0.0455 - val_loss: 0.0020\n",
            "Epoch 99/150\n",
            "\u001b[1m61/61\u001b[0m \u001b[32m━━━━━━━━━━━━━━━━━━━━\u001b[0m\u001b[37m\u001b[0m \u001b[1m4s\u001b[0m 66ms/step - loss: 0.0463 - val_loss: 0.0024\n",
            "Epoch 100/150\n",
            "\u001b[1m61/61\u001b[0m \u001b[32m━━━━━━━━━━━━━━━━━━━━\u001b[0m\u001b[37m\u001b[0m \u001b[1m4s\u001b[0m 65ms/step - loss: 0.0486 - val_loss: 0.0021\n",
            "Epoch 101/150\n",
            "\u001b[1m61/61\u001b[0m \u001b[32m━━━━━━━━━━━━━━━━━━━━\u001b[0m\u001b[37m\u001b[0m \u001b[1m6s\u001b[0m 76ms/step - loss: 0.0470 - val_loss: 0.0021\n",
            "Epoch 102/150\n",
            "\u001b[1m61/61\u001b[0m \u001b[32m━━━━━━━━━━━━━━━━━━━━\u001b[0m\u001b[37m\u001b[0m \u001b[1m4s\u001b[0m 64ms/step - loss: 0.0471 - val_loss: 0.0021\n",
            "Epoch 103/150\n",
            "\u001b[1m61/61\u001b[0m \u001b[32m━━━━━━━━━━━━━━━━━━━━\u001b[0m\u001b[37m\u001b[0m \u001b[1m6s\u001b[0m 75ms/step - loss: 0.0477 - val_loss: 0.0022\n",
            "Epoch 104/150\n",
            "\u001b[1m61/61\u001b[0m \u001b[32m━━━━━━━━━━━━━━━━━━━━\u001b[0m\u001b[37m\u001b[0m \u001b[1m4s\u001b[0m 66ms/step - loss: 0.0453 - val_loss: 0.0020\n",
            "Epoch 105/150\n",
            "\u001b[1m61/61\u001b[0m \u001b[32m━━━━━━━━━━━━━━━━━━━━\u001b[0m\u001b[37m\u001b[0m \u001b[1m4s\u001b[0m 64ms/step - loss: 0.0447 - val_loss: 0.0023\n",
            "Epoch 106/150\n",
            "\u001b[1m61/61\u001b[0m \u001b[32m━━━━━━━━━━━━━━━━━━━━\u001b[0m\u001b[37m\u001b[0m \u001b[1m5s\u001b[0m 79ms/step - loss: 0.0460 - val_loss: 0.0020\n",
            "Epoch 107/150\n",
            "\u001b[1m61/61\u001b[0m \u001b[32m━━━━━━━━━━━━━━━━━━━━\u001b[0m\u001b[37m\u001b[0m \u001b[1m4s\u001b[0m 68ms/step - loss: 0.0460 - val_loss: 0.0022\n",
            "Epoch 108/150\n",
            "\u001b[1m61/61\u001b[0m \u001b[32m━━━━━━━━━━━━━━━━━━━━\u001b[0m\u001b[37m\u001b[0m \u001b[1m5s\u001b[0m 65ms/step - loss: 0.0464 - val_loss: 0.0021\n",
            "Epoch 109/150\n",
            "\u001b[1m61/61\u001b[0m \u001b[32m━━━━━━━━━━━━━━━━━━━━\u001b[0m\u001b[37m\u001b[0m \u001b[1m5s\u001b[0m 78ms/step - loss: 0.0454 - val_loss: 0.0018\n",
            "Epoch 110/150\n",
            "\u001b[1m61/61\u001b[0m \u001b[32m━━━━━━━━━━━━━━━━━━━━\u001b[0m\u001b[37m\u001b[0m \u001b[1m4s\u001b[0m 66ms/step - loss: 0.0458 - val_loss: 0.0021\n",
            "Epoch 111/150\n",
            "\u001b[1m61/61\u001b[0m \u001b[32m━━━━━━━━━━━━━━━━━━━━\u001b[0m\u001b[37m\u001b[0m \u001b[1m6s\u001b[0m 76ms/step - loss: 0.0476 - val_loss: 0.0018\n",
            "Epoch 112/150\n",
            "\u001b[1m61/61\u001b[0m \u001b[32m━━━━━━━━━━━━━━━━━━━━\u001b[0m\u001b[37m\u001b[0m \u001b[1m4s\u001b[0m 64ms/step - loss: 0.0469 - val_loss: 0.0023\n",
            "Epoch 113/150\n",
            "\u001b[1m61/61\u001b[0m \u001b[32m━━━━━━━━━━━━━━━━━━━━\u001b[0m\u001b[37m\u001b[0m \u001b[1m5s\u001b[0m 66ms/step - loss: 0.0445 - val_loss: 0.0018\n",
            "Epoch 114/150\n",
            "\u001b[1m61/61\u001b[0m \u001b[32m━━━━━━━━━━━━━━━━━━━━\u001b[0m\u001b[37m\u001b[0m \u001b[1m6s\u001b[0m 76ms/step - loss: 0.0469 - val_loss: 0.0022\n",
            "Epoch 115/150\n",
            "\u001b[1m61/61\u001b[0m \u001b[32m━━━━━━━━━━━━━━━━━━━━\u001b[0m\u001b[37m\u001b[0m \u001b[1m5s\u001b[0m 68ms/step - loss: 0.0460 - val_loss: 0.0028\n",
            "Epoch 116/150\n",
            "\u001b[1m61/61\u001b[0m \u001b[32m━━━━━━━━━━━━━━━━━━━━\u001b[0m\u001b[37m\u001b[0m \u001b[1m5s\u001b[0m 77ms/step - loss: 0.0470 - val_loss: 0.0018\n",
            "Epoch 117/150\n",
            "\u001b[1m61/61\u001b[0m \u001b[32m━━━━━━━━━━━━━━━━━━━━\u001b[0m\u001b[37m\u001b[0m \u001b[1m4s\u001b[0m 64ms/step - loss: 0.0464 - val_loss: 0.0023\n",
            "Epoch 118/150\n",
            "\u001b[1m61/61\u001b[0m \u001b[32m━━━━━━━━━━━━━━━━━━━━\u001b[0m\u001b[37m\u001b[0m \u001b[1m4s\u001b[0m 65ms/step - loss: 0.0436 - val_loss: 0.0018\n",
            "Epoch 119/150\n",
            "\u001b[1m61/61\u001b[0m \u001b[32m━━━━━━━━━━━━━━━━━━━━\u001b[0m\u001b[37m\u001b[0m \u001b[1m6s\u001b[0m 81ms/step - loss: 0.0473 - val_loss: 0.0019\n",
            "Epoch 120/150\n",
            "\u001b[1m61/61\u001b[0m \u001b[32m━━━━━━━━━━━━━━━━━━━━\u001b[0m\u001b[37m\u001b[0m \u001b[1m4s\u001b[0m 66ms/step - loss: 0.0462 - val_loss: 0.0019\n",
            "Epoch 121/150\n",
            "\u001b[1m61/61\u001b[0m \u001b[32m━━━━━━━━━━━━━━━━━━━━\u001b[0m\u001b[37m\u001b[0m \u001b[1m6s\u001b[0m 79ms/step - loss: 0.0455 - val_loss: 0.0020\n",
            "Epoch 122/150\n",
            "\u001b[1m61/61\u001b[0m \u001b[32m━━━━━━━━━━━━━━━━━━━━\u001b[0m\u001b[37m\u001b[0m \u001b[1m4s\u001b[0m 66ms/step - loss: 0.0462 - val_loss: 0.0026\n",
            "Epoch 123/150\n",
            "\u001b[1m61/61\u001b[0m \u001b[32m━━━━━━━━━━━━━━━━━━━━\u001b[0m\u001b[37m\u001b[0m \u001b[1m4s\u001b[0m 67ms/step - loss: 0.0484 - val_loss: 0.0022\n",
            "Epoch 124/150\n",
            "\u001b[1m61/61\u001b[0m \u001b[32m━━━━━━━━━━━━━━━━━━━━\u001b[0m\u001b[37m\u001b[0m \u001b[1m5s\u001b[0m 78ms/step - loss: 0.0452 - val_loss: 0.0020\n",
            "Epoch 125/150\n",
            "\u001b[1m61/61\u001b[0m \u001b[32m━━━━━━━━━━━━━━━━━━━━\u001b[0m\u001b[37m\u001b[0m \u001b[1m4s\u001b[0m 65ms/step - loss: 0.0480 - val_loss: 0.0024\n",
            "Epoch 126/150\n",
            "\u001b[1m61/61\u001b[0m \u001b[32m━━━━━━━━━━━━━━━━━━━━\u001b[0m\u001b[37m\u001b[0m \u001b[1m4s\u001b[0m 67ms/step - loss: 0.0484 - val_loss: 0.0020\n",
            "Epoch 127/150\n",
            "\u001b[1m61/61\u001b[0m \u001b[32m━━━━━━━━━━━━━━━━━━━━\u001b[0m\u001b[37m\u001b[0m \u001b[1m5s\u001b[0m 73ms/step - loss: 0.0471 - val_loss: 0.0017\n",
            "Epoch 128/150\n",
            "\u001b[1m61/61\u001b[0m \u001b[32m━━━━━━━━━━━━━━━━━━━━\u001b[0m\u001b[37m\u001b[0m \u001b[1m5s\u001b[0m 67ms/step - loss: 0.0475 - val_loss: 0.0019\n",
            "Epoch 129/150\n",
            "\u001b[1m61/61\u001b[0m \u001b[32m━━━━━━━━━━━━━━━━━━━━\u001b[0m\u001b[37m\u001b[0m \u001b[1m5s\u001b[0m 77ms/step - loss: 0.0448 - val_loss: 0.0019\n",
            "Epoch 130/150\n",
            "\u001b[1m61/61\u001b[0m \u001b[32m━━━━━━━━━━━━━━━━━━━━\u001b[0m\u001b[37m\u001b[0m \u001b[1m4s\u001b[0m 71ms/step - loss: 0.0461 - val_loss: 0.0020\n",
            "Epoch 131/150\n",
            "\u001b[1m61/61\u001b[0m \u001b[32m━━━━━━━━━━━━━━━━━━━━\u001b[0m\u001b[37m\u001b[0m \u001b[1m5s\u001b[0m 67ms/step - loss: 0.0496 - val_loss: 0.0020\n",
            "Epoch 132/150\n",
            "\u001b[1m61/61\u001b[0m \u001b[32m━━━━━━━━━━━━━━━━━━━━\u001b[0m\u001b[37m\u001b[0m \u001b[1m6s\u001b[0m 75ms/step - loss: 0.0430 - val_loss: 0.0021\n",
            "Epoch 133/150\n",
            "\u001b[1m61/61\u001b[0m \u001b[32m━━━━━━━━━━━━━━━━━━━━\u001b[0m\u001b[37m\u001b[0m \u001b[1m5s\u001b[0m 67ms/step - loss: 0.0464 - val_loss: 0.0021\n",
            "Epoch 134/150\n",
            "\u001b[1m61/61\u001b[0m \u001b[32m━━━━━━━━━━━━━━━━━━━━\u001b[0m\u001b[37m\u001b[0m \u001b[1m5s\u001b[0m 81ms/step - loss: 0.0452 - val_loss: 0.0022\n",
            "Epoch 135/150\n",
            "\u001b[1m61/61\u001b[0m \u001b[32m━━━━━━━━━━━━━━━━━━━━\u001b[0m\u001b[37m\u001b[0m \u001b[1m4s\u001b[0m 70ms/step - loss: 0.0458 - val_loss: 0.0022\n",
            "Epoch 136/150\n",
            "\u001b[1m61/61\u001b[0m \u001b[32m━━━━━━━━━━━━━━━━━━━━\u001b[0m\u001b[37m\u001b[0m \u001b[1m5s\u001b[0m 71ms/step - loss: 0.0471 - val_loss: 0.0021\n",
            "Epoch 137/150\n",
            "\u001b[1m61/61\u001b[0m \u001b[32m━━━━━━━━━━━━━━━━━━━━\u001b[0m\u001b[37m\u001b[0m \u001b[1m5s\u001b[0m 75ms/step - loss: 0.0475 - val_loss: 0.0022\n",
            "Epoch 138/150\n",
            "\u001b[1m61/61\u001b[0m \u001b[32m━━━━━━━━━━━━━━━━━━━━\u001b[0m\u001b[37m\u001b[0m \u001b[1m4s\u001b[0m 70ms/step - loss: 0.0457 - val_loss: 0.0019\n",
            "Epoch 139/150\n",
            "\u001b[1m61/61\u001b[0m \u001b[32m━━━━━━━━━━━━━━━━━━━━\u001b[0m\u001b[37m\u001b[0m \u001b[1m6s\u001b[0m 81ms/step - loss: 0.0443 - val_loss: 0.0020\n",
            "Epoch 140/150\n",
            "\u001b[1m61/61\u001b[0m \u001b[32m━━━━━━━━━━━━━━━━━━━━\u001b[0m\u001b[37m\u001b[0m \u001b[1m4s\u001b[0m 65ms/step - loss: 0.0439 - val_loss: 0.0019\n",
            "Epoch 141/150\n",
            "\u001b[1m61/61\u001b[0m \u001b[32m━━━━━━━━━━━━━━━━━━━━\u001b[0m\u001b[37m\u001b[0m \u001b[1m5s\u001b[0m 64ms/step - loss: 0.0474 - val_loss: 0.0022\n",
            "Epoch 142/150\n",
            "\u001b[1m61/61\u001b[0m \u001b[32m━━━━━━━━━━━━━━━━━━━━\u001b[0m\u001b[37m\u001b[0m \u001b[1m5s\u001b[0m 77ms/step - loss: 0.0479 - val_loss: 0.0017\n",
            "Epoch 143/150\n",
            "\u001b[1m61/61\u001b[0m \u001b[32m━━━━━━━━━━━━━━━━━━━━\u001b[0m\u001b[37m\u001b[0m \u001b[1m4s\u001b[0m 65ms/step - loss: 0.0479 - val_loss: 0.0016\n",
            "Epoch 144/150\n",
            "\u001b[1m61/61\u001b[0m \u001b[32m━━━━━━━━━━━━━━━━━━━━\u001b[0m\u001b[37m\u001b[0m \u001b[1m6s\u001b[0m 79ms/step - loss: 0.0473 - val_loss: 0.0024\n",
            "Epoch 145/150\n",
            "\u001b[1m61/61\u001b[0m \u001b[32m━━━━━━━━━━━━━━━━━━━━\u001b[0m\u001b[37m\u001b[0m \u001b[1m4s\u001b[0m 66ms/step - loss: 0.0456 - val_loss: 0.0018\n",
            "Epoch 146/150\n",
            "\u001b[1m61/61\u001b[0m \u001b[32m━━━━━━━━━━━━━━━━━━━━\u001b[0m\u001b[37m\u001b[0m \u001b[1m5s\u001b[0m 66ms/step - loss: 0.0437 - val_loss: 0.0025\n",
            "Epoch 147/150\n",
            "\u001b[1m61/61\u001b[0m \u001b[32m━━━━━━━━━━━━━━━━━━━━\u001b[0m\u001b[37m\u001b[0m \u001b[1m6s\u001b[0m 73ms/step - loss: 0.0451 - val_loss: 0.0018\n",
            "Epoch 148/150\n",
            "\u001b[1m61/61\u001b[0m \u001b[32m━━━━━━━━━━━━━━━━━━━━\u001b[0m\u001b[37m\u001b[0m \u001b[1m4s\u001b[0m 65ms/step - loss: 0.0450 - val_loss: 0.0024\n",
            "Epoch 149/150\n",
            "\u001b[1m61/61\u001b[0m \u001b[32m━━━━━━━━━━━━━━━━━━━━\u001b[0m\u001b[37m\u001b[0m \u001b[1m6s\u001b[0m 78ms/step - loss: 0.0463 - val_loss: 0.0019\n",
            "Epoch 150/150\n",
            "\u001b[1m61/61\u001b[0m \u001b[32m━━━━━━━━━━━━━━━━━━━━\u001b[0m\u001b[37m\u001b[0m \u001b[1m4s\u001b[0m 65ms/step - loss: 0.0461 - val_loss: 0.0026\n"
          ]
        }
      ],
      "source": [
        "model = define_model()\n",
        "history = model.fit(X_train, y_train, epochs=150, batch_size=32, validation_split=0.1, verbose=1)"
      ]
    },
    {
      "cell_type": "markdown",
      "id": "3568fdf2",
      "metadata": {
        "papermill": {
          "duration": 0.679958,
          "end_time": "2023-01-13T22:03:27.311138",
          "exception": false,
          "start_time": "2023-01-13T22:03:26.631180",
          "status": "completed"
        },
        "tags": [],
        "id": "3568fdf2"
      },
      "source": [
        "# Step 11: Model Evaluation\n",
        "__Next, we evaluate our time series forecast using MAPE (Mean Absolute Percentage Error) metric:__"
      ]
    },
    {
      "cell_type": "code",
      "execution_count": 38,
      "id": "95b104fd",
      "metadata": {
        "execution": {
          "iopub.execute_input": "2023-01-13T22:03:28.631838Z",
          "iopub.status.busy": "2023-01-13T22:03:28.631090Z",
          "iopub.status.idle": "2023-01-13T22:03:30.811178Z",
          "shell.execute_reply": "2023-01-13T22:03:30.809938Z"
        },
        "papermill": {
          "duration": 2.876801,
          "end_time": "2023-01-13T22:03:30.813914",
          "exception": false,
          "start_time": "2023-01-13T22:03:27.937113",
          "status": "completed"
        },
        "tags": [],
        "id": "95b104fd",
        "outputId": "7f69ca57-ad13-421b-aeb7-a2e19cb607c2",
        "colab": {
          "base_uri": "https://localhost:8080/"
        }
      },
      "outputs": [
        {
          "output_type": "stream",
          "name": "stdout",
          "text": [
            "\u001b[1m3/3\u001b[0m \u001b[32m━━━━━━━━━━━━━━━━━━━━\u001b[0m\u001b[37m\u001b[0m \u001b[1m0s\u001b[0m 33ms/step - loss: 2.8322e-04\n",
            "\u001b[1m3/3\u001b[0m \u001b[32m━━━━━━━━━━━━━━━━━━━━\u001b[0m\u001b[37m\u001b[0m \u001b[1m1s\u001b[0m 205ms/step\n"
          ]
        }
      ],
      "source": [
        "result = model.evaluate(X_test, y_test)\n",
        "y_pred = model.predict(X_test)"
      ]
    },
    {
      "cell_type": "code",
      "execution_count": 39,
      "id": "7bef4e88",
      "metadata": {
        "execution": {
          "iopub.execute_input": "2023-01-13T22:03:32.139606Z",
          "iopub.status.busy": "2023-01-13T22:03:32.138768Z",
          "iopub.status.idle": "2023-01-13T22:03:32.144412Z",
          "shell.execute_reply": "2023-01-13T22:03:32.143639Z"
        },
        "papermill": {
          "duration": 0.697714,
          "end_time": "2023-01-13T22:03:32.146690",
          "exception": false,
          "start_time": "2023-01-13T22:03:31.448976",
          "status": "completed"
        },
        "tags": [],
        "id": "7bef4e88"
      },
      "outputs": [],
      "source": [
        "MAPE = mean_absolute_percentage_error(y_test, y_pred)\n",
        "Accuracy = 1 - MAPE"
      ]
    },
    {
      "cell_type": "code",
      "execution_count": 40,
      "id": "3721530a",
      "metadata": {
        "execution": {
          "iopub.execute_input": "2023-01-13T22:03:33.399676Z",
          "iopub.status.busy": "2023-01-13T22:03:33.398845Z",
          "iopub.status.idle": "2023-01-13T22:03:33.405059Z",
          "shell.execute_reply": "2023-01-13T22:03:33.403683Z"
        },
        "papermill": {
          "duration": 0.634832,
          "end_time": "2023-01-13T22:03:33.407409",
          "exception": false,
          "start_time": "2023-01-13T22:03:32.772577",
          "status": "completed"
        },
        "tags": [],
        "id": "3721530a",
        "outputId": "ac7a3121-4725-4f84-8d24-48a045981604",
        "colab": {
          "base_uri": "https://localhost:8080/"
        }
      },
      "outputs": [
        {
          "output_type": "stream",
          "name": "stdout",
          "text": [
            "Test Loss: 0.00026385311502963305\n",
            "Test MAPE: 0.026225087269968066\n",
            "Test Accuracy: 0.9737749127300319\n"
          ]
        }
      ],
      "source": [
        "print(\"Test Loss:\", result)\n",
        "print(\"Test MAPE:\", MAPE)\n",
        "print(\"Test Accuracy:\", Accuracy)"
      ]
    },
    {
      "cell_type": "markdown",
      "id": "03413159",
      "metadata": {
        "papermill": {
          "duration": 0.630855,
          "end_time": "2023-01-13T22:03:34.722943",
          "exception": false,
          "start_time": "2023-01-13T22:03:34.092088",
          "status": "completed"
        },
        "tags": [],
        "id": "03413159"
      },
      "source": [
        "# Step 12: Visualizing Results"
      ]
    },
    {
      "cell_type": "markdown",
      "id": "bc540865",
      "metadata": {
        "papermill": {
          "duration": 0.690592,
          "end_time": "2023-01-13T22:03:36.071923",
          "exception": false,
          "start_time": "2023-01-13T22:03:35.381331",
          "status": "completed"
        },
        "tags": [],
        "id": "bc540865"
      },
      "source": [
        "__Returning the actual and predicted Price values to their primary scale:__"
      ]
    },
    {
      "cell_type": "code",
      "execution_count": 41,
      "id": "40cc3cfa",
      "metadata": {
        "execution": {
          "iopub.execute_input": "2023-01-13T22:03:37.409990Z",
          "iopub.status.busy": "2023-01-13T22:03:37.409501Z",
          "iopub.status.idle": "2023-01-13T22:03:37.415303Z",
          "shell.execute_reply": "2023-01-13T22:03:37.414234Z"
        },
        "papermill": {
          "duration": 0.700914,
          "end_time": "2023-01-13T22:03:37.417374",
          "exception": false,
          "start_time": "2023-01-13T22:03:36.716460",
          "status": "completed"
        },
        "tags": [],
        "id": "40cc3cfa"
      },
      "outputs": [],
      "source": [
        "y_test_true = scaler.inverse_transform(y_test)\n",
        "y_test_pred = scaler.inverse_transform(y_pred)"
      ]
    },
    {
      "cell_type": "markdown",
      "id": "03d33700",
      "metadata": {
        "papermill": {
          "duration": 0.689811,
          "end_time": "2023-01-13T22:03:38.741150",
          "exception": false,
          "start_time": "2023-01-13T22:03:38.051339",
          "status": "completed"
        },
        "tags": [],
        "id": "03d33700"
      },
      "source": [
        "__Investigating the closeness of the prices predicted by the model to the actual prices:__"
      ]
    },
    {
      "cell_type": "code",
      "execution_count": 45,
      "id": "852df380",
      "metadata": {
        "execution": {
          "iopub.execute_input": "2023-01-13T22:03:40.002983Z",
          "iopub.status.busy": "2023-01-13T22:03:40.002558Z",
          "iopub.status.idle": "2023-01-13T22:03:40.402775Z",
          "shell.execute_reply": "2023-01-13T22:03:40.401658Z"
        },
        "papermill": {
          "duration": 1.024333,
          "end_time": "2023-01-13T22:03:40.405378",
          "exception": false,
          "start_time": "2023-01-13T22:03:39.381045",
          "status": "completed"
        },
        "tags": [],
        "id": "852df380",
        "outputId": "f97b2a42-5ed0-4789-acdc-5451db72c699",
        "colab": {
          "base_uri": "https://localhost:8080/",
          "height": 814
        }
      },
      "outputs": [
        {
          "output_type": "display_data",
          "data": {
            "text/plain": [
              "<Figure size 2250x900 with 1 Axes>"
            ],
            "image/png": "[encoded data removed]"
          },
          "metadata": {}
        }
      ],
      "source": [
        "plt.figure(figsize=(15, 6), dpi=150)\n",
        "plt.rcParams['axes.facecolor'] = 'yellow'\n",
        "plt.rc('axes',edgecolor='white')\n",
        "plt.plot(df['Date'].iloc[:-test_size], scaler.inverse_transform(train_data), color='black', lw=2)\n",
        "plt.plot(df['Date'].iloc[-test_size:], y_test_true, color='blue', lw=2)\n",
        "plt.plot(df['Date'].iloc[-test_size:], y_test_pred, color='red', lw=2)\n",
        "plt.title('Model Performance on Gold Price Prediction', fontsize=15)\n",
        "plt.xlabel('Date', fontsize=12)\n",
        "plt.ylabel('Price', fontsize=12)\n",
        "plt.legend(['Training Data', 'Actual Test Data', 'Predicted Test Data'], loc='upper left', prop={'size': 15})\n",
        "plt.grid(color='white')\n",
        "plt.show()"
      ]
    }
  ],
  "metadata": {
    "kernelspec": {
      "display_name": "Python 3",
      "language": "python",
      "name": "python3"
    },
    "language_info": {
      "codemirror_mode": {
        "name": "ipython",
        "version": 3
      },
      "file_extension": ".py",
      "mimetype": "text/x-python",
      "name": "python",
      "nbconvert_exporter": "python",
      "pygments_lexer": "ipython3",
      "version": "3.7.12"
    },
    "papermill": {
      "default_parameters": {},
      "duration": 1508.433223,
      "end_time": "2023-01-13T22:03:46.377564",
      "environment_variables": {},
      "exception": null,
      "input_path": "__notebook__.ipynb",
      "output_path": "__notebook__.ipynb",
      "parameters": {},
      "start_time": "2023-01-13T21:38:37.944341",
      "version": "2.3.4"
    },
    "colab": {
      "provenance": []
    }
  },
  "nbformat": 4,
  "nbformat_minor": 5
}